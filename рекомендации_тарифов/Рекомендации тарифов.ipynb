{
 "cells": [
  {
   "cell_type": "markdown",
   "metadata": {},
   "source": [
    "# Рекомендации тарифов\n"
   ]
  },
  {
   "cell_type": "markdown",
   "metadata": {},
   "source": [
    "**Описание проекта:**\\\n",
    "Оператор мобильной связи «Мегалайн» выяснил: многие клиенты пользуются архивными тарифами. Они хотят построить систему, способную проанализировать поведение клиентов и предложить пользователям новый тариф: «Смарт» или «Ультра».\n",
    "\n",
    "В вашем распоряжении данные о поведении клиентов, которые уже перешли на эти тарифы (из проекта курса «Статистический анализ данных»). Нужно построить модель для задачи классификации, которая выберет подходящий тариф. Предобработка данных не понадобится — вы её уже сделали.\n",
    "\n",
    "Постройте модель с максимально большим значением *accuracy*. Чтобы сдать проект успешно, нужно довести долю правильных ответов по крайней мере до 0.75. Проверьте *accuracy* на тестовой выборке самостоятельно.\n",
    "\n",
    "\n",
    "**Описание данных:**\\\n",
    "Каждый объект в наборе данных — это информация о поведении одного пользователя за месяц. Известно:\n",
    "\n",
    "`сalls` — количество звонков, \\\n",
    "`minutes` — суммарная длительность звонков в минутах, \\\n",
    "`messages` — количество sms-сообщений, \\\n",
    "`mb_used` — израсходованный интернет-трафик в Мб,\\\n",
    "`is_ultra` — каким тарифом пользовался в течение месяца («Ультра» — 1, «Смарт» — 0)."
   ]
  },
  {
   "cell_type": "markdown",
   "metadata": {},
   "source": [
    "## Откройте и изучите файл"
   ]
  },
  {
   "cell_type": "code",
   "execution_count": 3,
   "metadata": {},
   "outputs": [],
   "source": [
    "import pandas as pd #импортируем необходимые библиотеки\n",
    "from sklearn.model_selection import train_test_split\n",
    "from sklearn.tree import DecisionTreeClassifier\n",
    "from sklearn.ensemble import RandomForestClassifier\n",
    "from sklearn.linear_model import LogisticRegression\n",
    "from sklearn.metrics import mean_squared_error\n",
    "from sklearn.metrics import accuracy_score\n",
    "from sklearn.dummy import DummyClassifier"
   ]
  },
  {
   "cell_type": "code",
   "execution_count": 4,
   "metadata": {},
   "outputs": [
    {
     "data": {
      "text/html": [
       "<div>\n",
       "<style scoped>\n",
       "    .dataframe tbody tr th:only-of-type {\n",
       "        vertical-align: middle;\n",
       "    }\n",
       "\n",
       "    .dataframe tbody tr th {\n",
       "        vertical-align: top;\n",
       "    }\n",
       "\n",
       "    .dataframe thead th {\n",
       "        text-align: right;\n",
       "    }\n",
       "</style>\n",
       "<table border=\"1\" class=\"dataframe\">\n",
       "  <thead>\n",
       "    <tr style=\"text-align: right;\">\n",
       "      <th></th>\n",
       "      <th>calls</th>\n",
       "      <th>minutes</th>\n",
       "      <th>messages</th>\n",
       "      <th>mb_used</th>\n",
       "      <th>is_ultra</th>\n",
       "    </tr>\n",
       "  </thead>\n",
       "  <tbody>\n",
       "    <tr>\n",
       "      <th>0</th>\n",
       "      <td>40.0</td>\n",
       "      <td>311.90</td>\n",
       "      <td>83.0</td>\n",
       "      <td>19915.42</td>\n",
       "      <td>0</td>\n",
       "    </tr>\n",
       "    <tr>\n",
       "      <th>1</th>\n",
       "      <td>85.0</td>\n",
       "      <td>516.75</td>\n",
       "      <td>56.0</td>\n",
       "      <td>22696.96</td>\n",
       "      <td>0</td>\n",
       "    </tr>\n",
       "    <tr>\n",
       "      <th>2</th>\n",
       "      <td>77.0</td>\n",
       "      <td>467.66</td>\n",
       "      <td>86.0</td>\n",
       "      <td>21060.45</td>\n",
       "      <td>0</td>\n",
       "    </tr>\n",
       "    <tr>\n",
       "      <th>3</th>\n",
       "      <td>106.0</td>\n",
       "      <td>745.53</td>\n",
       "      <td>81.0</td>\n",
       "      <td>8437.39</td>\n",
       "      <td>1</td>\n",
       "    </tr>\n",
       "    <tr>\n",
       "      <th>4</th>\n",
       "      <td>66.0</td>\n",
       "      <td>418.74</td>\n",
       "      <td>1.0</td>\n",
       "      <td>14502.75</td>\n",
       "      <td>0</td>\n",
       "    </tr>\n",
       "    <tr>\n",
       "      <th>...</th>\n",
       "      <td>...</td>\n",
       "      <td>...</td>\n",
       "      <td>...</td>\n",
       "      <td>...</td>\n",
       "      <td>...</td>\n",
       "    </tr>\n",
       "    <tr>\n",
       "      <th>3209</th>\n",
       "      <td>122.0</td>\n",
       "      <td>910.98</td>\n",
       "      <td>20.0</td>\n",
       "      <td>35124.90</td>\n",
       "      <td>1</td>\n",
       "    </tr>\n",
       "    <tr>\n",
       "      <th>3210</th>\n",
       "      <td>25.0</td>\n",
       "      <td>190.36</td>\n",
       "      <td>0.0</td>\n",
       "      <td>3275.61</td>\n",
       "      <td>0</td>\n",
       "    </tr>\n",
       "    <tr>\n",
       "      <th>3211</th>\n",
       "      <td>97.0</td>\n",
       "      <td>634.44</td>\n",
       "      <td>70.0</td>\n",
       "      <td>13974.06</td>\n",
       "      <td>0</td>\n",
       "    </tr>\n",
       "    <tr>\n",
       "      <th>3212</th>\n",
       "      <td>64.0</td>\n",
       "      <td>462.32</td>\n",
       "      <td>90.0</td>\n",
       "      <td>31239.78</td>\n",
       "      <td>0</td>\n",
       "    </tr>\n",
       "    <tr>\n",
       "      <th>3213</th>\n",
       "      <td>80.0</td>\n",
       "      <td>566.09</td>\n",
       "      <td>6.0</td>\n",
       "      <td>29480.52</td>\n",
       "      <td>1</td>\n",
       "    </tr>\n",
       "  </tbody>\n",
       "</table>\n",
       "<p>3214 rows × 5 columns</p>\n",
       "</div>"
      ],
      "text/plain": [
       "      calls  minutes  messages   mb_used  is_ultra\n",
       "0      40.0   311.90      83.0  19915.42         0\n",
       "1      85.0   516.75      56.0  22696.96         0\n",
       "2      77.0   467.66      86.0  21060.45         0\n",
       "3     106.0   745.53      81.0   8437.39         1\n",
       "4      66.0   418.74       1.0  14502.75         0\n",
       "...     ...      ...       ...       ...       ...\n",
       "3209  122.0   910.98      20.0  35124.90         1\n",
       "3210   25.0   190.36       0.0   3275.61         0\n",
       "3211   97.0   634.44      70.0  13974.06         0\n",
       "3212   64.0   462.32      90.0  31239.78         0\n",
       "3213   80.0   566.09       6.0  29480.52         1\n",
       "\n",
       "[3214 rows x 5 columns]"
      ]
     },
     "metadata": {},
     "output_type": "display_data"
    }
   ],
   "source": [
    "df = pd.read_csv('https://code.s3.yandex.net/datasets/users_behavior.csv') \n",
    "display(df)"
   ]
  },
  {
   "cell_type": "code",
   "execution_count": 4,
   "metadata": {},
   "outputs": [],
   "source": [
    "df['calls'] = df['calls'].astype('Int64') #приведем звонки и сообщения к целочисленным величинам\n",
    "df['messages'] = df['messages'].astype('Int64')"
   ]
  },
  {
   "cell_type": "code",
   "execution_count": 5,
   "metadata": {},
   "outputs": [
    {
     "data": {
      "text/html": [
       "<div>\n",
       "<style scoped>\n",
       "    .dataframe tbody tr th:only-of-type {\n",
       "        vertical-align: middle;\n",
       "    }\n",
       "\n",
       "    .dataframe tbody tr th {\n",
       "        vertical-align: top;\n",
       "    }\n",
       "\n",
       "    .dataframe thead th {\n",
       "        text-align: right;\n",
       "    }\n",
       "</style>\n",
       "<table border=\"1\" class=\"dataframe\">\n",
       "  <thead>\n",
       "    <tr style=\"text-align: right;\">\n",
       "      <th></th>\n",
       "      <th>calls</th>\n",
       "      <th>minutes</th>\n",
       "      <th>messages</th>\n",
       "      <th>mb_used</th>\n",
       "      <th>is_ultra</th>\n",
       "    </tr>\n",
       "  </thead>\n",
       "  <tbody>\n",
       "    <tr>\n",
       "      <th>0</th>\n",
       "      <td>40</td>\n",
       "      <td>311.90</td>\n",
       "      <td>83</td>\n",
       "      <td>19915.42</td>\n",
       "      <td>0</td>\n",
       "    </tr>\n",
       "    <tr>\n",
       "      <th>1</th>\n",
       "      <td>85</td>\n",
       "      <td>516.75</td>\n",
       "      <td>56</td>\n",
       "      <td>22696.96</td>\n",
       "      <td>0</td>\n",
       "    </tr>\n",
       "    <tr>\n",
       "      <th>2</th>\n",
       "      <td>77</td>\n",
       "      <td>467.66</td>\n",
       "      <td>86</td>\n",
       "      <td>21060.45</td>\n",
       "      <td>0</td>\n",
       "    </tr>\n",
       "    <tr>\n",
       "      <th>3</th>\n",
       "      <td>106</td>\n",
       "      <td>745.53</td>\n",
       "      <td>81</td>\n",
       "      <td>8437.39</td>\n",
       "      <td>1</td>\n",
       "    </tr>\n",
       "    <tr>\n",
       "      <th>4</th>\n",
       "      <td>66</td>\n",
       "      <td>418.74</td>\n",
       "      <td>1</td>\n",
       "      <td>14502.75</td>\n",
       "      <td>0</td>\n",
       "    </tr>\n",
       "    <tr>\n",
       "      <th>...</th>\n",
       "      <td>...</td>\n",
       "      <td>...</td>\n",
       "      <td>...</td>\n",
       "      <td>...</td>\n",
       "      <td>...</td>\n",
       "    </tr>\n",
       "    <tr>\n",
       "      <th>3209</th>\n",
       "      <td>122</td>\n",
       "      <td>910.98</td>\n",
       "      <td>20</td>\n",
       "      <td>35124.90</td>\n",
       "      <td>1</td>\n",
       "    </tr>\n",
       "    <tr>\n",
       "      <th>3210</th>\n",
       "      <td>25</td>\n",
       "      <td>190.36</td>\n",
       "      <td>0</td>\n",
       "      <td>3275.61</td>\n",
       "      <td>0</td>\n",
       "    </tr>\n",
       "    <tr>\n",
       "      <th>3211</th>\n",
       "      <td>97</td>\n",
       "      <td>634.44</td>\n",
       "      <td>70</td>\n",
       "      <td>13974.06</td>\n",
       "      <td>0</td>\n",
       "    </tr>\n",
       "    <tr>\n",
       "      <th>3212</th>\n",
       "      <td>64</td>\n",
       "      <td>462.32</td>\n",
       "      <td>90</td>\n",
       "      <td>31239.78</td>\n",
       "      <td>0</td>\n",
       "    </tr>\n",
       "    <tr>\n",
       "      <th>3213</th>\n",
       "      <td>80</td>\n",
       "      <td>566.09</td>\n",
       "      <td>6</td>\n",
       "      <td>29480.52</td>\n",
       "      <td>1</td>\n",
       "    </tr>\n",
       "  </tbody>\n",
       "</table>\n",
       "<p>3214 rows × 5 columns</p>\n",
       "</div>"
      ],
      "text/plain": [
       "      calls  minutes  messages   mb_used  is_ultra\n",
       "0        40   311.90        83  19915.42         0\n",
       "1        85   516.75        56  22696.96         0\n",
       "2        77   467.66        86  21060.45         0\n",
       "3       106   745.53        81   8437.39         1\n",
       "4        66   418.74         1  14502.75         0\n",
       "...     ...      ...       ...       ...       ...\n",
       "3209    122   910.98        20  35124.90         1\n",
       "3210     25   190.36         0   3275.61         0\n",
       "3211     97   634.44        70  13974.06         0\n",
       "3212     64   462.32        90  31239.78         0\n",
       "3213     80   566.09         6  29480.52         1\n",
       "\n",
       "[3214 rows x 5 columns]"
      ]
     },
     "metadata": {},
     "output_type": "display_data"
    }
   ],
   "source": [
    "display(df)"
   ]
  },
  {
   "cell_type": "code",
   "execution_count": 6,
   "metadata": {},
   "outputs": [
    {
     "name": "stdout",
     "output_type": "stream",
     "text": [
      "<class 'pandas.core.frame.DataFrame'>\n",
      "RangeIndex: 3214 entries, 0 to 3213\n",
      "Data columns (total 5 columns):\n",
      " #   Column    Non-Null Count  Dtype  \n",
      "---  ------    --------------  -----  \n",
      " 0   calls     3214 non-null   Int64  \n",
      " 1   minutes   3214 non-null   float64\n",
      " 2   messages  3214 non-null   Int64  \n",
      " 3   mb_used   3214 non-null   float64\n",
      " 4   is_ultra  3214 non-null   int64  \n",
      "dtypes: Int64(2), float64(2), int64(1)\n",
      "memory usage: 131.9 KB\n"
     ]
    }
   ],
   "source": [
    "df.info()"
   ]
  },
  {
   "cell_type": "markdown",
   "metadata": {},
   "source": [
    "## Разбейте данные на выборки"
   ]
  },
  {
   "cell_type": "markdown",
   "metadata": {},
   "source": [
    "Для начала зададим признаки и целевой признак. В нашем случае целевой признак - это тариф, а параметры - звонки, минуты, сообщения и мегабайты."
   ]
  },
  {
   "cell_type": "code",
   "execution_count": 7,
   "metadata": {},
   "outputs": [],
   "source": [
    "features = df.drop(['is_ultra'], axis=1)\n",
    "target = df['is_ultra']"
   ]
  },
  {
   "cell_type": "markdown",
   "metadata": {},
   "source": [
    "Так как сркытой тестовой выборки нет, разделим датасет на 3 выборки - обучающую (60%), валидационную(20%) и тестовую(20%). Для этого сначала выделим 20% данных для тестовой выборки, а затем разделим оставшиеся 80% на обучающую и валидационную выборки, задав размер валидациооной выборки - 25%."
   ]
  },
  {
   "cell_type": "code",
   "execution_count": 8,
   "metadata": {
    "scrolled": true
   },
   "outputs": [],
   "source": [
    "x, features_test, y, target_test = train_test_split(features, target, test_size=0.2, random_state=12345) #отделяем 20% для тестовой выборки"
   ]
  },
  {
   "cell_type": "code",
   "execution_count": 9,
   "metadata": {},
   "outputs": [],
   "source": [
    "features_train, features_valid, target_train, target_valid = train_test_split(x, y, test_size=0.25, random_state=12345) #делим оставшуюся часть на обучающую и валидационную выборки"
   ]
  },
  {
   "cell_type": "code",
   "execution_count": 10,
   "metadata": {},
   "outputs": [
    {
     "name": "stdout",
     "output_type": "stream",
     "text": [
      "(1928, 4)\n",
      "(1928,)\n",
      "(643, 4)\n",
      "(643,)\n",
      "(643,)\n",
      "(643, 4)\n"
     ]
    }
   ],
   "source": [
    "print(features_train.shape) #проверим размеры выборок\n",
    "print(target_train.shape)\n",
    "print(features_valid.shape)\n",
    "print(target_valid.shape)\n",
    "print(target_test.shape)\n",
    "print(features_test.shape)"
   ]
  },
  {
   "cell_type": "markdown",
   "metadata": {},
   "source": [
    "## Исследуйте модели"
   ]
  },
  {
   "cell_type": "markdown",
   "metadata": {},
   "source": [
    "Рассмотрим 3 модели машинного обучения - решающее дерево, рандомный лес и линейную регрессию. Для определения лучшей модели рассчитаем точность (accuracy).\n",
    "\n",
    "Поскольку наш целевой признак является категориальным, нам нужны модели классификации.\n",
    "\n",
    "Начнем с дерева решений. "
   ]
  },
  {
   "cell_type": "markdown",
   "metadata": {},
   "source": [
    "### Decision Tree"
   ]
  },
  {
   "cell_type": "code",
   "execution_count": 12,
   "metadata": {},
   "outputs": [
    {
     "name": "stdout",
     "output_type": "stream",
     "text": [
      "Точность лучшей модели дерева решений на валидационной выборке: 0.7744945567651633\n"
     ]
    }
   ],
   "source": [
    "best_model_dt = None\n",
    "best_result_dt = 0\n",
    "for depth in range(1, 20):\n",
    "    model_dt = DecisionTreeClassifier(random_state=12345, max_depth=depth, criterion='gini', min_samples_leaf=1, min_samples_split=2) # обучим модель с заданной глубиной дерева\n",
    "    model_dt.fit(features_train, target_train) # обучим модель\n",
    "    predictions_dt = model_dt.predict(features_valid) # получим предсказания модели\n",
    "    result_dt = accuracy_score(target_valid, predictions_dt) # посчитаем качество модели\n",
    "    if result_dt > best_result_dt:\n",
    "        best_model_dt = model_dt    \n",
    "        best_result_dt = result_dt\n",
    "        \n",
    "print(\"Точность лучшей модели дерева решений на валидационной выборке:\", best_result_dt)  "
   ]
  },
  {
   "cell_type": "markdown",
   "metadata": {},
   "source": [
    "<div class=\"alert-warning\"> \n",
    "<b>Комментарий ревьюера 💡 </b>\n",
    "\n",
    "Рассмотрен только один гиперпараметр, да и то в котором не очень большой диапазон значений для перебора параметров. Хотелось бы побольше что-нибудь посмотреть"
   ]
  },
  {
   "cell_type": "markdown",
   "metadata": {},
   "source": [
    "### Random Forest"
   ]
  },
  {
   "cell_type": "code",
   "execution_count": 13,
   "metadata": {},
   "outputs": [
    {
     "name": "stdout",
     "output_type": "stream",
     "text": [
      "Точность наилучшей модели случайного леса на валидационной выборке: 0.7884914463452566\n"
     ]
    }
   ],
   "source": [
    "best_model_rf = None\n",
    "best_result_rf = 0\n",
    "for est in range(1, 11):\n",
    "    model_rf = RandomForestClassifier(random_state=12345, n_estimators=est, min_samples_leaf=1, min_samples_split=2) # обучим модель с заданным количеством деревьев\n",
    "    model_rf.fit(features_train, target_train) # обучим модель на тренировочной выборке\n",
    "    result_rf = model_rf.score(features_valid, target_valid) # посчитаем качество модели на валидационной выборке\n",
    "    if result_rf > best_result_rf:\n",
    "        best_model_rf = model_rf # сохраним наилучшую модель\n",
    "        best_result_rf = result_rf #  сохраним наилучшее значение метрики accuracy на валидационных данных\n",
    "\n",
    "print(\"Точность наилучшей модели случайного леса на валидационной выборке:\", best_result_rf)"
   ]
  },
  {
   "cell_type": "markdown",
   "metadata": {},
   "source": [
    "<div class=\"alert-warning\"> \n",
    "<b>Комментарий ревьюера 💡 </b>\n",
    "\n",
    "Аналогично с прошлым комментарием"
   ]
  },
  {
   "cell_type": "markdown",
   "metadata": {},
   "source": [
    "### Logistic Regression"
   ]
  },
  {
   "cell_type": "code",
   "execution_count": 126,
   "metadata": {},
   "outputs": [
    {
     "name": "stdout",
     "output_type": "stream",
     "text": [
      "Точность логистической регрессии на валидационной выборке: 0.7262830482115086\n"
     ]
    }
   ],
   "source": [
    "model_lr = LogisticRegression(random_state=12345, solver='lbfgs', max_iter=1000) # обучим модель с заданным гиперпараметрами\n",
    "model_lr.fit(features_train, target_train) # обучим модель на тренировочной выборке\n",
    "#model_lr.predict(new_item)\n",
    "predictions_lr = model_lr.predict(features_valid) # получим предсказания модели\n",
    "result_lr = model_lr.score(features_valid, target_valid) # посчитаем качество модели\n",
    "print(\"Точность логистической регрессии на валидационной выборке:\", result_lr)"
   ]
  },
  {
   "cell_type": "markdown",
   "metadata": {},
   "source": [
    "<div class=\"alert-warning\"> \n",
    "<b>Комментарий ревьюера 💡 </b>\n",
    "\n",
    "Тут вообще не изучены гиперпараметры :("
   ]
  },
  {
   "cell_type": "markdown",
   "metadata": {},
   "source": [
    "По результатам исследования моделей можно сделать вывод, что наиболее подходящей моделью является ***случайный лес***, так как у нее наибольшее значение accuracy."
   ]
  },
  {
   "cell_type": "markdown",
   "metadata": {},
   "source": [
    "<div class=\"alert-warning\"> \n",
    "<b>Комментарий ревьюера 💡</b> \n",
    "    \n",
    "Для более красивого оформления можно здесь использовать f-strings. Подробнее про них почитать можешь здесь или на любом другом сайте: https://python-scripts.com/f-strings"
   ]
  },
  {
   "cell_type": "markdown",
   "metadata": {},
   "source": [
    "## Проверьте модель на тестовой выборке\n",
    "\n",
    "Проверим все три модели на тестовой выборке. "
   ]
  },
  {
   "cell_type": "markdown",
   "metadata": {},
   "source": [
    "### Decision Tree"
   ]
  },
  {
   "cell_type": "code",
   "execution_count": 117,
   "metadata": {},
   "outputs": [
    {
     "name": "stdout",
     "output_type": "stream",
     "text": [
      "Точность дерева решений на тестовой выборке: 0.6127527216174183\n"
     ]
    }
   ],
   "source": [
    "predictions_dt_test = model_dt.predict(features_test) # получите предсказания модели\n",
    "result_dt_test = accuracy_score(target_test, predictions_dt)\n",
    "print(\"Точность дерева решений на тестовой выборке:\", result_dt_test)"
   ]
  },
  {
   "cell_type": "markdown",
   "metadata": {},
   "source": [
    "### Random Forest"
   ]
  },
  {
   "cell_type": "code",
   "execution_count": 118,
   "metadata": {},
   "outputs": [
    {
     "name": "stdout",
     "output_type": "stream",
     "text": [
      "Точность случайного леса на тестовой выборке: 0.7869362363919129\n"
     ]
    }
   ],
   "source": [
    "result_rf_test = model_rf.score(features_test, target_test)\n",
    "print(\"Точность случайного леса на тестовой выборке:\", result_rf_test)"
   ]
  },
  {
   "cell_type": "markdown",
   "metadata": {},
   "source": [
    "### Logistic Regression"
   ]
  },
  {
   "cell_type": "code",
   "execution_count": 119,
   "metadata": {},
   "outputs": [
    {
     "name": "stdout",
     "output_type": "stream",
     "text": [
      "Точность дерева решений на тестовой выборке: 0.7589424572317263\n"
     ]
    }
   ],
   "source": [
    "predictions_lr_test = model_lr.predict(features_test)\n",
    "result_lr_test = model_lr.score(features_test, target_test)\n",
    "print(\"Точность дерева решений на тестовой выборке:\", result_lr_test)"
   ]
  },
  {
   "cell_type": "markdown",
   "metadata": {},
   "source": [
    "Результаты проверки на тестовой выборке также показывают наивысшую точность при применении модели *случайного леса*. В случае дерева решений точность на дереве решений ниже, а логистической регресии - выше.\n",
    "\n",
    "Точность *случайного леса* на **валидационной выборке**: 0.7884914463452566 \\\n",
    "Точность *случайного леса* на **тестовой выборке**: 0.7869362363919129"
   ]
  },
  {
   "cell_type": "markdown",
   "metadata": {},
   "source": [
    "<div class=\"alert-success\"> \n",
    "<b>Комментарий ревьюера 👍 </b>\n",
    "\n",
    "Модели проверены на тесте"
   ]
  },
  {
   "cell_type": "markdown",
   "metadata": {},
   "source": [
    "## (бонус) Проверьте модели на адекватность\n",
    "\n",
    "Проверим модель на адекватность с помощью DummyClassifier."
   ]
  },
  {
   "cell_type": "code",
   "execution_count": 123,
   "metadata": {},
   "outputs": [
    {
     "name": "stdout",
     "output_type": "stream",
     "text": [
      "Точность Dummy classifier на валидационной выборке: 0.6889580093312597\n",
      "Точность Dummy classifier на тестовой выборке: 0.6951788491446346\n"
     ]
    }
   ],
   "source": [
    "model_dc = DummyClassifier(random_state=12345, strategy='most_frequent')\n",
    "model_dc.fit(features_train, target_train)\n",
    "result_dc_valid = model_dc.score(features_valid, target_valid)\n",
    "result_dc_test = model_dc.score(features_test, target_test)\n",
    "print('Точность DummyClassifier на валидационной выборке:', result_dc_valid)\n",
    "print('Точность DummyClassifier на тестовой выборке:', result_dc_test)"
   ]
  },
  {
   "cell_type": "markdown",
   "metadata": {},
   "source": [
    "Согласно результатам проверки на адекватность, dummy-модель (предсказывает наиболее часто встречающийся класс) демонстрирует более низкую точность, чем случайный лес, что говорит о том, что модель *случайный лес* адекватна."
   ]
  },
  {
   "cell_type": "markdown",
   "metadata": {},
   "source": [
    "<div class=\"alert-success\"> \n",
    "<b>Комментарий ревьюера 👍 </b>\n",
    "\n",
    "Можно проще, посмотреть на баланс классов: например, если у нас 90 процентов таргета это \"1\", а остальные \"10\" - 0, то мы можем тупо выдавать каждый раз цифру 1 и получать метрику 90 %. Любая модель, которая будет выдавать качество ниже этого - плохая/неадекватная"
   ]
  },
  {
   "cell_type": "markdown",
   "metadata": {},
   "source": [
    "## Выводы\n",
    "\n",
    "1. Данные предварительно были предобработаны. Значения в столбцах calls и messages были приведены к целочисленным.\n",
    "2. Далее датасет был разделен на 3 выборки - обучающую (60%), валидационную (20%) и тестовую (20%).\n",
    "3. Поскольку целевой признак является категориальным, были были проанализированы модели классификации: дерево решений (DecisionTreeClassifier), случайный лес (RandomForestClassifier) и  логистическая регрессия (LogisticRegression).\n",
    "4. Сначала все модели были обучены на обучающей выборке и проверены на точность на валидационной выборке. Затем точность (accuracy) по валидационной выборке сравнилась с точностью на тестовой выборке.\n",
    "\n",
    "**По результатам проекта было установлено, что проанализировать поведение клиентов и предложить пользователям новый тариф: «Смарт» или «Ультра» с наивысшей точность (>0.75) может модель Random Forest.**"
   ]
  },
  {
   "cell_type": "markdown",
   "metadata": {},
   "source": [
    "<div class=\"alert-warning\"> \n",
    "<b>Комментарий ревьюера 💡 </b>\n",
    "\n",
    "Хороший проект, тобою проделана большая работа, ты молодец!\n",
    "\n",
    "Сперва похвалю за наличие везде промежуточных выводов, комментариев. Хороший код, показываешь навыки владения sklearn. Все требуемые пункты в задании в целом выполнены. Оставил пару желтых комментариев, думаю, это сможет улучшить твой проект. Также можно добавить визуализацию в проект: посмотреть на графиках, как влияет перебор параметров на результат нашей метрики\n",
    "\n",
    "В этом проекте большое внимание уделяется подбору гиперпараметров, но это можно автоматизировать! Советую почитать на досуге про GridsearchCV и Optuna, будет полезно\n",
    "    \n",
    "Если хочешь, отправляй проект и так, без доработок. Готов принять, потому что не было критических ошибок.\n",
    "\n",
    "Удачи!"
   ]
  },
  {
   "cell_type": "markdown",
   "metadata": {},
   "source": [
    "<div class=\"alert alert-info\">\n",
    "<font size=\"4\", color = \"black\"><b>✍ Комментарий студента</b></font>\n",
    "    <br /> \n",
    "    <font size=\"3\", color = \"black\">\n",
    "<br /> \n",
    "        Большое спасибо за правки и предложения! Про GridsearchCV и Optuna обязательно почитаю, сегодня говорили о них на вебинаре.\n",
    "        Пока с гиперпараметрами непросто. Понимаю, зачем они нужны (те, что я дописала), но не очень понимаю, как определять оптимальные (кроме depth, потому что его разбирали). У нас в курсе было только про дерево решений. Поскольку лес - это много деревьев, предполагаю, его гиперпараметры применимы и к random forest, а вот про логистическую регрессию еще буду читать. В курсе дано только то, что я написала, остальное \"будет рассмотрено в следующих темах\".\n",
    "        Честно говоря, я уже для бонусного задания дополнительно читала, так как этого тоже не было в модуле)"
   ]
  },
  {
   "cell_type": "markdown",
   "metadata": {},
   "source": [
    "<div class=\"alert-success\"> \n",
    "<b>Комментарий ревьюера 👍 </b>\n",
    "\n",
    "\"Определять оптимальные\" - вообще в целом сложно, нет какой-то идеальных значений гиперпараметра, которые принесут успех. Поэтому и занимаемся такими подборами церез циклы - но да, можно легче через GridSearchCV"
   ]
  },
  {
   "cell_type": "markdown",
   "metadata": {},
   "source": [
    "## Чек-лист готовности проекта"
   ]
  },
  {
   "cell_type": "markdown",
   "metadata": {},
   "source": [
    "Поставьте 'x' в выполненных пунктах. Далее нажмите Shift+Enter."
   ]
  },
  {
   "cell_type": "markdown",
   "metadata": {},
   "source": [
    "- [x] Jupyter Notebook открыт\n",
    "- [x] Весь код исполняется без ошибок\n",
    "- [x] Ячейки с кодом расположены в порядке исполнения\n",
    "- [x] Выполнено задание 1: данные загружены и изучены\n",
    "- [x] Выполнено задание 2: данные разбиты на три выборки\n",
    "- [x] Выполнено задание 3: проведено исследование моделей\n",
    "    - [x] Рассмотрено больше одной модели\n",
    "    - [x] Рассмотрено хотя бы 3 значения гипепараметров для какой-нибудь модели\n",
    "    - [x] Написаны выводы по результатам исследования\n",
    "- [x] Выполнено задание 3: Проведено тестирование\n",
    "- [x] Удалось достичь accuracy не меньше 0.75\n"
   ]
  }
 ],
 "metadata": {
  "ExecuteTimeLog": [
   {
    "duration": 391,
    "start_time": "2023-03-04T14:34:33.420Z"
   },
   {
    "duration": 167,
    "start_time": "2023-03-04T14:35:00.776Z"
   },
   {
    "duration": 62,
    "start_time": "2023-03-04T14:35:32.519Z"
   },
   {
    "duration": 28,
    "start_time": "2023-03-04T14:35:36.466Z"
   },
   {
    "duration": 12,
    "start_time": "2023-03-04T14:35:38.526Z"
   },
   {
    "duration": 7,
    "start_time": "2023-03-04T14:37:05.096Z"
   },
   {
    "duration": 3,
    "start_time": "2023-03-04T14:37:16.845Z"
   },
   {
    "duration": 763,
    "start_time": "2023-03-04T14:37:22.633Z"
   },
   {
    "duration": 39,
    "start_time": "2023-03-04T14:37:24.198Z"
   },
   {
    "duration": 4,
    "start_time": "2023-03-04T14:39:44.318Z"
   },
   {
    "duration": 12,
    "start_time": "2023-03-04T14:39:45.285Z"
   },
   {
    "duration": 5,
    "start_time": "2023-03-04T14:42:21.157Z"
   },
   {
    "duration": 5,
    "start_time": "2023-03-04T14:47:33.038Z"
   },
   {
    "duration": 6,
    "start_time": "2023-03-04T14:47:54.683Z"
   },
   {
    "duration": 3,
    "start_time": "2023-03-04T14:50:27.429Z"
   },
   {
    "duration": 44,
    "start_time": "2023-03-04T14:50:34.397Z"
   },
   {
    "duration": 28,
    "start_time": "2023-03-04T15:04:49.485Z"
   },
   {
    "duration": 39,
    "start_time": "2023-03-04T15:04:54.621Z"
   },
   {
    "duration": 4,
    "start_time": "2023-03-04T15:05:08.900Z"
   },
   {
    "duration": 37,
    "start_time": "2023-03-04T15:05:13.077Z"
   },
   {
    "duration": 16,
    "start_time": "2023-03-04T15:07:09.796Z"
   },
   {
    "duration": 13,
    "start_time": "2023-03-04T15:10:19.684Z"
   },
   {
    "duration": 14,
    "start_time": "2023-03-04T15:11:25.614Z"
   },
   {
    "duration": 16,
    "start_time": "2023-03-04T15:11:45.981Z"
   },
   {
    "duration": 30,
    "start_time": "2023-03-04T15:14:15.589Z"
   },
   {
    "duration": 43,
    "start_time": "2023-03-04T15:40:03.586Z"
   },
   {
    "duration": 4528,
    "start_time": "2023-03-04T15:40:05.707Z"
   },
   {
    "duration": 8,
    "start_time": "2023-03-04T15:41:07.364Z"
   },
   {
    "duration": 12,
    "start_time": "2023-03-04T15:41:18.603Z"
   },
   {
    "duration": 10,
    "start_time": "2023-03-04T15:55:10.851Z"
   },
   {
    "duration": 8,
    "start_time": "2023-03-04T15:55:34.326Z"
   },
   {
    "duration": 12,
    "start_time": "2023-03-04T15:55:46.195Z"
   },
   {
    "duration": 28,
    "start_time": "2023-03-04T16:01:22.272Z"
   },
   {
    "duration": 4557,
    "start_time": "2023-03-04T16:01:50.638Z"
   },
   {
    "duration": 4806,
    "start_time": "2023-03-04T16:02:03.529Z"
   },
   {
    "duration": 12,
    "start_time": "2023-03-04T16:02:30.893Z"
   },
   {
    "duration": 29,
    "start_time": "2023-03-04T16:02:53.853Z"
   },
   {
    "duration": 12,
    "start_time": "2023-03-04T16:04:36.730Z"
   },
   {
    "duration": 4,
    "start_time": "2023-03-04T16:04:44.778Z"
   },
   {
    "duration": 43,
    "start_time": "2023-03-04T16:04:44.784Z"
   },
   {
    "duration": 13,
    "start_time": "2023-03-04T16:04:44.829Z"
   },
   {
    "duration": 5,
    "start_time": "2023-03-04T16:04:44.845Z"
   },
   {
    "duration": 11,
    "start_time": "2023-03-04T16:04:44.852Z"
   },
   {
    "duration": 8,
    "start_time": "2023-03-04T16:04:44.865Z"
   },
   {
    "duration": 40,
    "start_time": "2023-03-04T16:04:44.875Z"
   },
   {
    "duration": 4664,
    "start_time": "2023-03-04T16:04:44.917Z"
   },
   {
    "duration": 9,
    "start_time": "2023-03-04T16:04:49.582Z"
   },
   {
    "duration": 9,
    "start_time": "2023-03-04T16:04:51.172Z"
   },
   {
    "duration": 36,
    "start_time": "2023-03-04T16:05:34.188Z"
   },
   {
    "duration": 9,
    "start_time": "2023-03-04T16:05:56.364Z"
   },
   {
    "duration": 9,
    "start_time": "2023-03-04T16:06:46.235Z"
   },
   {
    "duration": 8,
    "start_time": "2023-03-04T16:07:48.277Z"
   },
   {
    "duration": 52,
    "start_time": "2023-03-04T16:08:48.229Z"
   },
   {
    "duration": 8,
    "start_time": "2023-03-04T16:08:59.673Z"
   },
   {
    "duration": 9,
    "start_time": "2023-03-04T16:10:07.774Z"
   },
   {
    "duration": 10,
    "start_time": "2023-03-04T16:10:51.587Z"
   },
   {
    "duration": 17,
    "start_time": "2023-03-04T16:11:06.114Z"
   },
   {
    "duration": 49,
    "start_time": "2023-03-04T16:11:06.135Z"
   },
   {
    "duration": 13,
    "start_time": "2023-03-04T16:11:06.186Z"
   },
   {
    "duration": 5,
    "start_time": "2023-03-04T16:11:06.201Z"
   },
   {
    "duration": 34,
    "start_time": "2023-03-04T16:11:06.208Z"
   },
   {
    "duration": 19,
    "start_time": "2023-03-04T16:11:06.244Z"
   },
   {
    "duration": 64,
    "start_time": "2023-03-04T16:11:06.264Z"
   },
   {
    "duration": 4307,
    "start_time": "2023-03-04T16:11:06.330Z"
   },
   {
    "duration": 8,
    "start_time": "2023-03-04T16:11:10.639Z"
   },
   {
    "duration": 9,
    "start_time": "2023-03-04T16:11:15.293Z"
   },
   {
    "duration": 16,
    "start_time": "2023-03-04T16:16:36.162Z"
   },
   {
    "duration": 28,
    "start_time": "2023-03-04T16:17:57.684Z"
   },
   {
    "duration": 35,
    "start_time": "2023-03-04T16:18:08.005Z"
   },
   {
    "duration": 37,
    "start_time": "2023-03-04T16:18:13.284Z"
   },
   {
    "duration": 5,
    "start_time": "2023-03-04T16:19:13.826Z"
   },
   {
    "duration": 10,
    "start_time": "2023-03-04T16:19:16.237Z"
   },
   {
    "duration": 8,
    "start_time": "2023-03-04T16:19:21.759Z"
   },
   {
    "duration": 11,
    "start_time": "2023-03-04T16:19:27.012Z"
   },
   {
    "duration": 9,
    "start_time": "2023-03-04T16:19:28.169Z"
   },
   {
    "duration": 9,
    "start_time": "2023-03-04T16:19:30.139Z"
   },
   {
    "duration": 38,
    "start_time": "2023-03-04T16:19:35.325Z"
   },
   {
    "duration": 9,
    "start_time": "2023-03-04T16:19:37.532Z"
   },
   {
    "duration": 4,
    "start_time": "2023-03-04T16:19:43.073Z"
   },
   {
    "duration": 57,
    "start_time": "2023-03-04T16:19:43.079Z"
   },
   {
    "duration": 6,
    "start_time": "2023-03-04T16:19:43.138Z"
   },
   {
    "duration": 30,
    "start_time": "2023-03-04T16:19:43.146Z"
   },
   {
    "duration": 14,
    "start_time": "2023-03-04T16:19:52.131Z"
   },
   {
    "duration": 9,
    "start_time": "2023-03-04T16:20:32.510Z"
   },
   {
    "duration": 16,
    "start_time": "2023-03-04T16:25:25.472Z"
   },
   {
    "duration": 48,
    "start_time": "2023-03-04T16:26:08.466Z"
   },
   {
    "duration": 50,
    "start_time": "2023-03-04T16:29:24.419Z"
   },
   {
    "duration": 4,
    "start_time": "2023-03-04T16:30:57.404Z"
   },
   {
    "duration": 51,
    "start_time": "2023-03-04T16:36:14.425Z"
   },
   {
    "duration": 5,
    "start_time": "2023-03-04T16:38:48.024Z"
   },
   {
    "duration": 4,
    "start_time": "2023-03-04T16:39:18.281Z"
   },
   {
    "duration": 5,
    "start_time": "2023-03-04T16:39:19.120Z"
   },
   {
    "duration": 3,
    "start_time": "2023-03-04T16:39:20.969Z"
   },
   {
    "duration": 5,
    "start_time": "2023-03-04T16:40:42.619Z"
   },
   {
    "duration": 4,
    "start_time": "2023-03-04T16:41:40.209Z"
   },
   {
    "duration": 6,
    "start_time": "2023-03-04T16:43:04.360Z"
   },
   {
    "duration": 4,
    "start_time": "2023-03-04T16:43:06.832Z"
   },
   {
    "duration": 5,
    "start_time": "2023-03-04T16:43:23.780Z"
   },
   {
    "duration": 6,
    "start_time": "2023-03-04T16:43:25.752Z"
   },
   {
    "duration": 5,
    "start_time": "2023-03-04T16:44:34.624Z"
   },
   {
    "duration": 4,
    "start_time": "2023-03-04T16:44:36.200Z"
   },
   {
    "duration": 16,
    "start_time": "2023-03-04T16:49:18.097Z"
   },
   {
    "duration": 49,
    "start_time": "2023-03-04T17:24:29.013Z"
   },
   {
    "duration": 17,
    "start_time": "2023-03-04T17:24:49.420Z"
   },
   {
    "duration": 19,
    "start_time": "2023-03-04T17:25:26.132Z"
   },
   {
    "duration": 16,
    "start_time": "2023-03-04T17:25:29.365Z"
   },
   {
    "duration": 11,
    "start_time": "2023-03-04T20:14:03.552Z"
   },
   {
    "duration": 3,
    "start_time": "2023-03-04T20:14:25.508Z"
   },
   {
    "duration": 10,
    "start_time": "2023-03-04T20:14:32.747Z"
   },
   {
    "duration": 69,
    "start_time": "2023-03-04T20:14:39.524Z"
   },
   {
    "duration": 10,
    "start_time": "2023-03-04T20:18:38.597Z"
   },
   {
    "duration": 4,
    "start_time": "2023-03-04T20:18:55.987Z"
   },
   {
    "duration": 300,
    "start_time": "2023-03-04T20:19:03.274Z"
   },
   {
    "duration": 71,
    "start_time": "2023-03-04T20:19:18.892Z"
   },
   {
    "duration": 4,
    "start_time": "2023-03-04T20:20:08.334Z"
   },
   {
    "duration": 44,
    "start_time": "2023-03-04T20:23:38.452Z"
   },
   {
    "duration": 6,
    "start_time": "2023-03-04T20:28:56.673Z"
   },
   {
    "duration": 10,
    "start_time": "2023-03-04T20:32:32.025Z"
   },
   {
    "duration": 7,
    "start_time": "2023-03-04T20:34:59.537Z"
   },
   {
    "duration": 272,
    "start_time": "2023-03-04T20:51:01.543Z"
   },
   {
    "duration": 10,
    "start_time": "2023-03-04T21:00:38.743Z"
   },
   {
    "duration": 3,
    "start_time": "2023-03-04T21:01:18.346Z"
   },
   {
    "duration": 6,
    "start_time": "2023-03-04T21:01:23.603Z"
   },
   {
    "duration": 58,
    "start_time": "2023-03-04T21:07:47.483Z"
   },
   {
    "duration": 256,
    "start_time": "2023-03-04T21:07:48.716Z"
   },
   {
    "duration": 37,
    "start_time": "2023-03-04T21:07:49.652Z"
   },
   {
    "duration": 14,
    "start_time": "2023-03-04T21:09:16.345Z"
   },
   {
    "duration": 15,
    "start_time": "2023-03-04T21:09:17.606Z"
   },
   {
    "duration": 6,
    "start_time": "2023-03-04T21:28:51.274Z"
   },
   {
    "duration": 6,
    "start_time": "2023-03-04T21:28:51.960Z"
   },
   {
    "duration": 163,
    "start_time": "2023-03-04T22:35:45.177Z"
   },
   {
    "duration": 162,
    "start_time": "2023-03-04T22:35:55.761Z"
   },
   {
    "duration": 46,
    "start_time": "2023-03-05T20:23:36.000Z"
   },
   {
    "duration": 1109,
    "start_time": "2023-03-05T20:23:41.402Z"
   },
   {
    "duration": 81,
    "start_time": "2023-03-05T20:23:42.513Z"
   },
   {
    "duration": 5,
    "start_time": "2023-03-05T20:23:42.595Z"
   },
   {
    "duration": 15,
    "start_time": "2023-03-05T20:23:42.602Z"
   },
   {
    "duration": 12,
    "start_time": "2023-03-05T20:23:42.618Z"
   },
   {
    "duration": 3,
    "start_time": "2023-03-05T20:23:42.632Z"
   },
   {
    "duration": 10,
    "start_time": "2023-03-05T20:23:42.637Z"
   },
   {
    "duration": 5,
    "start_time": "2023-03-05T20:23:42.648Z"
   },
   {
    "duration": 7,
    "start_time": "2023-03-05T20:23:42.654Z"
   },
   {
    "duration": 66,
    "start_time": "2023-03-05T20:23:45.373Z"
   },
   {
    "duration": 171,
    "start_time": "2023-03-05T20:23:55.591Z"
   },
   {
    "duration": 263,
    "start_time": "2023-03-05T20:24:39.480Z"
   },
   {
    "duration": 93,
    "start_time": "2023-03-05T20:30:45.727Z"
   }
  ],
  "kernelspec": {
   "display_name": "Python 3 (ipykernel)",
   "language": "python",
   "name": "python3"
  },
  "language_info": {
   "codemirror_mode": {
    "name": "ipython",
    "version": 3
   },
   "file_extension": ".py",
   "mimetype": "text/x-python",
   "name": "python",
   "nbconvert_exporter": "python",
   "pygments_lexer": "ipython3",
   "version": "3.9.13"
  },
  "toc": {
   "base_numbering": 1,
   "nav_menu": {},
   "number_sections": true,
   "sideBar": true,
   "skip_h1_title": true,
   "title_cell": "Table of Contents",
   "title_sidebar": "Contents",
   "toc_cell": false,
   "toc_position": {},
   "toc_section_display": true,
   "toc_window_display": false
  }
 },
 "nbformat": 4,
 "nbformat_minor": 2
}
