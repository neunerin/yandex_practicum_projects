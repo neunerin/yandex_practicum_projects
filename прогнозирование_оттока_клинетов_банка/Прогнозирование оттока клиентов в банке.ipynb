{
 "cells": [
  {
   "cell_type": "markdown",
   "metadata": {
    "toc": true
   },
   "source": [
    "<h1>Содержание<span class=\"tocSkip\"></span></h1>\n",
    "<div class=\"toc\"><ul class=\"toc-item\"><li><span><a href=\"#Подготовка-данных\" data-toc-modified-id=\"Подготовка-данных-1\"><span class=\"toc-item-num\">1&nbsp;&nbsp;</span>Подготовка данных</a></span><ul class=\"toc-item\"><li><span><a href=\"#Заполнение-пропусков\" data-toc-modified-id=\"Заполнение-пропусков-1.1\"><span class=\"toc-item-num\">1.1&nbsp;&nbsp;</span>Заполнение пропусков</a></span></li><li><span><a href=\"#Промежуточные-выводы:\" data-toc-modified-id=\"Промежуточные-выводы:-1.2\"><span class=\"toc-item-num\">1.2&nbsp;&nbsp;</span>Промежуточные выводы:</a></span></li></ul></li><li><span><a href=\"#Исследование-задачи\" data-toc-modified-id=\"Исследование-задачи-2\"><span class=\"toc-item-num\">2&nbsp;&nbsp;</span>Исследование задачи</a></span><ul class=\"toc-item\"><li><span><a href=\"#Преобразование-данных\" data-toc-modified-id=\"Преобразование-данных-2.1\"><span class=\"toc-item-num\">2.1&nbsp;&nbsp;</span>Преобразование данных</a></span></li><li><span><a href=\"#Разбивка-данных-на-выборки\" data-toc-modified-id=\"Разбивка-данных-на-выборки-2.2\"><span class=\"toc-item-num\">2.2&nbsp;&nbsp;</span>Разбивка данных на выборки</a></span></li><li><span><a href=\"#Масштабирование-признаков\" data-toc-modified-id=\"Масштабирование-признаков-2.3\"><span class=\"toc-item-num\">2.3&nbsp;&nbsp;</span>Масштабирование признаков</a></span></li><li><span><a href=\"#Модели\" data-toc-modified-id=\"Модели-2.4\"><span class=\"toc-item-num\">2.4&nbsp;&nbsp;</span>Модели</a></span><ul class=\"toc-item\"><li><span><a href=\"#Decision-Tree\" data-toc-modified-id=\"Decision-Tree-2.4.1\"><span class=\"toc-item-num\">2.4.1&nbsp;&nbsp;</span>Decision Tree</a></span></li><li><span><a href=\"#Random-Forest\" data-toc-modified-id=\"Random-Forest-2.4.2\"><span class=\"toc-item-num\">2.4.2&nbsp;&nbsp;</span>Random Forest</a></span></li><li><span><a href=\"#Logistic-Regression\" data-toc-modified-id=\"Logistic-Regression-2.4.3\"><span class=\"toc-item-num\">2.4.3&nbsp;&nbsp;</span>Logistic Regression</a></span></li></ul></li><li><span><a href=\"#Графики-ROC-кривых-трех-моделей\" data-toc-modified-id=\"Графики-ROC-кривых-трех-моделей-2.5\"><span class=\"toc-item-num\">2.5&nbsp;&nbsp;</span>Графики ROC-кривых трех моделей</a></span></li><li><span><a href=\"#Промежуточные-выводы\" data-toc-modified-id=\"Промежуточные-выводы-2.6\"><span class=\"toc-item-num\">2.6&nbsp;&nbsp;</span>Промежуточные выводы</a></span></li></ul></li><li><span><a href=\"#Борьба-с-дисбалансом\" data-toc-modified-id=\"Борьба-с-дисбалансом-3\"><span class=\"toc-item-num\">3&nbsp;&nbsp;</span>Борьба с дисбалансом</a></span><ul class=\"toc-item\"><li><span><a href=\"#Upsampling\" data-toc-modified-id=\"Upsampling-3.1\"><span class=\"toc-item-num\">3.1&nbsp;&nbsp;</span>Upsampling</a></span></li><li><span><a href=\"#Downsampling\" data-toc-modified-id=\"Downsampling-3.2\"><span class=\"toc-item-num\">3.2&nbsp;&nbsp;</span>Downsampling</a></span></li><li><span><a href=\"#Промежуточные-выводы\" data-toc-modified-id=\"Промежуточные-выводы-3.3\"><span class=\"toc-item-num\">3.3&nbsp;&nbsp;</span>Промежуточные выводы</a></span></li></ul></li><li><span><a href=\"#Тестирование-модели\" data-toc-modified-id=\"Тестирование-модели-4\"><span class=\"toc-item-num\">4&nbsp;&nbsp;</span>Тестирование модели</a></span></li><li><span><a href=\"#Общие-выводы\" data-toc-modified-id=\"Общие-выводы-5\"><span class=\"toc-item-num\">5&nbsp;&nbsp;</span>Общие выводы</a></span></li><li><span><a href=\"#Чек-лист-готовности-проекта\" data-toc-modified-id=\"Чек-лист-готовности-проекта-6\"><span class=\"toc-item-num\">6&nbsp;&nbsp;</span>Чек-лист готовности проекта</a></span></li></ul></div>"
   ]
  },
  {
   "cell_type": "markdown",
   "metadata": {},
   "source": [
    "# Отток клиентов"
   ]
  },
  {
   "cell_type": "markdown",
   "metadata": {},
   "source": [
    "Из «Бета-Банка» стали уходить клиенты. Каждый месяц. Немного, но заметно. Банковские маркетологи посчитали: сохранять текущих клиентов дешевле, чем привлекать новых.\n",
    "\n",
    "Нужно спрогнозировать, уйдёт клиент из банка в ближайшее время или нет. Вам предоставлены исторические данные о поведении клиентов и расторжении договоров с банком. \n",
    "\n",
    "Постройте модель с предельно большим значением *F1*-меры. Чтобы сдать проект успешно, нужно довести метрику до 0.59. Проверьте *F1*-меру на тестовой выборке самостоятельно.\n",
    "\n",
    "Дополнительно измеряйте *AUC-ROC*, сравнивайте её значение с *F1*-мерой.\n",
    "\n",
    "Источник данных: [https://www.kaggle.com/barelydedicated/bank-customer-churn-modeling](https://www.kaggle.com/barelydedicated/bank-customer-churn-modeling)\n",
    "\n",
    "\n",
    "**Описание данных**\n",
    "\n",
    "Признаки:\n",
    "- RowNumber — индекс строки в данных\n",
    "- CustomerId — уникальный идентификатор клиента\n",
    "- Surname — фамилия\n",
    "- CreditScore — кредитный рейтинг\n",
    "- Geography — страна проживания\n",
    "- Gender — пол\n",
    "- Age — возраст\n",
    "- Tenure — сколько лет человек является клиентом банка\n",
    "- Balance — баланс на счёте\n",
    "- NumOfProducts — количество продуктов банка, используемых клиентом\n",
    "- HasCrCard — наличие кредитной карты\n",
    "- IsActiveMember — активность клиента\n",
    "- EstimatedSalary — предполагаемая зарплата\n",
    "\n",
    "Целевой признак\n",
    "- Exited — факт ухода клиента"
   ]
  },
  {
   "cell_type": "markdown",
   "metadata": {},
   "source": [
    "## Подготовка данных\n",
    "\n",
    "Для начала загрузим и проверим данные на наличие пропусков, ошибок и других аномалий и приведем их к единому формату в соответсвии со змеиной стилистикой."
   ]
  },
  {
   "cell_type": "code",
   "execution_count": 1,
   "metadata": {},
   "outputs": [],
   "source": [
    "import pandas as pd #импорт библиотек\n",
    "import seaborn as sns\n",
    "from sklearn.model_selection import train_test_split\n",
    "import numpy as np\n",
    "from sklearn.preprocessing import StandardScaler\n",
    "from sklearn.tree import DecisionTreeClassifier\n",
    "from sklearn.ensemble import RandomForestClassifier\n",
    "from sklearn.linear_model import LogisticRegression\n",
    "from sklearn.metrics import accuracy_score\n",
    "from sklearn.metrics import f1_score\n",
    "from sklearn.metrics import roc_auc_score\n",
    "from sklearn.metrics import roc_curve\n",
    "import matplotlib.pyplot as plt\n",
    "from sklearn.utils import shuffle\n",
    "import ydata_profiling"
   ]
  },
  {
   "cell_type": "code",
   "execution_count": 2,
   "metadata": {},
   "outputs": [],
   "source": [
    "data = pd.read_csv('https://code.s3.yandex.net/datasets/Churn.csv')"
   ]
  },
  {
   "cell_type": "code",
   "execution_count": 3,
   "metadata": {},
   "outputs": [
    {
     "name": "stdout",
     "output_type": "stream",
     "text": [
      "<class 'pandas.core.frame.DataFrame'>\n",
      "RangeIndex: 10000 entries, 0 to 9999\n",
      "Data columns (total 14 columns):\n",
      " #   Column           Non-Null Count  Dtype  \n",
      "---  ------           --------------  -----  \n",
      " 0   RowNumber        10000 non-null  int64  \n",
      " 1   CustomerId       10000 non-null  int64  \n",
      " 2   Surname          10000 non-null  object \n",
      " 3   CreditScore      10000 non-null  int64  \n",
      " 4   Geography        10000 non-null  object \n",
      " 5   Gender           10000 non-null  object \n",
      " 6   Age              10000 non-null  int64  \n",
      " 7   Tenure           9091 non-null   float64\n",
      " 8   Balance          10000 non-null  float64\n",
      " 9   NumOfProducts    10000 non-null  int64  \n",
      " 10  HasCrCard        10000 non-null  int64  \n",
      " 11  IsActiveMember   10000 non-null  int64  \n",
      " 12  EstimatedSalary  10000 non-null  float64\n",
      " 13  Exited           10000 non-null  int64  \n",
      "dtypes: float64(3), int64(8), object(3)\n",
      "memory usage: 1.1+ MB\n"
     ]
    }
   ],
   "source": [
    "data.info() #смотрим ифнормацию"
   ]
  },
  {
   "cell_type": "code",
   "execution_count": 4,
   "metadata": {},
   "outputs": [
    {
     "data": {
      "text/html": [
       "<div>\n",
       "<style scoped>\n",
       "    .dataframe tbody tr th:only-of-type {\n",
       "        vertical-align: middle;\n",
       "    }\n",
       "\n",
       "    .dataframe tbody tr th {\n",
       "        vertical-align: top;\n",
       "    }\n",
       "\n",
       "    .dataframe thead th {\n",
       "        text-align: right;\n",
       "    }\n",
       "</style>\n",
       "<table border=\"1\" class=\"dataframe\">\n",
       "  <thead>\n",
       "    <tr style=\"text-align: right;\">\n",
       "      <th></th>\n",
       "      <th>RowNumber</th>\n",
       "      <th>CustomerId</th>\n",
       "      <th>Surname</th>\n",
       "      <th>CreditScore</th>\n",
       "      <th>Geography</th>\n",
       "      <th>Gender</th>\n",
       "      <th>Age</th>\n",
       "      <th>Tenure</th>\n",
       "      <th>Balance</th>\n",
       "      <th>NumOfProducts</th>\n",
       "      <th>HasCrCard</th>\n",
       "      <th>IsActiveMember</th>\n",
       "      <th>EstimatedSalary</th>\n",
       "      <th>Exited</th>\n",
       "    </tr>\n",
       "  </thead>\n",
       "  <tbody>\n",
       "    <tr>\n",
       "      <th>0</th>\n",
       "      <td>1</td>\n",
       "      <td>15634602</td>\n",
       "      <td>Hargrave</td>\n",
       "      <td>619</td>\n",
       "      <td>France</td>\n",
       "      <td>Female</td>\n",
       "      <td>42</td>\n",
       "      <td>2.0</td>\n",
       "      <td>0.00</td>\n",
       "      <td>1</td>\n",
       "      <td>1</td>\n",
       "      <td>1</td>\n",
       "      <td>101348.88</td>\n",
       "      <td>1</td>\n",
       "    </tr>\n",
       "    <tr>\n",
       "      <th>1</th>\n",
       "      <td>2</td>\n",
       "      <td>15647311</td>\n",
       "      <td>Hill</td>\n",
       "      <td>608</td>\n",
       "      <td>Spain</td>\n",
       "      <td>Female</td>\n",
       "      <td>41</td>\n",
       "      <td>1.0</td>\n",
       "      <td>83807.86</td>\n",
       "      <td>1</td>\n",
       "      <td>0</td>\n",
       "      <td>1</td>\n",
       "      <td>112542.58</td>\n",
       "      <td>0</td>\n",
       "    </tr>\n",
       "    <tr>\n",
       "      <th>2</th>\n",
       "      <td>3</td>\n",
       "      <td>15619304</td>\n",
       "      <td>Onio</td>\n",
       "      <td>502</td>\n",
       "      <td>France</td>\n",
       "      <td>Female</td>\n",
       "      <td>42</td>\n",
       "      <td>8.0</td>\n",
       "      <td>159660.80</td>\n",
       "      <td>3</td>\n",
       "      <td>1</td>\n",
       "      <td>0</td>\n",
       "      <td>113931.57</td>\n",
       "      <td>1</td>\n",
       "    </tr>\n",
       "    <tr>\n",
       "      <th>3</th>\n",
       "      <td>4</td>\n",
       "      <td>15701354</td>\n",
       "      <td>Boni</td>\n",
       "      <td>699</td>\n",
       "      <td>France</td>\n",
       "      <td>Female</td>\n",
       "      <td>39</td>\n",
       "      <td>1.0</td>\n",
       "      <td>0.00</td>\n",
       "      <td>2</td>\n",
       "      <td>0</td>\n",
       "      <td>0</td>\n",
       "      <td>93826.63</td>\n",
       "      <td>0</td>\n",
       "    </tr>\n",
       "    <tr>\n",
       "      <th>4</th>\n",
       "      <td>5</td>\n",
       "      <td>15737888</td>\n",
       "      <td>Mitchell</td>\n",
       "      <td>850</td>\n",
       "      <td>Spain</td>\n",
       "      <td>Female</td>\n",
       "      <td>43</td>\n",
       "      <td>2.0</td>\n",
       "      <td>125510.82</td>\n",
       "      <td>1</td>\n",
       "      <td>1</td>\n",
       "      <td>1</td>\n",
       "      <td>79084.10</td>\n",
       "      <td>0</td>\n",
       "    </tr>\n",
       "  </tbody>\n",
       "</table>\n",
       "</div>"
      ],
      "text/plain": [
       "   RowNumber  CustomerId   Surname  CreditScore Geography  Gender  Age  \\\n",
       "0          1    15634602  Hargrave          619    France  Female   42   \n",
       "1          2    15647311      Hill          608     Spain  Female   41   \n",
       "2          3    15619304      Onio          502    France  Female   42   \n",
       "3          4    15701354      Boni          699    France  Female   39   \n",
       "4          5    15737888  Mitchell          850     Spain  Female   43   \n",
       "\n",
       "   Tenure    Balance  NumOfProducts  HasCrCard  IsActiveMember  \\\n",
       "0     2.0       0.00              1          1               1   \n",
       "1     1.0   83807.86              1          0               1   \n",
       "2     8.0  159660.80              3          1               0   \n",
       "3     1.0       0.00              2          0               0   \n",
       "4     2.0  125510.82              1          1               1   \n",
       "\n",
       "   EstimatedSalary  Exited  \n",
       "0        101348.88       1  \n",
       "1        112542.58       0  \n",
       "2        113931.57       1  \n",
       "3         93826.63       0  \n",
       "4         79084.10       0  "
      ]
     },
     "execution_count": 4,
     "metadata": {},
     "output_type": "execute_result"
    }
   ],
   "source": [
    "data.head() #смотрим, как выглядят данные"
   ]
  },
  {
   "cell_type": "markdown",
   "metadata": {},
   "source": [
    "Предположительно, на отток клинетов некоторые из данных не могут оказать влияние, в частности - порядковый номер, id и фамилия. Поэтому эти данные можно удалить."
   ]
  },
  {
   "cell_type": "code",
   "execution_count": 5,
   "metadata": {},
   "outputs": [],
   "source": [
    "data.drop(['RowNumber', 'CustomerId', 'Surname'], axis=1, inplace=True) #удаляем ненужные столбцы"
   ]
  },
  {
   "cell_type": "code",
   "execution_count": 6,
   "metadata": {},
   "outputs": [
    {
     "name": "stdout",
     "output_type": "stream",
     "text": [
      "<class 'pandas.core.frame.DataFrame'>\n",
      "RangeIndex: 10000 entries, 0 to 9999\n",
      "Data columns (total 11 columns):\n",
      " #   Column           Non-Null Count  Dtype  \n",
      "---  ------           --------------  -----  \n",
      " 0   CreditScore      10000 non-null  int64  \n",
      " 1   Geography        10000 non-null  object \n",
      " 2   Gender           10000 non-null  object \n",
      " 3   Age              10000 non-null  int64  \n",
      " 4   Tenure           9091 non-null   float64\n",
      " 5   Balance          10000 non-null  float64\n",
      " 6   NumOfProducts    10000 non-null  int64  \n",
      " 7   HasCrCard        10000 non-null  int64  \n",
      " 8   IsActiveMember   10000 non-null  int64  \n",
      " 9   EstimatedSalary  10000 non-null  float64\n",
      " 10  Exited           10000 non-null  int64  \n",
      "dtypes: float64(3), int64(6), object(2)\n",
      "memory usage: 859.5+ KB\n"
     ]
    }
   ],
   "source": [
    "data.info() #чек"
   ]
  },
  {
   "cell_type": "code",
   "execution_count": 7,
   "metadata": {},
   "outputs": [
    {
     "data": {
      "text/plain": [
       "Index(['creditscore', 'geography', 'gender', 'age', 'tenure', 'balance',\n",
       "       'numofproducts', 'hascrcard', 'isactivemember', 'estimatedsalary',\n",
       "       'exited'],\n",
       "      dtype='object')"
      ]
     },
     "metadata": {},
     "output_type": "display_data"
    }
   ],
   "source": [
    "data.columns = data.columns.str.lower() #приводим к змеиному регистру\n",
    "display(data.columns)"
   ]
  },
  {
   "cell_type": "code",
   "execution_count": 8,
   "metadata": {},
   "outputs": [
    {
     "data": {
      "text/plain": [
       "0"
      ]
     },
     "execution_count": 8,
     "metadata": {},
     "output_type": "execute_result"
    }
   ],
   "source": [
    "data.duplicated().sum() #посчитаем дубликаты"
   ]
  },
  {
   "cell_type": "markdown",
   "metadata": {},
   "source": [
    "Дубликаты не обнаружены.\n"
   ]
  },
  {
   "cell_type": "code",
   "execution_count": 9,
   "metadata": {},
   "outputs": [
    {
     "data": {
      "text/html": [
       "<div>\n",
       "<style scoped>\n",
       "    .dataframe tbody tr th:only-of-type {\n",
       "        vertical-align: middle;\n",
       "    }\n",
       "\n",
       "    .dataframe tbody tr th {\n",
       "        vertical-align: top;\n",
       "    }\n",
       "\n",
       "    .dataframe thead th {\n",
       "        text-align: right;\n",
       "    }\n",
       "</style>\n",
       "<table border=\"1\" class=\"dataframe\">\n",
       "  <thead>\n",
       "    <tr style=\"text-align: right;\">\n",
       "      <th></th>\n",
       "      <th>creditscore</th>\n",
       "      <th>age</th>\n",
       "      <th>tenure</th>\n",
       "      <th>balance</th>\n",
       "      <th>numofproducts</th>\n",
       "      <th>hascrcard</th>\n",
       "      <th>isactivemember</th>\n",
       "      <th>estimatedsalary</th>\n",
       "      <th>exited</th>\n",
       "    </tr>\n",
       "  </thead>\n",
       "  <tbody>\n",
       "    <tr>\n",
       "      <th>count</th>\n",
       "      <td>10000.000000</td>\n",
       "      <td>10000.000000</td>\n",
       "      <td>9091.000000</td>\n",
       "      <td>10000.000000</td>\n",
       "      <td>10000.000000</td>\n",
       "      <td>10000.00000</td>\n",
       "      <td>10000.000000</td>\n",
       "      <td>10000.000000</td>\n",
       "      <td>10000.000000</td>\n",
       "    </tr>\n",
       "    <tr>\n",
       "      <th>mean</th>\n",
       "      <td>650.528800</td>\n",
       "      <td>38.921800</td>\n",
       "      <td>4.997690</td>\n",
       "      <td>76485.889288</td>\n",
       "      <td>1.530200</td>\n",
       "      <td>0.70550</td>\n",
       "      <td>0.515100</td>\n",
       "      <td>100090.239881</td>\n",
       "      <td>0.203700</td>\n",
       "    </tr>\n",
       "    <tr>\n",
       "      <th>std</th>\n",
       "      <td>96.653299</td>\n",
       "      <td>10.487806</td>\n",
       "      <td>2.894723</td>\n",
       "      <td>62397.405202</td>\n",
       "      <td>0.581654</td>\n",
       "      <td>0.45584</td>\n",
       "      <td>0.499797</td>\n",
       "      <td>57510.492818</td>\n",
       "      <td>0.402769</td>\n",
       "    </tr>\n",
       "    <tr>\n",
       "      <th>min</th>\n",
       "      <td>350.000000</td>\n",
       "      <td>18.000000</td>\n",
       "      <td>0.000000</td>\n",
       "      <td>0.000000</td>\n",
       "      <td>1.000000</td>\n",
       "      <td>0.00000</td>\n",
       "      <td>0.000000</td>\n",
       "      <td>11.580000</td>\n",
       "      <td>0.000000</td>\n",
       "    </tr>\n",
       "    <tr>\n",
       "      <th>25%</th>\n",
       "      <td>584.000000</td>\n",
       "      <td>32.000000</td>\n",
       "      <td>2.000000</td>\n",
       "      <td>0.000000</td>\n",
       "      <td>1.000000</td>\n",
       "      <td>0.00000</td>\n",
       "      <td>0.000000</td>\n",
       "      <td>51002.110000</td>\n",
       "      <td>0.000000</td>\n",
       "    </tr>\n",
       "    <tr>\n",
       "      <th>50%</th>\n",
       "      <td>652.000000</td>\n",
       "      <td>37.000000</td>\n",
       "      <td>5.000000</td>\n",
       "      <td>97198.540000</td>\n",
       "      <td>1.000000</td>\n",
       "      <td>1.00000</td>\n",
       "      <td>1.000000</td>\n",
       "      <td>100193.915000</td>\n",
       "      <td>0.000000</td>\n",
       "    </tr>\n",
       "    <tr>\n",
       "      <th>75%</th>\n",
       "      <td>718.000000</td>\n",
       "      <td>44.000000</td>\n",
       "      <td>7.000000</td>\n",
       "      <td>127644.240000</td>\n",
       "      <td>2.000000</td>\n",
       "      <td>1.00000</td>\n",
       "      <td>1.000000</td>\n",
       "      <td>149388.247500</td>\n",
       "      <td>0.000000</td>\n",
       "    </tr>\n",
       "    <tr>\n",
       "      <th>max</th>\n",
       "      <td>850.000000</td>\n",
       "      <td>92.000000</td>\n",
       "      <td>10.000000</td>\n",
       "      <td>250898.090000</td>\n",
       "      <td>4.000000</td>\n",
       "      <td>1.00000</td>\n",
       "      <td>1.000000</td>\n",
       "      <td>199992.480000</td>\n",
       "      <td>1.000000</td>\n",
       "    </tr>\n",
       "  </tbody>\n",
       "</table>\n",
       "</div>"
      ],
      "text/plain": [
       "        creditscore           age       tenure        balance  numofproducts  \\\n",
       "count  10000.000000  10000.000000  9091.000000   10000.000000   10000.000000   \n",
       "mean     650.528800     38.921800     4.997690   76485.889288       1.530200   \n",
       "std       96.653299     10.487806     2.894723   62397.405202       0.581654   \n",
       "min      350.000000     18.000000     0.000000       0.000000       1.000000   \n",
       "25%      584.000000     32.000000     2.000000       0.000000       1.000000   \n",
       "50%      652.000000     37.000000     5.000000   97198.540000       1.000000   \n",
       "75%      718.000000     44.000000     7.000000  127644.240000       2.000000   \n",
       "max      850.000000     92.000000    10.000000  250898.090000       4.000000   \n",
       "\n",
       "         hascrcard  isactivemember  estimatedsalary        exited  \n",
       "count  10000.00000    10000.000000     10000.000000  10000.000000  \n",
       "mean       0.70550        0.515100    100090.239881      0.203700  \n",
       "std        0.45584        0.499797     57510.492818      0.402769  \n",
       "min        0.00000        0.000000        11.580000      0.000000  \n",
       "25%        0.00000        0.000000     51002.110000      0.000000  \n",
       "50%        1.00000        1.000000    100193.915000      0.000000  \n",
       "75%        1.00000        1.000000    149388.247500      0.000000  \n",
       "max        1.00000        1.000000    199992.480000      1.000000  "
      ]
     },
     "execution_count": 9,
     "metadata": {},
     "output_type": "execute_result"
    }
   ],
   "source": [
    "data.describe() #смотрим основные характеристики"
   ]
  },
  {
   "cell_type": "code",
   "execution_count": 10,
   "metadata": {},
   "outputs": [],
   "source": [
    "#ydata_profiling(data)"
   ]
  },
  {
   "cell_type": "markdown",
   "metadata": {},
   "source": [
    "Проверим долевое распределение клссов целевого признака Exited - факта ухода клиента."
   ]
  },
  {
   "cell_type": "code",
   "execution_count": 11,
   "metadata": {},
   "outputs": [
    {
     "data": {
      "text/plain": [
       "0.20369999999999389"
      ]
     },
     "execution_count": 11,
     "metadata": {},
     "output_type": "execute_result"
    }
   ],
   "source": [
    "sum(data['exited']/len(data)) #доля положительных объектов класса"
   ]
  },
  {
   "cell_type": "code",
   "execution_count": 12,
   "metadata": {},
   "outputs": [
    {
     "data": {
      "text/plain": [
       "0.7963000000000061"
      ]
     },
     "execution_count": 12,
     "metadata": {},
     "output_type": "execute_result"
    }
   ],
   "source": [
    "1 - sum(data['exited']/len(data)) #доля отрицательных объектов класса"
   ]
  },
  {
   "cell_type": "markdown",
   "metadata": {},
   "source": [
    "### Заполнение пропусков\n",
    "\n",
    "Предварительная обработка данных показала, что наблюдаются пропуски в столбце Tenure - сколько лет человек является клиентом банка. Посчитаем их.\n"
   ]
  },
  {
   "cell_type": "code",
   "execution_count": 13,
   "metadata": {},
   "outputs": [
    {
     "data": {
      "text/plain": [
       "creditscore          0\n",
       "geography            0\n",
       "gender               0\n",
       "age                  0\n",
       "tenure             909\n",
       "balance              0\n",
       "numofproducts        0\n",
       "hascrcard            0\n",
       "isactivemember       0\n",
       "estimatedsalary      0\n",
       "exited               0\n",
       "dtype: int64"
      ]
     },
     "execution_count": 13,
     "metadata": {},
     "output_type": "execute_result"
    }
   ],
   "source": [
    "data.isna().sum()"
   ]
  },
  {
   "cell_type": "markdown",
   "metadata": {},
   "source": [
    "Для постоения моделей наобходимо заполнить пропуски в графе Tenure. Лучше всего было бы уточнить у техничесткого отдела, с чем связаны пропуски в данных и по возможности восстановить их (так как их количество близко к критическому лимиту удаляемых данных 10%). Но поскольку такой опции у нас нет, восстановим пропуски сами. Для начала проверим корреляции признаков. "
   ]
  },
  {
   "cell_type": "code",
   "execution_count": 14,
   "metadata": {},
   "outputs": [
    {
     "data": {
      "text/html": [
       "<div>\n",
       "<style scoped>\n",
       "    .dataframe tbody tr th:only-of-type {\n",
       "        vertical-align: middle;\n",
       "    }\n",
       "\n",
       "    .dataframe tbody tr th {\n",
       "        vertical-align: top;\n",
       "    }\n",
       "\n",
       "    .dataframe thead th {\n",
       "        text-align: right;\n",
       "    }\n",
       "</style>\n",
       "<table border=\"1\" class=\"dataframe\">\n",
       "  <thead>\n",
       "    <tr style=\"text-align: right;\">\n",
       "      <th></th>\n",
       "      <th>creditscore</th>\n",
       "      <th>age</th>\n",
       "      <th>tenure</th>\n",
       "      <th>balance</th>\n",
       "      <th>numofproducts</th>\n",
       "      <th>hascrcard</th>\n",
       "      <th>isactivemember</th>\n",
       "      <th>estimatedsalary</th>\n",
       "      <th>exited</th>\n",
       "    </tr>\n",
       "  </thead>\n",
       "  <tbody>\n",
       "    <tr>\n",
       "      <th>creditscore</th>\n",
       "      <td>1.000000</td>\n",
       "      <td>-0.003965</td>\n",
       "      <td>-0.000062</td>\n",
       "      <td>0.006268</td>\n",
       "      <td>0.012238</td>\n",
       "      <td>-0.005458</td>\n",
       "      <td>0.025651</td>\n",
       "      <td>-0.001384</td>\n",
       "      <td>-0.027094</td>\n",
       "    </tr>\n",
       "    <tr>\n",
       "      <th>age</th>\n",
       "      <td>-0.003965</td>\n",
       "      <td>1.000000</td>\n",
       "      <td>-0.013134</td>\n",
       "      <td>0.028308</td>\n",
       "      <td>-0.030680</td>\n",
       "      <td>-0.011721</td>\n",
       "      <td>0.085472</td>\n",
       "      <td>-0.007201</td>\n",
       "      <td>0.285323</td>\n",
       "    </tr>\n",
       "    <tr>\n",
       "      <th>tenure</th>\n",
       "      <td>-0.000062</td>\n",
       "      <td>-0.013134</td>\n",
       "      <td>1.000000</td>\n",
       "      <td>-0.007911</td>\n",
       "      <td>0.011979</td>\n",
       "      <td>0.027232</td>\n",
       "      <td>-0.032178</td>\n",
       "      <td>0.010520</td>\n",
       "      <td>-0.016761</td>\n",
       "    </tr>\n",
       "    <tr>\n",
       "      <th>balance</th>\n",
       "      <td>0.006268</td>\n",
       "      <td>0.028308</td>\n",
       "      <td>-0.007911</td>\n",
       "      <td>1.000000</td>\n",
       "      <td>-0.304180</td>\n",
       "      <td>-0.014858</td>\n",
       "      <td>-0.010084</td>\n",
       "      <td>0.012797</td>\n",
       "      <td>0.118533</td>\n",
       "    </tr>\n",
       "    <tr>\n",
       "      <th>numofproducts</th>\n",
       "      <td>0.012238</td>\n",
       "      <td>-0.030680</td>\n",
       "      <td>0.011979</td>\n",
       "      <td>-0.304180</td>\n",
       "      <td>1.000000</td>\n",
       "      <td>0.003183</td>\n",
       "      <td>0.009612</td>\n",
       "      <td>0.014204</td>\n",
       "      <td>-0.047820</td>\n",
       "    </tr>\n",
       "    <tr>\n",
       "      <th>hascrcard</th>\n",
       "      <td>-0.005458</td>\n",
       "      <td>-0.011721</td>\n",
       "      <td>0.027232</td>\n",
       "      <td>-0.014858</td>\n",
       "      <td>0.003183</td>\n",
       "      <td>1.000000</td>\n",
       "      <td>-0.011866</td>\n",
       "      <td>-0.009933</td>\n",
       "      <td>-0.007138</td>\n",
       "    </tr>\n",
       "    <tr>\n",
       "      <th>isactivemember</th>\n",
       "      <td>0.025651</td>\n",
       "      <td>0.085472</td>\n",
       "      <td>-0.032178</td>\n",
       "      <td>-0.010084</td>\n",
       "      <td>0.009612</td>\n",
       "      <td>-0.011866</td>\n",
       "      <td>1.000000</td>\n",
       "      <td>-0.011421</td>\n",
       "      <td>-0.156128</td>\n",
       "    </tr>\n",
       "    <tr>\n",
       "      <th>estimatedsalary</th>\n",
       "      <td>-0.001384</td>\n",
       "      <td>-0.007201</td>\n",
       "      <td>0.010520</td>\n",
       "      <td>0.012797</td>\n",
       "      <td>0.014204</td>\n",
       "      <td>-0.009933</td>\n",
       "      <td>-0.011421</td>\n",
       "      <td>1.000000</td>\n",
       "      <td>0.012097</td>\n",
       "    </tr>\n",
       "    <tr>\n",
       "      <th>exited</th>\n",
       "      <td>-0.027094</td>\n",
       "      <td>0.285323</td>\n",
       "      <td>-0.016761</td>\n",
       "      <td>0.118533</td>\n",
       "      <td>-0.047820</td>\n",
       "      <td>-0.007138</td>\n",
       "      <td>-0.156128</td>\n",
       "      <td>0.012097</td>\n",
       "      <td>1.000000</td>\n",
       "    </tr>\n",
       "  </tbody>\n",
       "</table>\n",
       "</div>"
      ],
      "text/plain": [
       "                 creditscore       age    tenure   balance  numofproducts  \\\n",
       "creditscore         1.000000 -0.003965 -0.000062  0.006268       0.012238   \n",
       "age                -0.003965  1.000000 -0.013134  0.028308      -0.030680   \n",
       "tenure             -0.000062 -0.013134  1.000000 -0.007911       0.011979   \n",
       "balance             0.006268  0.028308 -0.007911  1.000000      -0.304180   \n",
       "numofproducts       0.012238 -0.030680  0.011979 -0.304180       1.000000   \n",
       "hascrcard          -0.005458 -0.011721  0.027232 -0.014858       0.003183   \n",
       "isactivemember      0.025651  0.085472 -0.032178 -0.010084       0.009612   \n",
       "estimatedsalary    -0.001384 -0.007201  0.010520  0.012797       0.014204   \n",
       "exited             -0.027094  0.285323 -0.016761  0.118533      -0.047820   \n",
       "\n",
       "                 hascrcard  isactivemember  estimatedsalary    exited  \n",
       "creditscore      -0.005458        0.025651        -0.001384 -0.027094  \n",
       "age              -0.011721        0.085472        -0.007201  0.285323  \n",
       "tenure            0.027232       -0.032178         0.010520 -0.016761  \n",
       "balance          -0.014858       -0.010084         0.012797  0.118533  \n",
       "numofproducts     0.003183        0.009612         0.014204 -0.047820  \n",
       "hascrcard         1.000000       -0.011866        -0.009933 -0.007138  \n",
       "isactivemember   -0.011866        1.000000        -0.011421 -0.156128  \n",
       "estimatedsalary  -0.009933       -0.011421         1.000000  0.012097  \n",
       "exited           -0.007138       -0.156128         0.012097  1.000000  "
      ]
     },
     "execution_count": 14,
     "metadata": {},
     "output_type": "execute_result"
    }
   ],
   "source": [
    "data.corr()"
   ]
  },
  {
   "cell_type": "code",
   "execution_count": 15,
   "metadata": {},
   "outputs": [
    {
     "data": {
      "image/png": "[encoded data removed]",
      "text/plain": [
       "<Figure size 1500x1000 with 81 Axes>"
      ]
     },
     "metadata": {},
     "output_type": "display_data"
    }
   ],
   "source": [
    "pd.plotting.scatter_matrix(data, figsize=(15,10));"
   ]
  },
  {
   "cell_type": "markdown",
   "metadata": {},
   "source": [
    "Корреляции между целевым и остальными признаками не наблюдаются. Исключение составляет крайне слабая коррелция с возрастом (коэфф. корреляции = 0,2). На этом основании можно заполнить пропуcки рандомно. Поскольку 0 означает, что клиент пришел в этом году, а в компании наблюдается отток, то нулевым значением заполнять пропуски не следует. Для начала посмотрим уникальные значения в этом столбце. "
   ]
  },
  {
   "cell_type": "code",
   "execution_count": 16,
   "metadata": {},
   "outputs": [
    {
     "data": {
      "text/plain": [
       "array([ 2.,  1.,  8.,  7.,  4.,  6.,  3., 10.,  5.,  9.,  0., nan])"
      ]
     },
     "execution_count": 16,
     "metadata": {},
     "output_type": "execute_result"
    }
   ],
   "source": [
    "data['tenure'].unique()"
   ]
  },
  {
   "cell_type": "code",
   "execution_count": 17,
   "metadata": {},
   "outputs": [
    {
     "data": {
      "image/png": "[encoded data removed]",
      "text/plain": [
       "<Figure size 640x480 with 1 Axes>"
      ]
     },
     "metadata": {},
     "output_type": "display_data"
    }
   ],
   "source": [
    "sns.histplot(data, x = 'tenure');"
   ]
  },
  {
   "cell_type": "markdown",
   "metadata": {},
   "source": [
    "Заполнение нулями может оказать влияние на данные: по исходным данных в банке установлен факт оттока клинетов, а нули будут означать, что клиент стал в это году клинетом банка. Поэтому, для того, чтобы заполнить пропуски, установим \"заглушки\"."
   ]
  },
  {
   "cell_type": "code",
   "execution_count": 18,
   "metadata": {},
   "outputs": [],
   "source": [
    "data['tenure'].fillna(-1, inplace=True)\n",
    "data['tenure'] = data['tenure'].astype('object')      "
   ]
  },
  {
   "cell_type": "code",
   "execution_count": 19,
   "metadata": {},
   "outputs": [
    {
     "name": "stdout",
     "output_type": "stream",
     "text": [
      "<class 'pandas.core.frame.DataFrame'>\n",
      "RangeIndex: 10000 entries, 0 to 9999\n",
      "Data columns (total 11 columns):\n",
      " #   Column           Non-Null Count  Dtype  \n",
      "---  ------           --------------  -----  \n",
      " 0   creditscore      10000 non-null  int64  \n",
      " 1   geography        10000 non-null  object \n",
      " 2   gender           10000 non-null  object \n",
      " 3   age              10000 non-null  int64  \n",
      " 4   tenure           10000 non-null  object \n",
      " 5   balance          10000 non-null  float64\n",
      " 6   numofproducts    10000 non-null  int64  \n",
      " 7   hascrcard        10000 non-null  int64  \n",
      " 8   isactivemember   10000 non-null  int64  \n",
      " 9   estimatedsalary  10000 non-null  float64\n",
      " 10  exited           10000 non-null  int64  \n",
      "dtypes: float64(2), int64(6), object(3)\n",
      "memory usage: 859.5+ KB\n"
     ]
    }
   ],
   "source": [
    "data.info() # check"
   ]
  },
  {
   "cell_type": "markdown",
   "metadata": {},
   "source": [
    "### Промежуточные выводы:\n",
    "\n",
    "1. Данные предобработаны:\n",
    "- приведены в соответствие со змеиным регистром;\n",
    "- дубликаты не выявлены;\n",
    "- выявлены пропуски в столбце Tenure - сколько лет человек является клиентом банка (менее 10%); \n",
    "- проверены корреляции между признаками и целевым (корреляции отсутсвую за искл. крайне слабой корр. целевого признака с возрастом (коэф. корр. = 0,2);\n",
    "- пропущенные данные в столбце Tenure заполнены \"заглушками\";\n",
    "- типы данных соотвутствуцют содержанию столбцов.\n",
    "2. Посчитаны доли классов целевого признака. Наблюдается значительный перевес отрицательных значений (80%)."
   ]
  },
  {
   "cell_type": "markdown",
   "metadata": {},
   "source": [
    "## Исследование задачи"
   ]
  },
  {
   "cell_type": "markdown",
   "metadata": {},
   "source": [
    "### Преобразование данных\n",
    "\n",
    "Начнем с преобразования категориальных данных в численные для удобства дальнейшей обработки данных. Воспользуемся для этого прямым кодированием (OHE). Чтобы избежать дамми-ловушку, удаляем 1 столбец."
   ]
  },
  {
   "cell_type": "code",
   "execution_count": 20,
   "metadata": {},
   "outputs": [
    {
     "name": "stderr",
     "output_type": "stream",
     "text": [
      "D:\\anaconda3\\lib\\site-packages\\pandas\\core\\algorithms.py:798: FutureWarning: In a future version, the Index constructor will not infer numeric dtypes when passed object-dtype sequences (matching Series behavior)\n",
      "  uniques = Index(uniques)\n"
     ]
    },
    {
     "data": {
      "text/html": [
       "<div>\n",
       "<style scoped>\n",
       "    .dataframe tbody tr th:only-of-type {\n",
       "        vertical-align: middle;\n",
       "    }\n",
       "\n",
       "    .dataframe tbody tr th {\n",
       "        vertical-align: top;\n",
       "    }\n",
       "\n",
       "    .dataframe thead th {\n",
       "        text-align: right;\n",
       "    }\n",
       "</style>\n",
       "<table border=\"1\" class=\"dataframe\">\n",
       "  <thead>\n",
       "    <tr style=\"text-align: right;\">\n",
       "      <th></th>\n",
       "      <th>creditscore</th>\n",
       "      <th>age</th>\n",
       "      <th>balance</th>\n",
       "      <th>numofproducts</th>\n",
       "      <th>hascrcard</th>\n",
       "      <th>isactivemember</th>\n",
       "      <th>estimatedsalary</th>\n",
       "      <th>exited</th>\n",
       "      <th>geography_Germany</th>\n",
       "      <th>geography_Spain</th>\n",
       "      <th>...</th>\n",
       "      <th>tenure_1.0</th>\n",
       "      <th>tenure_2.0</th>\n",
       "      <th>tenure_3.0</th>\n",
       "      <th>tenure_4.0</th>\n",
       "      <th>tenure_5.0</th>\n",
       "      <th>tenure_6.0</th>\n",
       "      <th>tenure_7.0</th>\n",
       "      <th>tenure_8.0</th>\n",
       "      <th>tenure_9.0</th>\n",
       "      <th>tenure_10.0</th>\n",
       "    </tr>\n",
       "  </thead>\n",
       "  <tbody>\n",
       "    <tr>\n",
       "      <th>0</th>\n",
       "      <td>619</td>\n",
       "      <td>42</td>\n",
       "      <td>0.00</td>\n",
       "      <td>1</td>\n",
       "      <td>1</td>\n",
       "      <td>1</td>\n",
       "      <td>101348.88</td>\n",
       "      <td>1</td>\n",
       "      <td>0</td>\n",
       "      <td>0</td>\n",
       "      <td>...</td>\n",
       "      <td>0</td>\n",
       "      <td>1</td>\n",
       "      <td>0</td>\n",
       "      <td>0</td>\n",
       "      <td>0</td>\n",
       "      <td>0</td>\n",
       "      <td>0</td>\n",
       "      <td>0</td>\n",
       "      <td>0</td>\n",
       "      <td>0</td>\n",
       "    </tr>\n",
       "    <tr>\n",
       "      <th>1</th>\n",
       "      <td>608</td>\n",
       "      <td>41</td>\n",
       "      <td>83807.86</td>\n",
       "      <td>1</td>\n",
       "      <td>0</td>\n",
       "      <td>1</td>\n",
       "      <td>112542.58</td>\n",
       "      <td>0</td>\n",
       "      <td>0</td>\n",
       "      <td>1</td>\n",
       "      <td>...</td>\n",
       "      <td>1</td>\n",
       "      <td>0</td>\n",
       "      <td>0</td>\n",
       "      <td>0</td>\n",
       "      <td>0</td>\n",
       "      <td>0</td>\n",
       "      <td>0</td>\n",
       "      <td>0</td>\n",
       "      <td>0</td>\n",
       "      <td>0</td>\n",
       "    </tr>\n",
       "    <tr>\n",
       "      <th>2</th>\n",
       "      <td>502</td>\n",
       "      <td>42</td>\n",
       "      <td>159660.80</td>\n",
       "      <td>3</td>\n",
       "      <td>1</td>\n",
       "      <td>0</td>\n",
       "      <td>113931.57</td>\n",
       "      <td>1</td>\n",
       "      <td>0</td>\n",
       "      <td>0</td>\n",
       "      <td>...</td>\n",
       "      <td>0</td>\n",
       "      <td>0</td>\n",
       "      <td>0</td>\n",
       "      <td>0</td>\n",
       "      <td>0</td>\n",
       "      <td>0</td>\n",
       "      <td>0</td>\n",
       "      <td>1</td>\n",
       "      <td>0</td>\n",
       "      <td>0</td>\n",
       "    </tr>\n",
       "    <tr>\n",
       "      <th>3</th>\n",
       "      <td>699</td>\n",
       "      <td>39</td>\n",
       "      <td>0.00</td>\n",
       "      <td>2</td>\n",
       "      <td>0</td>\n",
       "      <td>0</td>\n",
       "      <td>93826.63</td>\n",
       "      <td>0</td>\n",
       "      <td>0</td>\n",
       "      <td>0</td>\n",
       "      <td>...</td>\n",
       "      <td>1</td>\n",
       "      <td>0</td>\n",
       "      <td>0</td>\n",
       "      <td>0</td>\n",
       "      <td>0</td>\n",
       "      <td>0</td>\n",
       "      <td>0</td>\n",
       "      <td>0</td>\n",
       "      <td>0</td>\n",
       "      <td>0</td>\n",
       "    </tr>\n",
       "    <tr>\n",
       "      <th>4</th>\n",
       "      <td>850</td>\n",
       "      <td>43</td>\n",
       "      <td>125510.82</td>\n",
       "      <td>1</td>\n",
       "      <td>1</td>\n",
       "      <td>1</td>\n",
       "      <td>79084.10</td>\n",
       "      <td>0</td>\n",
       "      <td>0</td>\n",
       "      <td>1</td>\n",
       "      <td>...</td>\n",
       "      <td>0</td>\n",
       "      <td>1</td>\n",
       "      <td>0</td>\n",
       "      <td>0</td>\n",
       "      <td>0</td>\n",
       "      <td>0</td>\n",
       "      <td>0</td>\n",
       "      <td>0</td>\n",
       "      <td>0</td>\n",
       "      <td>0</td>\n",
       "    </tr>\n",
       "  </tbody>\n",
       "</table>\n",
       "<p>5 rows × 22 columns</p>\n",
       "</div>"
      ],
      "text/plain": [
       "   creditscore  age    balance  numofproducts  hascrcard  isactivemember  \\\n",
       "0          619   42       0.00              1          1               1   \n",
       "1          608   41   83807.86              1          0               1   \n",
       "2          502   42  159660.80              3          1               0   \n",
       "3          699   39       0.00              2          0               0   \n",
       "4          850   43  125510.82              1          1               1   \n",
       "\n",
       "   estimatedsalary  exited  geography_Germany  geography_Spain  ...  \\\n",
       "0        101348.88       1                  0                0  ...   \n",
       "1        112542.58       0                  0                1  ...   \n",
       "2        113931.57       1                  0                0  ...   \n",
       "3         93826.63       0                  0                0  ...   \n",
       "4         79084.10       0                  0                1  ...   \n",
       "\n",
       "   tenure_1.0  tenure_2.0  tenure_3.0  tenure_4.0  tenure_5.0  tenure_6.0  \\\n",
       "0           0           1           0           0           0           0   \n",
       "1           1           0           0           0           0           0   \n",
       "2           0           0           0           0           0           0   \n",
       "3           1           0           0           0           0           0   \n",
       "4           0           1           0           0           0           0   \n",
       "\n",
       "   tenure_7.0  tenure_8.0  tenure_9.0  tenure_10.0  \n",
       "0           0           0           0            0  \n",
       "1           0           0           0            0  \n",
       "2           0           1           0            0  \n",
       "3           0           0           0            0  \n",
       "4           0           0           0            0  \n",
       "\n",
       "[5 rows x 22 columns]"
      ]
     },
     "execution_count": 20,
     "metadata": {},
     "output_type": "execute_result"
    }
   ],
   "source": [
    "data = pd.get_dummies(data, drop_first= True)\n",
    "data.head(5)"
   ]
  },
  {
   "cell_type": "markdown",
   "metadata": {},
   "source": [
    "### Разбивка данных на выборки\n",
    "\n",
    "Для начала зададим признаки и целевой признак. В нашем случае целевой признак - это exited - факт ухода клиента, а признаки - остальные данные. "
   ]
  },
  {
   "cell_type": "code",
   "execution_count": 21,
   "metadata": {},
   "outputs": [],
   "source": [
    "features = data.drop(['exited'], axis=1)\n",
    "target = data['exited']"
   ]
  },
  {
   "cell_type": "markdown",
   "metadata": {},
   "source": [
    "Так как скрытой тестовой выборки нет, разделим датасет на 3 выборки - обучающую (60%), валидационную(20%) и тестовую(20%). Для этого сначала выделим 20% данных для тестовой выборки, а затем разделим оставшиеся 80% на обучающую и валидационную выборки, задав размер валидациооной выборки - 25%."
   ]
  },
  {
   "cell_type": "code",
   "execution_count": 22,
   "metadata": {},
   "outputs": [],
   "source": [
    "x, features_test, y, target_test = train_test_split(features, target, test_size=0.2, random_state=12345) #отделяем 20% для тестовой выборки"
   ]
  },
  {
   "cell_type": "code",
   "execution_count": 23,
   "metadata": {},
   "outputs": [],
   "source": [
    "features_train, features_valid, target_train, target_valid = train_test_split(x, y, test_size=0.25, random_state=12345) #делим оставшуюся часть на обучающую и валидационную выборки"
   ]
  },
  {
   "cell_type": "code",
   "execution_count": 24,
   "metadata": {},
   "outputs": [
    {
     "name": "stdout",
     "output_type": "stream",
     "text": [
      "(6000, 21)\n",
      "(6000,)\n",
      "(2000, 21)\n",
      "(2000,)\n",
      "(2000,)\n",
      "(2000, 21)\n"
     ]
    }
   ],
   "source": [
    "print(features_train.shape) #проверим размеры выборок\n",
    "print(target_train.shape)\n",
    "print(features_valid.shape)\n",
    "print(target_valid.shape)\n",
    "print(target_test.shape)\n",
    "print(features_test.shape)"
   ]
  },
  {
   "cell_type": "markdown",
   "metadata": {},
   "source": [
    "### Масштабирование признаков\n",
    "\n",
    "Поскольку в данных количественные признаки с разным разбросом значений, требуется масштабирование. Для этого вопрользуемся методом стандартизации данных. "
   ]
  },
  {
   "cell_type": "code",
   "execution_count": 25,
   "metadata": {},
   "outputs": [],
   "source": [
    "scaler = StandardScaler()"
   ]
  },
  {
   "cell_type": "code",
   "execution_count": 26,
   "metadata": {},
   "outputs": [
    {
     "data": {
      "text/html": [
       "<style>#sk-container-id-1 {color: black;}#sk-container-id-1 pre{padding: 0;}#sk-container-id-1 div.sk-toggleable {background-color: white;}#sk-container-id-1 label.sk-toggleable__label {cursor: pointer;display: block;width: 100%;margin-bottom: 0;padding: 0.3em;box-sizing: border-box;text-align: center;}#sk-container-id-1 label.sk-toggleable__label-arrow:before {content: \"▸\";float: left;margin-right: 0.25em;color: #696969;}#sk-container-id-1 label.sk-toggleable__label-arrow:hover:before {color: black;}#sk-container-id-1 div.sk-estimator:hover label.sk-toggleable__label-arrow:before {color: black;}#sk-container-id-1 div.sk-toggleable__content {max-height: 0;max-width: 0;overflow: hidden;text-align: left;background-color: #f0f8ff;}#sk-container-id-1 div.sk-toggleable__content pre {margin: 0.2em;color: black;border-radius: 0.25em;background-color: #f0f8ff;}#sk-container-id-1 input.sk-toggleable__control:checked~div.sk-toggleable__content {max-height: 200px;max-width: 100%;overflow: auto;}#sk-container-id-1 input.sk-toggleable__control:checked~label.sk-toggleable__label-arrow:before {content: \"▾\";}#sk-container-id-1 div.sk-estimator input.sk-toggleable__control:checked~label.sk-toggleable__label {background-color: #d4ebff;}#sk-container-id-1 div.sk-label input.sk-toggleable__control:checked~label.sk-toggleable__label {background-color: #d4ebff;}#sk-container-id-1 input.sk-hidden--visually {border: 0;clip: rect(1px 1px 1px 1px);clip: rect(1px, 1px, 1px, 1px);height: 1px;margin: -1px;overflow: hidden;padding: 0;position: absolute;width: 1px;}#sk-container-id-1 div.sk-estimator {font-family: monospace;background-color: #f0f8ff;border: 1px dotted black;border-radius: 0.25em;box-sizing: border-box;margin-bottom: 0.5em;}#sk-container-id-1 div.sk-estimator:hover {background-color: #d4ebff;}#sk-container-id-1 div.sk-parallel-item::after {content: \"\";width: 100%;border-bottom: 1px solid gray;flex-grow: 1;}#sk-container-id-1 div.sk-label:hover label.sk-toggleable__label {background-color: #d4ebff;}#sk-container-id-1 div.sk-serial::before {content: \"\";position: absolute;border-left: 1px solid gray;box-sizing: border-box;top: 0;bottom: 0;left: 50%;z-index: 0;}#sk-container-id-1 div.sk-serial {display: flex;flex-direction: column;align-items: center;background-color: white;padding-right: 0.2em;padding-left: 0.2em;position: relative;}#sk-container-id-1 div.sk-item {position: relative;z-index: 1;}#sk-container-id-1 div.sk-parallel {display: flex;align-items: stretch;justify-content: center;background-color: white;position: relative;}#sk-container-id-1 div.sk-item::before, #sk-container-id-1 div.sk-parallel-item::before {content: \"\";position: absolute;border-left: 1px solid gray;box-sizing: border-box;top: 0;bottom: 0;left: 50%;z-index: -1;}#sk-container-id-1 div.sk-parallel-item {display: flex;flex-direction: column;z-index: 1;position: relative;background-color: white;}#sk-container-id-1 div.sk-parallel-item:first-child::after {align-self: flex-end;width: 50%;}#sk-container-id-1 div.sk-parallel-item:last-child::after {align-self: flex-start;width: 50%;}#sk-container-id-1 div.sk-parallel-item:only-child::after {width: 0;}#sk-container-id-1 div.sk-dashed-wrapped {border: 1px dashed gray;margin: 0 0.4em 0.5em 0.4em;box-sizing: border-box;padding-bottom: 0.4em;background-color: white;}#sk-container-id-1 div.sk-label label {font-family: monospace;font-weight: bold;display: inline-block;line-height: 1.2em;}#sk-container-id-1 div.sk-label-container {text-align: center;}#sk-container-id-1 div.sk-container {/* jupyter's `normalize.less` sets `[hidden] { display: none; }` but bootstrap.min.css set `[hidden] { display: none !important; }` so we also need the `!important` here to be able to override the default hidden behavior on the sphinx rendered scikit-learn.org. See: https://github.com/scikit-learn/scikit-learn/issues/21755 */display: inline-block !important;position: relative;}#sk-container-id-1 div.sk-text-repr-fallback {display: none;}</style><div id=\"sk-container-id-1\" class=\"sk-top-container\"><div class=\"sk-text-repr-fallback\"><pre>StandardScaler()</pre><b>In a Jupyter environment, please rerun this cell to show the HTML representation or trust the notebook. <br />On GitHub, the HTML representation is unable to render, please try loading this page with nbviewer.org.</b></div><div class=\"sk-container\" hidden><div class=\"sk-item\"><div class=\"sk-estimator sk-toggleable\"><input class=\"sk-toggleable__control sk-hidden--visually\" id=\"sk-estimator-id-1\" type=\"checkbox\" checked><label for=\"sk-estimator-id-1\" class=\"sk-toggleable__label sk-toggleable__label-arrow\">StandardScaler</label><div class=\"sk-toggleable__content\"><pre>StandardScaler()</pre></div></div></div></div></div>"
      ],
      "text/plain": [
       "StandardScaler()"
      ]
     },
     "execution_count": 26,
     "metadata": {},
     "output_type": "execute_result"
    }
   ],
   "source": [
    "scaler.fit(features_train) # настройка"
   ]
  },
  {
   "cell_type": "code",
   "execution_count": 27,
   "metadata": {},
   "outputs": [],
   "source": [
    "features_train_scaled = scaler.transform(features_train) # преобразование выборок\n",
    "features_valid_scaled = scaler.transform(features_valid)\n",
    "features_test_scaled = scaler.transform(features_test)"
   ]
  },
  {
   "cell_type": "code",
   "execution_count": 28,
   "metadata": {},
   "outputs": [
    {
     "data": {
      "text/html": [
       "<div>\n",
       "<style scoped>\n",
       "    .dataframe tbody tr th:only-of-type {\n",
       "        vertical-align: middle;\n",
       "    }\n",
       "\n",
       "    .dataframe tbody tr th {\n",
       "        vertical-align: top;\n",
       "    }\n",
       "\n",
       "    .dataframe thead th {\n",
       "        text-align: right;\n",
       "    }\n",
       "</style>\n",
       "<table border=\"1\" class=\"dataframe\">\n",
       "  <thead>\n",
       "    <tr style=\"text-align: right;\">\n",
       "      <th></th>\n",
       "      <th>creditscore</th>\n",
       "      <th>age</th>\n",
       "      <th>balance</th>\n",
       "      <th>numofproducts</th>\n",
       "      <th>hascrcard</th>\n",
       "      <th>isactivemember</th>\n",
       "      <th>estimatedsalary</th>\n",
       "      <th>geography_Germany</th>\n",
       "      <th>geography_Spain</th>\n",
       "      <th>gender_Male</th>\n",
       "      <th>...</th>\n",
       "      <th>tenure_1.0</th>\n",
       "      <th>tenure_2.0</th>\n",
       "      <th>tenure_3.0</th>\n",
       "      <th>tenure_4.0</th>\n",
       "      <th>tenure_5.0</th>\n",
       "      <th>tenure_6.0</th>\n",
       "      <th>tenure_7.0</th>\n",
       "      <th>tenure_8.0</th>\n",
       "      <th>tenure_9.0</th>\n",
       "      <th>tenure_10.0</th>\n",
       "    </tr>\n",
       "  </thead>\n",
       "  <tbody>\n",
       "    <tr>\n",
       "      <th>492</th>\n",
       "      <td>639</td>\n",
       "      <td>38</td>\n",
       "      <td>81550.94</td>\n",
       "      <td>2</td>\n",
       "      <td>0</td>\n",
       "      <td>1</td>\n",
       "      <td>118974.77</td>\n",
       "      <td>0</td>\n",
       "      <td>0</td>\n",
       "      <td>0</td>\n",
       "      <td>...</td>\n",
       "      <td>0</td>\n",
       "      <td>0</td>\n",
       "      <td>0</td>\n",
       "      <td>1</td>\n",
       "      <td>0</td>\n",
       "      <td>0</td>\n",
       "      <td>0</td>\n",
       "      <td>0</td>\n",
       "      <td>0</td>\n",
       "      <td>0</td>\n",
       "    </tr>\n",
       "    <tr>\n",
       "      <th>6655</th>\n",
       "      <td>554</td>\n",
       "      <td>44</td>\n",
       "      <td>85304.27</td>\n",
       "      <td>1</td>\n",
       "      <td>1</td>\n",
       "      <td>1</td>\n",
       "      <td>58076.52</td>\n",
       "      <td>0</td>\n",
       "      <td>0</td>\n",
       "      <td>1</td>\n",
       "      <td>...</td>\n",
       "      <td>0</td>\n",
       "      <td>0</td>\n",
       "      <td>0</td>\n",
       "      <td>0</td>\n",
       "      <td>0</td>\n",
       "      <td>0</td>\n",
       "      <td>0</td>\n",
       "      <td>0</td>\n",
       "      <td>0</td>\n",
       "      <td>0</td>\n",
       "    </tr>\n",
       "    <tr>\n",
       "      <th>4287</th>\n",
       "      <td>714</td>\n",
       "      <td>53</td>\n",
       "      <td>99141.86</td>\n",
       "      <td>1</td>\n",
       "      <td>1</td>\n",
       "      <td>1</td>\n",
       "      <td>72496.05</td>\n",
       "      <td>1</td>\n",
       "      <td>0</td>\n",
       "      <td>1</td>\n",
       "      <td>...</td>\n",
       "      <td>1</td>\n",
       "      <td>0</td>\n",
       "      <td>0</td>\n",
       "      <td>0</td>\n",
       "      <td>0</td>\n",
       "      <td>0</td>\n",
       "      <td>0</td>\n",
       "      <td>0</td>\n",
       "      <td>0</td>\n",
       "      <td>0</td>\n",
       "    </tr>\n",
       "    <tr>\n",
       "      <th>42</th>\n",
       "      <td>556</td>\n",
       "      <td>61</td>\n",
       "      <td>117419.35</td>\n",
       "      <td>1</td>\n",
       "      <td>1</td>\n",
       "      <td>1</td>\n",
       "      <td>94153.83</td>\n",
       "      <td>0</td>\n",
       "      <td>0</td>\n",
       "      <td>0</td>\n",
       "      <td>...</td>\n",
       "      <td>0</td>\n",
       "      <td>1</td>\n",
       "      <td>0</td>\n",
       "      <td>0</td>\n",
       "      <td>0</td>\n",
       "      <td>0</td>\n",
       "      <td>0</td>\n",
       "      <td>0</td>\n",
       "      <td>0</td>\n",
       "      <td>0</td>\n",
       "    </tr>\n",
       "    <tr>\n",
       "      <th>8178</th>\n",
       "      <td>707</td>\n",
       "      <td>46</td>\n",
       "      <td>127476.73</td>\n",
       "      <td>2</td>\n",
       "      <td>1</td>\n",
       "      <td>1</td>\n",
       "      <td>146011.55</td>\n",
       "      <td>0</td>\n",
       "      <td>0</td>\n",
       "      <td>0</td>\n",
       "      <td>...</td>\n",
       "      <td>0</td>\n",
       "      <td>0</td>\n",
       "      <td>0</td>\n",
       "      <td>0</td>\n",
       "      <td>0</td>\n",
       "      <td>0</td>\n",
       "      <td>1</td>\n",
       "      <td>0</td>\n",
       "      <td>0</td>\n",
       "      <td>0</td>\n",
       "    </tr>\n",
       "  </tbody>\n",
       "</table>\n",
       "<p>5 rows × 21 columns</p>\n",
       "</div>"
      ],
      "text/plain": [
       "      creditscore  age    balance  numofproducts  hascrcard  isactivemember  \\\n",
       "492           639   38   81550.94              2          0               1   \n",
       "6655          554   44   85304.27              1          1               1   \n",
       "4287          714   53   99141.86              1          1               1   \n",
       "42            556   61  117419.35              1          1               1   \n",
       "8178          707   46  127476.73              2          1               1   \n",
       "\n",
       "      estimatedsalary  geography_Germany  geography_Spain  gender_Male  ...  \\\n",
       "492         118974.77                  0                0            0  ...   \n",
       "6655         58076.52                  0                0            1  ...   \n",
       "4287         72496.05                  1                0            1  ...   \n",
       "42           94153.83                  0                0            0  ...   \n",
       "8178        146011.55                  0                0            0  ...   \n",
       "\n",
       "      tenure_1.0  tenure_2.0  tenure_3.0  tenure_4.0  tenure_5.0  tenure_6.0  \\\n",
       "492            0           0           0           1           0           0   \n",
       "6655           0           0           0           0           0           0   \n",
       "4287           1           0           0           0           0           0   \n",
       "42             0           1           0           0           0           0   \n",
       "8178           0           0           0           0           0           0   \n",
       "\n",
       "      tenure_7.0  tenure_8.0  tenure_9.0  tenure_10.0  \n",
       "492            0           0           0            0  \n",
       "6655           0           0           0            0  \n",
       "4287           0           0           0            0  \n",
       "42             0           0           0            0  \n",
       "8178           1           0           0            0  \n",
       "\n",
       "[5 rows x 21 columns]"
      ]
     },
     "metadata": {},
     "output_type": "display_data"
    },
    {
     "data": {
      "text/html": [
       "<div>\n",
       "<style scoped>\n",
       "    .dataframe tbody tr th:only-of-type {\n",
       "        vertical-align: middle;\n",
       "    }\n",
       "\n",
       "    .dataframe tbody tr th {\n",
       "        vertical-align: top;\n",
       "    }\n",
       "\n",
       "    .dataframe thead th {\n",
       "        text-align: right;\n",
       "    }\n",
       "</style>\n",
       "<table border=\"1\" class=\"dataframe\">\n",
       "  <thead>\n",
       "    <tr style=\"text-align: right;\">\n",
       "      <th></th>\n",
       "      <th>creditscore</th>\n",
       "      <th>age</th>\n",
       "      <th>balance</th>\n",
       "      <th>numofproducts</th>\n",
       "      <th>hascrcard</th>\n",
       "      <th>isactivemember</th>\n",
       "      <th>estimatedsalary</th>\n",
       "      <th>geography_Germany</th>\n",
       "      <th>geography_Spain</th>\n",
       "      <th>gender_Male</th>\n",
       "      <th>...</th>\n",
       "      <th>tenure_1.0</th>\n",
       "      <th>tenure_2.0</th>\n",
       "      <th>tenure_3.0</th>\n",
       "      <th>tenure_4.0</th>\n",
       "      <th>tenure_5.0</th>\n",
       "      <th>tenure_6.0</th>\n",
       "      <th>tenure_7.0</th>\n",
       "      <th>tenure_8.0</th>\n",
       "      <th>tenure_9.0</th>\n",
       "      <th>tenure_10.0</th>\n",
       "    </tr>\n",
       "  </thead>\n",
       "  <tbody>\n",
       "    <tr>\n",
       "      <th>2358</th>\n",
       "      <td>669</td>\n",
       "      <td>43</td>\n",
       "      <td>163159.85</td>\n",
       "      <td>1</td>\n",
       "      <td>0</td>\n",
       "      <td>1</td>\n",
       "      <td>15602.80</td>\n",
       "      <td>0</td>\n",
       "      <td>0</td>\n",
       "      <td>1</td>\n",
       "      <td>...</td>\n",
       "      <td>1</td>\n",
       "      <td>0</td>\n",
       "      <td>0</td>\n",
       "      <td>0</td>\n",
       "      <td>0</td>\n",
       "      <td>0</td>\n",
       "      <td>0</td>\n",
       "      <td>0</td>\n",
       "      <td>0</td>\n",
       "      <td>0</td>\n",
       "    </tr>\n",
       "    <tr>\n",
       "      <th>8463</th>\n",
       "      <td>526</td>\n",
       "      <td>49</td>\n",
       "      <td>0.00</td>\n",
       "      <td>1</td>\n",
       "      <td>1</td>\n",
       "      <td>0</td>\n",
       "      <td>114539.67</td>\n",
       "      <td>0</td>\n",
       "      <td>1</td>\n",
       "      <td>1</td>\n",
       "      <td>...</td>\n",
       "      <td>0</td>\n",
       "      <td>1</td>\n",
       "      <td>0</td>\n",
       "      <td>0</td>\n",
       "      <td>0</td>\n",
       "      <td>0</td>\n",
       "      <td>0</td>\n",
       "      <td>0</td>\n",
       "      <td>0</td>\n",
       "      <td>0</td>\n",
       "    </tr>\n",
       "    <tr>\n",
       "      <th>163</th>\n",
       "      <td>721</td>\n",
       "      <td>36</td>\n",
       "      <td>0.00</td>\n",
       "      <td>2</td>\n",
       "      <td>1</td>\n",
       "      <td>1</td>\n",
       "      <td>106977.80</td>\n",
       "      <td>0</td>\n",
       "      <td>1</td>\n",
       "      <td>0</td>\n",
       "      <td>...</td>\n",
       "      <td>0</td>\n",
       "      <td>1</td>\n",
       "      <td>0</td>\n",
       "      <td>0</td>\n",
       "      <td>0</td>\n",
       "      <td>0</td>\n",
       "      <td>0</td>\n",
       "      <td>0</td>\n",
       "      <td>0</td>\n",
       "      <td>0</td>\n",
       "    </tr>\n",
       "    <tr>\n",
       "      <th>3074</th>\n",
       "      <td>614</td>\n",
       "      <td>44</td>\n",
       "      <td>118715.86</td>\n",
       "      <td>1</td>\n",
       "      <td>1</td>\n",
       "      <td>0</td>\n",
       "      <td>133591.11</td>\n",
       "      <td>1</td>\n",
       "      <td>0</td>\n",
       "      <td>0</td>\n",
       "      <td>...</td>\n",
       "      <td>0</td>\n",
       "      <td>0</td>\n",
       "      <td>0</td>\n",
       "      <td>0</td>\n",
       "      <td>0</td>\n",
       "      <td>1</td>\n",
       "      <td>0</td>\n",
       "      <td>0</td>\n",
       "      <td>0</td>\n",
       "      <td>0</td>\n",
       "    </tr>\n",
       "    <tr>\n",
       "      <th>5989</th>\n",
       "      <td>668</td>\n",
       "      <td>53</td>\n",
       "      <td>110240.04</td>\n",
       "      <td>1</td>\n",
       "      <td>0</td>\n",
       "      <td>0</td>\n",
       "      <td>183980.56</td>\n",
       "      <td>0</td>\n",
       "      <td>0</td>\n",
       "      <td>0</td>\n",
       "      <td>...</td>\n",
       "      <td>0</td>\n",
       "      <td>0</td>\n",
       "      <td>0</td>\n",
       "      <td>0</td>\n",
       "      <td>0</td>\n",
       "      <td>0</td>\n",
       "      <td>0</td>\n",
       "      <td>0</td>\n",
       "      <td>0</td>\n",
       "      <td>1</td>\n",
       "    </tr>\n",
       "  </tbody>\n",
       "</table>\n",
       "<p>5 rows × 21 columns</p>\n",
       "</div>"
      ],
      "text/plain": [
       "      creditscore  age    balance  numofproducts  hascrcard  isactivemember  \\\n",
       "2358          669   43  163159.85              1          0               1   \n",
       "8463          526   49       0.00              1          1               0   \n",
       "163           721   36       0.00              2          1               1   \n",
       "3074          614   44  118715.86              1          1               0   \n",
       "5989          668   53  110240.04              1          0               0   \n",
       "\n",
       "      estimatedsalary  geography_Germany  geography_Spain  gender_Male  ...  \\\n",
       "2358         15602.80                  0                0            1  ...   \n",
       "8463        114539.67                  0                1            1  ...   \n",
       "163         106977.80                  0                1            0  ...   \n",
       "3074        133591.11                  1                0            0  ...   \n",
       "5989        183980.56                  0                0            0  ...   \n",
       "\n",
       "      tenure_1.0  tenure_2.0  tenure_3.0  tenure_4.0  tenure_5.0  tenure_6.0  \\\n",
       "2358           1           0           0           0           0           0   \n",
       "8463           0           1           0           0           0           0   \n",
       "163            0           1           0           0           0           0   \n",
       "3074           0           0           0           0           0           1   \n",
       "5989           0           0           0           0           0           0   \n",
       "\n",
       "      tenure_7.0  tenure_8.0  tenure_9.0  tenure_10.0  \n",
       "2358           0           0           0            0  \n",
       "8463           0           0           0            0  \n",
       "163            0           0           0            0  \n",
       "3074           0           0           0            0  \n",
       "5989           0           0           0            1  \n",
       "\n",
       "[5 rows x 21 columns]"
      ]
     },
     "metadata": {},
     "output_type": "display_data"
    },
    {
     "data": {
      "text/html": [
       "<div>\n",
       "<style scoped>\n",
       "    .dataframe tbody tr th:only-of-type {\n",
       "        vertical-align: middle;\n",
       "    }\n",
       "\n",
       "    .dataframe tbody tr th {\n",
       "        vertical-align: top;\n",
       "    }\n",
       "\n",
       "    .dataframe thead th {\n",
       "        text-align: right;\n",
       "    }\n",
       "</style>\n",
       "<table border=\"1\" class=\"dataframe\">\n",
       "  <thead>\n",
       "    <tr style=\"text-align: right;\">\n",
       "      <th></th>\n",
       "      <th>creditscore</th>\n",
       "      <th>age</th>\n",
       "      <th>balance</th>\n",
       "      <th>numofproducts</th>\n",
       "      <th>hascrcard</th>\n",
       "      <th>isactivemember</th>\n",
       "      <th>estimatedsalary</th>\n",
       "      <th>geography_Germany</th>\n",
       "      <th>geography_Spain</th>\n",
       "      <th>gender_Male</th>\n",
       "      <th>...</th>\n",
       "      <th>tenure_1.0</th>\n",
       "      <th>tenure_2.0</th>\n",
       "      <th>tenure_3.0</th>\n",
       "      <th>tenure_4.0</th>\n",
       "      <th>tenure_5.0</th>\n",
       "      <th>tenure_6.0</th>\n",
       "      <th>tenure_7.0</th>\n",
       "      <th>tenure_8.0</th>\n",
       "      <th>tenure_9.0</th>\n",
       "      <th>tenure_10.0</th>\n",
       "    </tr>\n",
       "  </thead>\n",
       "  <tbody>\n",
       "    <tr>\n",
       "      <th>7867</th>\n",
       "      <td>640</td>\n",
       "      <td>46</td>\n",
       "      <td>0.00</td>\n",
       "      <td>1</td>\n",
       "      <td>1</td>\n",
       "      <td>1</td>\n",
       "      <td>156260.08</td>\n",
       "      <td>0</td>\n",
       "      <td>1</td>\n",
       "      <td>0</td>\n",
       "      <td>...</td>\n",
       "      <td>0</td>\n",
       "      <td>0</td>\n",
       "      <td>1</td>\n",
       "      <td>0</td>\n",
       "      <td>0</td>\n",
       "      <td>0</td>\n",
       "      <td>0</td>\n",
       "      <td>0</td>\n",
       "      <td>0</td>\n",
       "      <td>0</td>\n",
       "    </tr>\n",
       "    <tr>\n",
       "      <th>1402</th>\n",
       "      <td>757</td>\n",
       "      <td>29</td>\n",
       "      <td>130306.49</td>\n",
       "      <td>1</td>\n",
       "      <td>1</td>\n",
       "      <td>0</td>\n",
       "      <td>77469.38</td>\n",
       "      <td>0</td>\n",
       "      <td>0</td>\n",
       "      <td>1</td>\n",
       "      <td>...</td>\n",
       "      <td>0</td>\n",
       "      <td>0</td>\n",
       "      <td>0</td>\n",
       "      <td>0</td>\n",
       "      <td>0</td>\n",
       "      <td>0</td>\n",
       "      <td>0</td>\n",
       "      <td>1</td>\n",
       "      <td>0</td>\n",
       "      <td>0</td>\n",
       "    </tr>\n",
       "    <tr>\n",
       "      <th>8606</th>\n",
       "      <td>807</td>\n",
       "      <td>42</td>\n",
       "      <td>0.00</td>\n",
       "      <td>2</td>\n",
       "      <td>1</td>\n",
       "      <td>1</td>\n",
       "      <td>74900.90</td>\n",
       "      <td>0</td>\n",
       "      <td>1</td>\n",
       "      <td>1</td>\n",
       "      <td>...</td>\n",
       "      <td>0</td>\n",
       "      <td>0</td>\n",
       "      <td>0</td>\n",
       "      <td>0</td>\n",
       "      <td>1</td>\n",
       "      <td>0</td>\n",
       "      <td>0</td>\n",
       "      <td>0</td>\n",
       "      <td>0</td>\n",
       "      <td>0</td>\n",
       "    </tr>\n",
       "    <tr>\n",
       "      <th>8885</th>\n",
       "      <td>668</td>\n",
       "      <td>45</td>\n",
       "      <td>102486.21</td>\n",
       "      <td>2</td>\n",
       "      <td>1</td>\n",
       "      <td>1</td>\n",
       "      <td>158379.25</td>\n",
       "      <td>0</td>\n",
       "      <td>1</td>\n",
       "      <td>1</td>\n",
       "      <td>...</td>\n",
       "      <td>0</td>\n",
       "      <td>0</td>\n",
       "      <td>0</td>\n",
       "      <td>1</td>\n",
       "      <td>0</td>\n",
       "      <td>0</td>\n",
       "      <td>0</td>\n",
       "      <td>0</td>\n",
       "      <td>0</td>\n",
       "      <td>0</td>\n",
       "    </tr>\n",
       "    <tr>\n",
       "      <th>6494</th>\n",
       "      <td>699</td>\n",
       "      <td>28</td>\n",
       "      <td>0.00</td>\n",
       "      <td>2</td>\n",
       "      <td>1</td>\n",
       "      <td>1</td>\n",
       "      <td>22684.78</td>\n",
       "      <td>0</td>\n",
       "      <td>0</td>\n",
       "      <td>1</td>\n",
       "      <td>...</td>\n",
       "      <td>0</td>\n",
       "      <td>0</td>\n",
       "      <td>0</td>\n",
       "      <td>0</td>\n",
       "      <td>0</td>\n",
       "      <td>0</td>\n",
       "      <td>1</td>\n",
       "      <td>0</td>\n",
       "      <td>0</td>\n",
       "      <td>0</td>\n",
       "    </tr>\n",
       "  </tbody>\n",
       "</table>\n",
       "<p>5 rows × 21 columns</p>\n",
       "</div>"
      ],
      "text/plain": [
       "      creditscore  age    balance  numofproducts  hascrcard  isactivemember  \\\n",
       "7867          640   46       0.00              1          1               1   \n",
       "1402          757   29  130306.49              1          1               0   \n",
       "8606          807   42       0.00              2          1               1   \n",
       "8885          668   45  102486.21              2          1               1   \n",
       "6494          699   28       0.00              2          1               1   \n",
       "\n",
       "      estimatedsalary  geography_Germany  geography_Spain  gender_Male  ...  \\\n",
       "7867        156260.08                  0                1            0  ...   \n",
       "1402         77469.38                  0                0            1  ...   \n",
       "8606         74900.90                  0                1            1  ...   \n",
       "8885        158379.25                  0                1            1  ...   \n",
       "6494         22684.78                  0                0            1  ...   \n",
       "\n",
       "      tenure_1.0  tenure_2.0  tenure_3.0  tenure_4.0  tenure_5.0  tenure_6.0  \\\n",
       "7867           0           0           1           0           0           0   \n",
       "1402           0           0           0           0           0           0   \n",
       "8606           0           0           0           0           1           0   \n",
       "8885           0           0           0           1           0           0   \n",
       "6494           0           0           0           0           0           0   \n",
       "\n",
       "      tenure_7.0  tenure_8.0  tenure_9.0  tenure_10.0  \n",
       "7867           0           0           0            0  \n",
       "1402           0           1           0            0  \n",
       "8606           0           0           0            0  \n",
       "8885           0           0           0            0  \n",
       "6494           1           0           0            0  \n",
       "\n",
       "[5 rows x 21 columns]"
      ]
     },
     "metadata": {},
     "output_type": "display_data"
    }
   ],
   "source": [
    "display(features_train.head()) # check\n",
    "display(features_valid.head())\n",
    "display(features_test.head())"
   ]
  },
  {
   "cell_type": "code",
   "execution_count": 29,
   "metadata": {},
   "outputs": [],
   "source": [
    "def todf(data, ind, column): #преобразование в dataframe\n",
    "    frame = pd.DataFrame(data, index = ind.index, columns = column.columns)\n",
    "    return frame\n",
    "features_train_scaled = todf(features_train_scaled, target_train, features)\n",
    "features_valid_scaled = todf(features_valid_scaled, target_valid, features)\n",
    "features_test_scaled = todf(features_test_scaled, target_test, features)"
   ]
  },
  {
   "cell_type": "markdown",
   "metadata": {},
   "source": [
    "### Модели "
   ]
  },
  {
   "cell_type": "code",
   "execution_count": 30,
   "metadata": {},
   "outputs": [
    {
     "data": {
      "image/png": "[encoded data removed]",
      "text/plain": [
       "<Figure size 1200x600 with 1 Axes>"
      ]
     },
     "metadata": {},
     "output_type": "display_data"
    }
   ],
   "source": [
    "model_skl = RandomForestClassifier()\n",
    "model_skl.fit(X = data.drop(['exited'], axis=1),\n",
    "              y = data['exited'])\n",
    "\n",
    "skl_imp = pd.Series(model_skl.feature_importances_,\n",
    "                         data.drop(['exited'], axis=1).columns)\n",
    "\n",
    "fig, ax = plt.subplots(figsize=(12,6))\n",
    "skl_imp.plot.bar(ax=ax, \n",
    "                 grid=True)\n",
    "ax.set_title(\"Важность признаков\")\n",
    "ax.set_ylabel('Важность')\n",
    "fig.tight_layout()"
   ]
  },
  {
   "cell_type": "markdown",
   "metadata": {},
   "source": [
    "#### Decision Tree"
   ]
  },
  {
   "cell_type": "code",
   "execution_count": 31,
   "metadata": {},
   "outputs": [
    {
     "name": "stdout",
     "output_type": "stream",
     "text": [
      "F1 млучшей модели дерева решений на валидационной выборке: 0.521870286576169\n",
      "Accuracy лучшей модели дерева решений на валидационной выборке: 0.862\n",
      "Глубина лучшей модели дерева решений на валидационной выборке: 8\n",
      "Листья лучшей модели дерева решений на валидационной выборке: 22\n"
     ]
    }
   ],
   "source": [
    "best_model_dt = None\n",
    "best_model_dt_depth = 0\n",
    "best_model_dt_leaf = 0\n",
    "best_result_dt = 0\n",
    "for depth in range(1, 13):\n",
    "    for leaf in range(1, 50):\n",
    "       \n",
    "            model_dt = DecisionTreeClassifier(random_state=12345, max_depth=depth, min_samples_leaf=leaf) \n",
    "            model_dt.fit(features_train_scaled, target_train) \n",
    "            predictions_dt = model_dt.predict(features_valid_scaled) \n",
    "            result_dt = accuracy_score(target_valid, predictions_dt)\n",
    "            if result_dt > best_result_dt:\n",
    "                best_model_dt = model_dt\n",
    "                best_model_dt_depth = depth\n",
    "                best_model_dt_leaf = leaf\n",
    "                best_result_dt = result_dt\n",
    "#result_f1_dt = f1_score(target_valid, predictions_dt)\n",
    "print('F1 млучшей модели дерева решений на валидационной выборке:', f1_score(target_valid, predictions_dt))\n",
    "print(\"Accuracy лучшей модели дерева решений на валидационной выборке:\", best_result_dt)\n",
    "print(\"Глубина лучшей модели дерева решений на валидационной выборке:\", best_model_dt_depth)\n",
    "print(\"Листья лучшей модели дерева решений на валидационной выборке:\", best_model_dt_leaf)"
   ]
  },
  {
   "cell_type": "code",
   "execution_count": 32,
   "metadata": {},
   "outputs": [
    {
     "name": "stdout",
     "output_type": "stream",
     "text": [
      "AUC ROC лучшей модели решающего дерева на валидационной выборке: 0.8290760571529392\n"
     ]
    }
   ],
   "source": [
    "probabilities_valid = best_model_dt.predict_proba(features_valid_scaled)\n",
    "probabilities_one_valid = probabilities_valid[:, 1]         \n",
    "\n",
    "fpr_dt, tpr_dt, thresholds = roc_curve(target_valid, probabilities_one_valid)    \n",
    "\n",
    "print(\"AUC ROC лучшей модели решающего дерева на валидационной выборке:\", roc_auc_score(target_valid, probabilities_one_valid))            \n"
   ]
  },
  {
   "cell_type": "markdown",
   "metadata": {},
   "source": [
    "#### Random Forest"
   ]
  },
  {
   "cell_type": "code",
   "execution_count": 33,
   "metadata": {},
   "outputs": [
    {
     "name": "stdout",
     "output_type": "stream",
     "text": [
      "F1 мера лучшей модели случайного леса на валидационной выборке: 0.5553772070626003\n",
      "Accuracy лучшей модели случайного леса на валидационной выборке 0.8675\n",
      "Глубина лучшей модели случайного леса на валидационной выборке 11\n",
      "Количество деревьев лучшей модели случайного леса на валидационной выборке: 47\n"
     ]
    }
   ],
   "source": [
    "best_model_rf = None\n",
    "best_model_rf_est = 0\n",
    "best_model_rf_depth = 0\n",
    "best_result_rf = 0\n",
    "for est in range(1, 50):\n",
    "    for depth in range(1, 30):\n",
    "        model_rf = RandomForestClassifier(random_state=12345, n_estimators=est, max_depth=depth) \n",
    "        model_rf.fit(features_train_scaled, target_train) \n",
    "        predictions_rf = model_rf.predict(features_valid_scaled) \n",
    "        result_rf = model_rf.score(features_valid_scaled, target_valid)\n",
    "        if result_rf > best_result_rf:\n",
    "            best_model_rf = model_rf\n",
    "            best_result_rf = result_rf\n",
    "            best_model_rf_est = est\n",
    "            best_model_rf_depth = depth\n",
    "            \n",
    "\n",
    "print('F1 мера лучшей модели случайного леса на валидационной выборке:', f1_score(target_valid, predictions_rf))\n",
    "print('Accuracy лучшей модели случайного леса на валидационной выборке', best_result_rf) \n",
    "print('Глубина лучшей модели случайного леса на валидационной выборке', best_model_rf_depth)\n",
    "print('Количество деревьев лучшей модели случайного леса на валидационной выборке:', best_model_rf_est)"
   ]
  },
  {
   "cell_type": "code",
   "execution_count": 34,
   "metadata": {},
   "outputs": [
    {
     "name": "stdout",
     "output_type": "stream",
     "text": [
      "AUC ROC лучшей модели случайного леса на валидационной выборке: 0.844512723348047\n"
     ]
    }
   ],
   "source": [
    "probabilities_valid = best_model_rf.predict_proba(features_valid_scaled)\n",
    "probabilities_one_valid = probabilities_valid[:, 1]         \n",
    "\n",
    "fpr_rf, tpr_rf, thresholds = roc_curve(target_valid, probabilities_one_valid)    \n",
    "\n",
    "print(\"AUC ROC лучшей модели случайного леса на валидационной выборке:\", roc_auc_score(target_valid, probabilities_one_valid))            \n"
   ]
  },
  {
   "cell_type": "markdown",
   "metadata": {},
   "source": [
    "#### Logistic Regression"
   ]
  },
  {
   "cell_type": "code",
   "execution_count": 35,
   "metadata": {},
   "outputs": [
    {
     "name": "stdout",
     "output_type": "stream",
     "text": [
      "Точность логистической регрессии на валидационной выборке: 0.7995\n"
     ]
    }
   ],
   "source": [
    "model_lr = LogisticRegression(random_state=12345, solver='lbfgs', max_iter=1000) # обучим модель с заданным гиперпараметрами\n",
    "model_lr.fit(features_train, target_train) # обучим модель на тренировочной выборке\n",
    "predictions_lr = model_lr.predict(features_valid) # получим предсказания модели\n",
    "result_lr = model_lr.score(features_valid, target_valid) # посчитаем качество модели\n",
    "print(\"Точность логистической регрессии на валидационной выборке:\", result_lr)"
   ]
  },
  {
   "cell_type": "code",
   "execution_count": 36,
   "metadata": {},
   "outputs": [
    {
     "name": "stdout",
     "output_type": "stream",
     "text": [
      "AUC ROC лучшей модели логистической регрессии на валидационной выборке: 0.747327612105182\n"
     ]
    }
   ],
   "source": [
    "probabilities_valid = model_lr.predict_proba(features_valid_scaled)\n",
    "probabilities_one_valid = probabilities_valid[:, 1]         \n",
    "\n",
    "fpr_lr, tpr_lr, thresholds = roc_curve(target_valid, probabilities_one_valid)    \n",
    "\n",
    "print(\"AUC ROC лучшей модели логистической регрессии на валидационной выборке:\", roc_auc_score(target_valid, probabilities_one_valid))            \n"
   ]
  },
  {
   "cell_type": "markdown",
   "metadata": {},
   "source": [
    "### Графики ROC-кривых трех моделей"
   ]
  },
  {
   "cell_type": "code",
   "execution_count": 37,
   "metadata": {},
   "outputs": [
    {
     "data": {
      "text/plain": [
       "<Figure size 640x480 with 0 Axes>"
      ]
     },
     "metadata": {},
     "output_type": "display_data"
    },
    {
     "data": {
      "image/png": "[encoded data removed]",
      "text/plain": [
       "<Figure size 600x600 with 1 Axes>"
      ]
     },
     "metadata": {},
     "output_type": "display_data"
    }
   ],
   "source": [
    "plt.figure()\n",
    "plt.figure(figsize=(6, 6))\n",
    "plt.xlim([0.0, 1.0])\n",
    "plt.ylim([0.0, 1.0])\n",
    "plt.plot([0, 1], [0, 1], linestyle='--')\n",
    "plt.plot(fpr_dt, tpr_dt) # DecisionTreeClassifier FP-Rate, TP-Rate\n",
    "plt.plot(fpr_rf, tpr_rf) # RandomForestClassifier FP-Rate, TP-Rate\n",
    "plt.plot(fpr_lr, tpr_lr) # LogisticRegression FP-Rate, TP-Rate\n",
    "plt.xlabel('False Positive')\n",
    "plt.ylabel('True Positive')\n",
    "plt.title('Сравнительный график ROC-кривых трех моделей')\n",
    "plt.legend(('dummy model', 'Decision Tree', 'Random Forest', 'Logistic Regression'))\n",
    "plt.show()"
   ]
  },
  {
   "cell_type": "markdown",
   "metadata": {},
   "source": [
    "### Промежуточные выводы\n",
    "\n",
    "Точность всех трех моделей достаточно высокая, однако следует учесть, что изначально было установлено, что наблюдается сильный дисбланас классов, что может привести к переобучению. Необходимо сбалансировать данные.\n",
    "Дальнейший анализ будет проводитсья на Random Forest, так как данная модель демонстрирует лучшие результаты:\n",
    "\n",
    "- F1 мера: 0.56\n",
    "- AUC ROC:  0.84\n",
    "- Accuracy: 0.87\n",
    "\n",
    "Гиперпараметы:\n",
    "\n",
    "- Глубина: 11\n",
    "- Количество деревьев: 47"
   ]
  },
  {
   "cell_type": "markdown",
   "metadata": {},
   "source": [
    "## Борьба с дисбалансом\n",
    "\n",
    "На этапе предобработки данные мы установили, что банные несбалансированы. Посмотрим на дисбаланс.\n"
   ]
  },
  {
   "cell_type": "code",
   "execution_count": 38,
   "metadata": {},
   "outputs": [
    {
     "name": "stdout",
     "output_type": "stream",
     "text": [
      "0    0.7963\n",
      "1    0.2037\n",
      "Name: exited, dtype: float64\n"
     ]
    },
    {
     "data": {
      "text/plain": [
       "Text(0.5, 1.0, 'Доля классов целевого признака')"
      ]
     },
     "execution_count": 38,
     "metadata": {},
     "output_type": "execute_result"
    },
    {
     "data": {
      "image/png": "[encoded data removed]",
      "text/plain": [
       "<Figure size 300x300 with 1 Axes>"
      ]
     },
     "metadata": {},
     "output_type": "display_data"
    }
   ],
   "source": [
    "class_frequency = data['exited'].value_counts(normalize=True)\n",
    "print(class_frequency)\n",
    "\n",
    "class_frequency.plot(kind='bar', grid=True, figsize=(3, 3));\n",
    "plt.xlabel('Класс')\n",
    "plt.ylabel('Доля')\n",
    "plt.title('Доля классов целевого признака')"
   ]
  },
  {
   "cell_type": "markdown",
   "metadata": {},
   "source": [
    "Воспользуемся методами увеличения и уменьшения выборки."
   ]
  },
  {
   "cell_type": "markdown",
   "metadata": {},
   "source": [
    "### Upsampling"
   ]
  },
  {
   "cell_type": "code",
   "execution_count": 39,
   "metadata": {},
   "outputs": [],
   "source": [
    "def upsample(features, target, repeat): # разделим на положительные и отрицательные объекты\n",
    "    features_zeros = features[target == 0]\n",
    "    features_ones = features[target == 1]\n",
    "    target_zeros = target[target == 0]\n",
    "    target_ones = target[target == 1]\n",
    "\n",
    "    features_upsampled = pd.concat([features_zeros] + [features_ones] * repeat) \n",
    "    target_upsampled = pd.concat([target_zeros] + [target_ones] * repeat)\n",
    "    \n",
    "    features_upsampled, target_upsampled = shuffle(\n",
    "        features_upsampled, target_upsampled, random_state=12345) #перемешиваем\n",
    "    \n",
    "    return features_upsampled, target_upsampled"
   ]
  },
  {
   "cell_type": "code",
   "execution_count": 40,
   "metadata": {},
   "outputs": [],
   "source": [
    "features_upsampled, target_upsampled = upsample(features_train_scaled, target_train, 4)"
   ]
  },
  {
   "cell_type": "code",
   "execution_count": 41,
   "metadata": {},
   "outputs": [
    {
     "data": {
      "text/plain": [
       "1    4876\n",
       "0    4781\n",
       "Name: exited, dtype: int64"
      ]
     },
     "execution_count": 41,
     "metadata": {},
     "output_type": "execute_result"
    }
   ],
   "source": [
    "target_upsampled.value_counts()"
   ]
  },
  {
   "cell_type": "code",
   "execution_count": 42,
   "metadata": {},
   "outputs": [
    {
     "name": "stdout",
     "output_type": "stream",
     "text": [
      "1    0.504919\n",
      "0    0.495081\n",
      "Name: exited, dtype: float64\n"
     ]
    },
    {
     "data": {
      "text/plain": [
       "Text(0.5, 1.0, 'Доля классов целевого признака upsampling')"
      ]
     },
     "execution_count": 42,
     "metadata": {},
     "output_type": "execute_result"
    },
    {
     "data": {
      "image/png": "[encoded data removed]",
      "text/plain": [
       "<Figure size 300x300 with 1 Axes>"
      ]
     },
     "metadata": {},
     "output_type": "display_data"
    }
   ],
   "source": [
    "class_frequency = target_upsampled.value_counts(normalize=True)\n",
    "print(class_frequency)\n",
    "\n",
    "class_frequency.plot(kind='bar', grid=True, figsize=(3, 3))\n",
    "plt.xlabel('Класс')\n",
    "plt.ylabel('Доля')\n",
    "plt.title('Доля классов целевого признака upsampling')"
   ]
  },
  {
   "cell_type": "code",
   "execution_count": 43,
   "metadata": {},
   "outputs": [
    {
     "name": "stdout",
     "output_type": "stream",
     "text": [
      "F1 мера лучшей модели случайного леса: 0.599502487562189\n",
      "Accuracy лучшей модели случайного леса: 0.852\n",
      "Количество деревьев лучшей модели случайного леса: 49\n",
      "Глубина лучшей модели случайного леса: 13\n"
     ]
    }
   ],
   "source": [
    "best_model_rf_up = None\n",
    "best_model_rf_est = 0\n",
    "best_model_rf_depth = 0\n",
    "best_result_rf = 0\n",
    "for est in range(1, 50):\n",
    "    for depth in range(1, 20):\n",
    "        model_rf = RandomForestClassifier(random_state=12345, n_estimators=est, max_depth = depth, min_samples_leaf=1, min_samples_split=2) \n",
    "        model_rf.fit(features_upsampled, target_upsampled) \n",
    "        predictions_rf = model_rf.predict(features_valid_scaled) \n",
    "        result_f1_rf = f1_score(target_valid, predictions_rf)\n",
    "        if result_f1_rf > best_result_rf:\n",
    "            best_model_rf_up = model_rf\n",
    "            best_result_rf = result_f1_rf\n",
    "            best_model_rf_est = est\n",
    "            best_model_rf_depth = depth\n",
    "\n",
    "print('F1 мера лучшей модели случайного леса:', best_result_rf)\n",
    "print('Accuracy лучшей модели случайного леса:', model_rf.score(features_valid_scaled, target_valid)) \n",
    "print('Количество деревьев лучшей модели случайного леса:', best_model_rf_est)\n",
    "print('Глубина лучшей модели случайного леса:', best_model_rf_depth)"
   ]
  },
  {
   "cell_type": "code",
   "execution_count": 44,
   "metadata": {},
   "outputs": [
    {
     "name": "stdout",
     "output_type": "stream",
     "text": [
      "AUC ROC лучшей модели случайного леса: 0.747327612105182\n"
     ]
    }
   ],
   "source": [
    "print('AUC ROC лучшей модели случайного леса:', roc_auc_score(target_valid, probabilities_one_valid))"
   ]
  },
  {
   "cell_type": "markdown",
   "metadata": {},
   "source": [
    "### Downsampling"
   ]
  },
  {
   "cell_type": "code",
   "execution_count": 45,
   "metadata": {},
   "outputs": [],
   "source": [
    "def downsample(features, target, fraction):\n",
    "    features_zeros = features[target == 0]\n",
    "    features_ones = features[target == 1]\n",
    "    target_zeros = target[target == 0]\n",
    "    target_ones = target[target == 1]\n",
    "\n",
    "    features_downsampled = pd.concat(\n",
    "        [features_zeros.sample(frac=fraction, random_state=12345)] + [features_ones])\n",
    "    target_downsampled = pd.concat(\n",
    "        [target_zeros.sample(frac=fraction, random_state=12345)] + [target_ones])\n",
    "    \n",
    "    features_downsampled, target_downsampled = shuffle(\n",
    "        features_downsampled, target_downsampled, random_state=12345)\n",
    "    \n",
    "    return features_downsampled, target_downsampled"
   ]
  },
  {
   "cell_type": "code",
   "execution_count": 46,
   "metadata": {},
   "outputs": [],
   "source": [
    "features_downsampled_train, target_downsampled_train = downsample(features_train_scaled, target_train, fraction=0.25)"
   ]
  },
  {
   "cell_type": "code",
   "execution_count": 47,
   "metadata": {},
   "outputs": [
    {
     "data": {
      "text/plain": [
       "1    1219\n",
       "0    1195\n",
       "Name: exited, dtype: int64"
      ]
     },
     "execution_count": 47,
     "metadata": {},
     "output_type": "execute_result"
    }
   ],
   "source": [
    "target_downsampled_train.value_counts()"
   ]
  },
  {
   "cell_type": "code",
   "execution_count": 48,
   "metadata": {},
   "outputs": [
    {
     "name": "stdout",
     "output_type": "stream",
     "text": [
      "1    0.504971\n",
      "0    0.495029\n",
      "Name: exited, dtype: float64\n"
     ]
    },
    {
     "data": {
      "text/plain": [
       "Text(0.5, 1.0, 'Доля классов целевого признака upsampling')"
      ]
     },
     "execution_count": 48,
     "metadata": {},
     "output_type": "execute_result"
    },
    {
     "data": {
      "image/png": "[encoded data removed]",
      "text/plain": [
       "<Figure size 300x300 with 1 Axes>"
      ]
     },
     "metadata": {},
     "output_type": "display_data"
    }
   ],
   "source": [
    "class_frequency = target_downsampled_train.value_counts(normalize=True)\n",
    "print(class_frequency)\n",
    "\n",
    "class_frequency.plot(kind='bar', grid=True, figsize=(3, 3))\n",
    "plt.xlabel('Класс')\n",
    "plt.ylabel('Доля')\n",
    "plt.title('Доля классов целевого признака upsampling')"
   ]
  },
  {
   "cell_type": "code",
   "execution_count": 49,
   "metadata": {},
   "outputs": [
    {
     "name": "stdout",
     "output_type": "stream",
     "text": [
      "F1 мера лучшей модели случайного леса: 0.5711519845111327\n",
      "Accuracy лучшей модели случайного леса: 0.7545\n",
      "Количество деревьев лучшей модели случайного леса: 38\n",
      "Глубина лучшей модели случайного леса: 11\n"
     ]
    }
   ],
   "source": [
    "best_model_rf_down = None\n",
    "best_model_rf_est = 0\n",
    "best_model_rf_depth = 0\n",
    "best_result_rf = 0\n",
    "for est in range(1, 50):\n",
    "    for dpth in range(1, 20):\n",
    "        model_rf = RandomForestClassifier(random_state=12345, n_estimators=est, max_depth = dpth) \n",
    "        model_rf.fit(features_downsampled_train, target_downsampled_train) \n",
    "        predictions_rf = model_rf.predict(features_valid_scaled) \n",
    "        result_f1_rf = f1_score(target_valid, predictions_rf)\n",
    "        if result_f1_rf > best_result_rf:\n",
    "            best_model_rf_down = model_rf\n",
    "            best_result_rf = result_f1_rf\n",
    "            best_model_rf_est = est\n",
    "            best_model_rf_depth = dpth\n",
    "\n",
    "print('F1 мера лучшей модели случайного леса:', best_result_rf)\n",
    "print('Accuracy лучшей модели случайного леса:', model_rf.score(features_valid_scaled, target_valid)) \n",
    "print('Количество деревьев лучшей модели случайного леса:', best_model_rf_est)\n",
    "print('Глубина лучшей модели случайного леса:', best_model_rf_depth)"
   ]
  },
  {
   "cell_type": "code",
   "execution_count": 50,
   "metadata": {},
   "outputs": [
    {
     "name": "stdout",
     "output_type": "stream",
     "text": [
      "AUC ROC лучшей модели случайного леса: 0.747327612105182\n"
     ]
    }
   ],
   "source": [
    "print('AUC ROC лучшей модели случайного леса:', roc_auc_score(target_valid, probabilities_one_valid))"
   ]
  },
  {
   "cell_type": "markdown",
   "metadata": {},
   "source": [
    "### Промежуточные выводы\n",
    "\n",
    "По результатам проверки двух методов борьбы с дисбалансов классов было установлено, что:\n",
    "- при увеличении выборки F1 мера модели случайного леса повысилась c 0.55 до 0.59; accuracy - 0.85.\n",
    "- при уменьшении выборки F1 мера модели случайного леса повысилась c 0.55 до 0.61; accuracy - 0.83."
   ]
  },
  {
   "cell_type": "markdown",
   "metadata": {},
   "source": [
    "## Тестирование модели"
   ]
  },
  {
   "cell_type": "code",
   "execution_count": 51,
   "metadata": {},
   "outputs": [
    {
     "name": "stdout",
     "output_type": "stream",
     "text": [
      "Accuracy случайного леса на тестовой выборке: 0.8465\n",
      "F1-мера случайного леса на тестовой выборке: 0.634088200238379\n",
      "AUC ROC случайного леса на тестовой выборке: 0.8660147602025395\n"
     ]
    }
   ],
   "source": [
    "best_model_rf = RandomForestClassifier(random_state=12345, n_estimators=47, min_samples_leaf=1, min_samples_split=2, max_depth=11,\n",
    "                                      class_weight='balanced') \n",
    "best_model_rf.fit(features_train, target_train)\n",
    "\n",
    "predictions_rf = best_model_rf.predict(features_test)        \n",
    "probabilities_test = best_model_rf.predict_proba(features_test)\n",
    "probabilities_one_test = probabilities_test[:, 1] \n",
    "\n",
    "fpr_rf, tpr_rf, thresholds = roc_curve(target_test, probabilities_one_test)\n",
    "\n",
    "print('Accuracy случайного леса на тестовой выборке:', accuracy_score(target_test, predictions_rf))\n",
    "print(\"F1-мера случайного леса на тестовой выборке:\", f1_score(target_test, predictions_rf))\n",
    "print(\"AUC ROC случайного леса на тестовой выборке:\", roc_auc_score(target_test, probabilities_one_test))"
   ]
  },
  {
   "cell_type": "code",
   "execution_count": 52,
   "metadata": {},
   "outputs": [
    {
     "name": "stdout",
     "output_type": "stream",
     "text": [
      "Accuracy случайного леса на увеличенной тестовой выборке: 0.8395\n",
      "F1-мера случайного леса на увеличенной тестовой выборке: 0.6314580941446614\n"
     ]
    }
   ],
   "source": [
    "predictions_up = best_model_rf_up.predict(features_test_scaled)\n",
    "probabilities_test = best_model_rf.predict_proba(features_test)\n",
    "probabilities_one_test = probabilities_test[:, 1] \n",
    "\n",
    "fpr_rf, tpr_rf, thresholds = roc_curve(target_test, probabilities_one_test)\n",
    "print('Accuracy случайного леса на увеличенной тестовой выборке:', accuracy_score(target_test, predictions_up))\n",
    "print('F1-мера случайного леса на увеличенной тестовой выборке:', f1_score(predictions_up, target_test))"
   ]
  },
  {
   "cell_type": "code",
   "execution_count": 53,
   "metadata": {},
   "outputs": [
    {
     "name": "stdout",
     "output_type": "stream",
     "text": [
      "Accuracy случайного леса на уменьшенной тестовой выборке: 0.7875\n",
      "F1-мера случайного леса на уменьшенной тестовой выборке: 0.6139872842870118\n"
     ]
    }
   ],
   "source": [
    "predictions_down = best_model_rf_down.predict(features_test_scaled)\n",
    "probabilities_test = best_model_rf.predict_proba(features_test)\n",
    "probabilities_one_test = probabilities_test[:, 1] \n",
    "\n",
    "fpr_rf, tpr_rf, thresholds = roc_curve(target_test, probabilities_one_test)\n",
    "print('Accuracy случайного леса на уменьшенной тестовой выборке:', accuracy_score(target_test, predictions_down))\n",
    "print('F1-мера случайного леса на уменьшенной тестовой выборке:', f1_score(predictions_down, target_test))"
   ]
  },
  {
   "cell_type": "code",
   "execution_count": 54,
   "metadata": {
    "scrolled": true
   },
   "outputs": [
    {
     "data": {
      "text/plain": [
       "<Figure size 640x480 with 0 Axes>"
      ]
     },
     "metadata": {},
     "output_type": "display_data"
    },
    {
     "data": {
      "image/png": "[encoded data removed]",
      "text/plain": [
       "<Figure size 600x600 with 1 Axes>"
      ]
     },
     "metadata": {},
     "output_type": "display_data"
    }
   ],
   "source": [
    "plt.figure()\n",
    "plt.figure(figsize=(6, 6))\n",
    "plt.xlim([0.0, 1.0])\n",
    "plt.ylim([0.0, 1.0])\n",
    "plt.plot([0, 1], [0, 1], linestyle='--')\n",
    "plt.plot(fpr_rf, tpr_rf) \n",
    "plt.xlabel('False Positive')\n",
    "plt.ylabel('True Positive')\n",
    "plt.title('ROC-кривая Random Forest')\n",
    "plt.legend(('dummy model', 'Random Forest'))\n",
    "plt.show()"
   ]
  },
  {
   "cell_type": "markdown",
   "metadata": {},
   "source": [
    "## Общие выводы"
   ]
  },
  {
   "cell_type": "markdown",
   "metadata": {},
   "source": [
    "1. Данные прошли **предобработку**:\n",
    "- приведены в соответствие со змеиным регистром;\n",
    "- дубликаты не выявлены;\n",
    "- типы данных соотвутствуцют содержанию столбцов;\n",
    "- проверены корреляции между признаками и целевым (корреляции отсутсвую за искл. крайне слабой корр. целевого признака с возрастом (коэф. корр. = 0,2);\n",
    "- пропущенные данные в столбце Tenure (менее 10%) заполнены \"заглушками\".\n",
    "- посчитаны доли классов целевого признака. Наблюдается значительный перевес отрицательных значений (80%).\n",
    "\n",
    "2. По результатам **исследовательсткого анализа**:\n",
    "- категориальные данные переведены в численные с помощью OHE.\n",
    "- данные разбиты на 3 выборки (обучающую, валидационную и тестовую - 60%, 20%, 20% соответственно).\n",
    "- данные масштабированы с помощью ScandardScaler и приведены к типу DataFrame для удобства дальнейшей обработки.\n",
    "- проверены 3 модели: decision tree, random forest, logistic regression.\n",
    "- определена наиболее точная модель для дальнейшего исследования - random forest с гиперпараметрами: глубина - 11, количество деревьев - 47 и показателями:\n",
    "    - F1 мера: 0.56\n",
    "    - AUC ROC: 0.83\n",
    "    - Accuracy: 0.87\n",
    "    \n",
    "3. Применены **2 метода борьбы с дисбалансом классов** - увеличение выборки и уменьшение выборки:\n",
    "- при увеличении выборки F1 мера модели случайного леса повысилась до 0.59; accuracy - 0.85.\n",
    "- при уменьшении выборки F1 мера модели случайного леса повысилась до 0.61; accuracy - 0.83.\n",
    "\n",
    "4. Тестирование модели прошло успешно. \n",
    "\n",
    "По результатам метрик **на тестовой выборке**:\n",
    "- Accuracy случайного леса: 0.851\n",
    "- F1-мера случайного леса: 0.6460807600950119\n",
    "- AUC ROC случайного леса: 0.8673383248644054\n",
    "\n",
    "По результатам метрик **на уменьшенной тестовой выборке**:\n",
    "- Accuracy случайного леса: 0.845\n",
    "- F1-мера случайного леса: 0.6228710462287104\n",
    "- AUC ROC случайного леса: 0.8673383248644054\n",
    "\n",
    "По результатам метрик **на увеличенной тестовой выборке**:\n",
    "- Accuracy случайного леса: 0.8395\n",
    "- F1-мера случайного леса: 0.6314580941446614\n",
    "- AUC ROC случайного леса: 0.8673383248644054\n",
    "\n"
   ]
  }
 ],
 "metadata": {
  "ExecuteTimeLog": [
   {
    "duration": 434,
    "start_time": "2023-03-21T13:30:05.023Z"
   },
   {
    "duration": 57,
    "start_time": "2023-03-21T13:30:34.543Z"
   },
   {
    "duration": 163,
    "start_time": "2023-03-21T13:30:36.896Z"
   },
   {
    "duration": 14,
    "start_time": "2023-03-21T13:30:37.836Z"
   },
   {
    "duration": 7,
    "start_time": "2023-03-21T13:30:49.610Z"
   },
   {
    "duration": 7,
    "start_time": "2023-03-21T13:31:01.125Z"
   },
   {
    "duration": 4,
    "start_time": "2023-03-21T13:51:58.585Z"
   },
   {
    "duration": 4,
    "start_time": "2023-03-21T13:52:04.848Z"
   },
   {
    "duration": 4,
    "start_time": "2023-03-21T13:55:48.027Z"
   },
   {
    "duration": 20,
    "start_time": "2023-03-21T16:27:18.580Z"
   },
   {
    "duration": 5,
    "start_time": "2023-03-21T16:31:45.620Z"
   },
   {
    "duration": 7,
    "start_time": "2023-03-21T16:31:55.090Z"
   },
   {
    "duration": 6,
    "start_time": "2023-03-21T16:32:01.164Z"
   },
   {
    "duration": 2,
    "start_time": "2023-03-21T16:32:24.909Z"
   },
   {
    "duration": 48,
    "start_time": "2023-03-21T16:32:24.913Z"
   },
   {
    "duration": 15,
    "start_time": "2023-03-21T16:32:24.963Z"
   },
   {
    "duration": 17,
    "start_time": "2023-03-21T16:32:24.979Z"
   },
   {
    "duration": 4,
    "start_time": "2023-03-21T16:32:24.998Z"
   },
   {
    "duration": 11,
    "start_time": "2023-03-21T16:32:25.004Z"
   },
   {
    "duration": 0,
    "start_time": "2023-03-21T16:32:25.016Z"
   },
   {
    "duration": 0,
    "start_time": "2023-03-21T16:32:25.017Z"
   },
   {
    "duration": 7,
    "start_time": "2023-03-21T16:32:32.446Z"
   },
   {
    "duration": 6,
    "start_time": "2023-03-21T16:32:33.630Z"
   },
   {
    "duration": 2,
    "start_time": "2023-03-21T16:32:40.322Z"
   },
   {
    "duration": 42,
    "start_time": "2023-03-21T16:32:40.325Z"
   },
   {
    "duration": 9,
    "start_time": "2023-03-21T16:32:40.368Z"
   },
   {
    "duration": 10,
    "start_time": "2023-03-21T16:32:40.379Z"
   },
   {
    "duration": 4,
    "start_time": "2023-03-21T16:32:45.342Z"
   },
   {
    "duration": 7,
    "start_time": "2023-03-21T16:32:46.913Z"
   },
   {
    "duration": 6,
    "start_time": "2023-03-21T16:32:48.498Z"
   },
   {
    "duration": 41,
    "start_time": "2023-03-21T16:32:57.205Z"
   },
   {
    "duration": 13,
    "start_time": "2023-03-21T16:32:58.064Z"
   },
   {
    "duration": 4,
    "start_time": "2023-03-21T16:33:06.305Z"
   },
   {
    "duration": 7,
    "start_time": "2023-03-21T16:33:07.254Z"
   },
   {
    "duration": 2,
    "start_time": "2023-03-21T16:33:44.118Z"
   },
   {
    "duration": 41,
    "start_time": "2023-03-21T16:33:44.121Z"
   },
   {
    "duration": 10,
    "start_time": "2023-03-21T16:33:44.163Z"
   },
   {
    "duration": 11,
    "start_time": "2023-03-21T16:33:44.175Z"
   },
   {
    "duration": 3,
    "start_time": "2023-03-21T16:33:46.298Z"
   },
   {
    "duration": 9,
    "start_time": "2023-03-21T16:33:47.622Z"
   },
   {
    "duration": 5,
    "start_time": "2023-03-21T16:35:57.823Z"
   },
   {
    "duration": 34,
    "start_time": "2023-03-21T16:36:34.526Z"
   },
   {
    "duration": 6,
    "start_time": "2023-03-21T16:50:31.230Z"
   },
   {
    "duration": 8,
    "start_time": "2023-03-21T16:50:37.997Z"
   },
   {
    "duration": 6,
    "start_time": "2023-03-21T16:52:04.894Z"
   },
   {
    "duration": 5,
    "start_time": "2023-03-21T16:55:11.243Z"
   },
   {
    "duration": 7,
    "start_time": "2023-03-21T16:55:17.098Z"
   },
   {
    "duration": 4,
    "start_time": "2023-03-21T16:55:25.903Z"
   },
   {
    "duration": 4,
    "start_time": "2023-03-21T16:56:01.412Z"
   },
   {
    "duration": 7,
    "start_time": "2023-03-21T17:04:21.702Z"
   },
   {
    "duration": 14,
    "start_time": "2023-03-21T17:05:06.455Z"
   },
   {
    "duration": 9,
    "start_time": "2023-03-21T17:11:01.583Z"
   },
   {
    "duration": 2,
    "start_time": "2023-03-21T17:11:14.043Z"
   },
   {
    "duration": 46,
    "start_time": "2023-03-21T17:11:14.047Z"
   },
   {
    "duration": 12,
    "start_time": "2023-03-21T17:11:14.094Z"
   },
   {
    "duration": 12,
    "start_time": "2023-03-21T17:11:14.107Z"
   },
   {
    "duration": 4,
    "start_time": "2023-03-21T17:11:16.327Z"
   },
   {
    "duration": 6,
    "start_time": "2023-03-21T18:40:55.514Z"
   },
   {
    "duration": 342,
    "start_time": "2023-03-21T18:42:26.656Z"
   },
   {
    "duration": 486,
    "start_time": "2023-03-21T18:43:15.177Z"
   },
   {
    "duration": 42,
    "start_time": "2023-03-21T18:44:20.848Z"
   },
   {
    "duration": 18,
    "start_time": "2023-03-21T18:45:46.065Z"
   },
   {
    "duration": 12,
    "start_time": "2023-03-21T18:45:51.336Z"
   },
   {
    "duration": 16,
    "start_time": "2023-03-21T18:45:55.602Z"
   },
   {
    "duration": 22,
    "start_time": "2023-03-21T18:47:56.200Z"
   },
   {
    "duration": 14,
    "start_time": "2023-03-21T18:49:19.487Z"
   },
   {
    "duration": 4394,
    "start_time": "2023-03-21T18:49:36.666Z"
   },
   {
    "duration": 4425,
    "start_time": "2023-03-21T18:49:43.520Z"
   },
   {
    "duration": 4558,
    "start_time": "2023-03-21T18:50:15.944Z"
   },
   {
    "duration": 5143,
    "start_time": "2023-03-21T18:51:08.690Z"
   },
   {
    "duration": 4736,
    "start_time": "2023-03-21T18:51:21.449Z"
   },
   {
    "duration": 10,
    "start_time": "2023-03-21T19:00:05.080Z"
   },
   {
    "duration": 753,
    "start_time": "2023-03-21T19:02:42.512Z"
   },
   {
    "duration": 719,
    "start_time": "2023-03-21T19:03:52.240Z"
   },
   {
    "duration": 663,
    "start_time": "2023-03-21T19:04:56.112Z"
   },
   {
    "duration": 727,
    "start_time": "2023-03-21T19:09:04.495Z"
   },
   {
    "duration": 15,
    "start_time": "2023-03-21T19:12:29.495Z"
   },
   {
    "duration": 14,
    "start_time": "2023-03-21T19:12:35.944Z"
   },
   {
    "duration": 2,
    "start_time": "2023-03-21T19:12:55.138Z"
   },
   {
    "duration": 13,
    "start_time": "2023-03-21T19:17:13.483Z"
   },
   {
    "duration": 2,
    "start_time": "2023-03-21T19:17:23.804Z"
   },
   {
    "duration": 44,
    "start_time": "2023-03-21T19:17:23.808Z"
   },
   {
    "duration": 12,
    "start_time": "2023-03-21T19:17:23.853Z"
   },
   {
    "duration": 11,
    "start_time": "2023-03-21T19:17:23.866Z"
   },
   {
    "duration": 5,
    "start_time": "2023-03-21T19:17:23.878Z"
   },
   {
    "duration": 11,
    "start_time": "2023-03-21T19:17:23.885Z"
   },
   {
    "duration": 6,
    "start_time": "2023-03-21T19:17:23.897Z"
   },
   {
    "duration": 13,
    "start_time": "2023-03-21T19:17:23.904Z"
   },
   {
    "duration": 12,
    "start_time": "2023-03-21T19:17:23.918Z"
   },
   {
    "duration": 29,
    "start_time": "2023-03-21T19:17:23.931Z"
   },
   {
    "duration": 4,
    "start_time": "2023-03-21T19:17:23.962Z"
   },
   {
    "duration": 7,
    "start_time": "2023-03-21T19:17:23.968Z"
   },
   {
    "duration": 28,
    "start_time": "2023-03-21T19:17:23.977Z"
   },
   {
    "duration": 4,
    "start_time": "2023-03-21T19:17:26.912Z"
   },
   {
    "duration": 7,
    "start_time": "2023-03-21T19:18:23.137Z"
   },
   {
    "duration": 4,
    "start_time": "2023-03-21T19:18:25.352Z"
   },
   {
    "duration": 8,
    "start_time": "2023-03-21T19:18:26.440Z"
   },
   {
    "duration": 381,
    "start_time": "2023-03-21T19:18:48.793Z"
   },
   {
    "duration": 6,
    "start_time": "2023-03-21T19:18:54.910Z"
   },
   {
    "duration": 6,
    "start_time": "2023-03-21T19:18:56.414Z"
   },
   {
    "duration": 4,
    "start_time": "2023-03-21T19:21:47.608Z"
   },
   {
    "duration": 195,
    "start_time": "2023-03-21T19:27:40.186Z"
   },
   {
    "duration": 2,
    "start_time": "2023-03-21T19:28:35.216Z"
   },
   {
    "duration": 26,
    "start_time": "2023-03-21T19:28:42.137Z"
   },
   {
    "duration": 4,
    "start_time": "2023-03-21T19:29:42.064Z"
   },
   {
    "duration": 35,
    "start_time": "2023-03-21T19:30:12.816Z"
   },
   {
    "duration": 8,
    "start_time": "2023-03-21T19:30:30.784Z"
   },
   {
    "duration": 10,
    "start_time": "2023-03-21T19:30:39.615Z"
   },
   {
    "duration": 239,
    "start_time": "2023-03-21T19:35:15.129Z"
   },
   {
    "duration": 1139,
    "start_time": "2023-03-21T19:35:47.832Z"
   },
   {
    "duration": 151,
    "start_time": "2023-03-21T19:36:13.345Z"
   },
   {
    "duration": 144,
    "start_time": "2023-03-21T19:36:21.223Z"
   },
   {
    "duration": 121,
    "start_time": "2023-03-21T19:37:01.416Z"
   },
   {
    "duration": 130,
    "start_time": "2023-03-21T19:37:13.745Z"
   },
   {
    "duration": 18,
    "start_time": "2023-03-21T19:43:35.785Z"
   },
   {
    "duration": 8802,
    "start_time": "2023-03-21T19:43:47.247Z"
   },
   {
    "duration": 5,
    "start_time": "2023-03-21T19:44:23.380Z"
   },
   {
    "duration": 125,
    "start_time": "2023-03-21T19:44:35.719Z"
   },
   {
    "duration": 31,
    "start_time": "2023-03-21T19:44:52.442Z"
   },
   {
    "duration": 11,
    "start_time": "2023-03-21T19:45:06.935Z"
   },
   {
    "duration": 3,
    "start_time": "2023-03-21T20:11:49.393Z"
   },
   {
    "duration": 3,
    "start_time": "2023-03-21T20:12:13.348Z"
   },
   {
    "duration": 7,
    "start_time": "2023-03-21T20:13:14.793Z"
   },
   {
    "duration": 8,
    "start_time": "2023-03-21T20:14:20.481Z"
   },
   {
    "duration": 8,
    "start_time": "2023-03-21T20:14:59.983Z"
   },
   {
    "duration": 9,
    "start_time": "2023-03-21T20:16:22.621Z"
   },
   {
    "duration": 10,
    "start_time": "2023-03-21T20:16:37.565Z"
   },
   {
    "duration": 8,
    "start_time": "2023-03-21T20:16:53.814Z"
   },
   {
    "duration": 23,
    "start_time": "2023-03-21T20:17:11.846Z"
   },
   {
    "duration": 40,
    "start_time": "2023-03-21T20:47:50.803Z"
   },
   {
    "duration": 3,
    "start_time": "2023-03-21T20:52:13.349Z"
   },
   {
    "duration": 20,
    "start_time": "2023-03-21T20:53:01.972Z"
   },
   {
    "duration": 17,
    "start_time": "2023-03-21T20:53:43.725Z"
   },
   {
    "duration": 2,
    "start_time": "2023-03-21T20:53:48.994Z"
   },
   {
    "duration": 46,
    "start_time": "2023-03-21T20:53:48.998Z"
   },
   {
    "duration": 9,
    "start_time": "2023-03-21T20:53:49.046Z"
   },
   {
    "duration": 10,
    "start_time": "2023-03-21T20:53:49.057Z"
   },
   {
    "duration": 6,
    "start_time": "2023-03-21T20:53:49.068Z"
   },
   {
    "duration": 13,
    "start_time": "2023-03-21T20:53:49.076Z"
   },
   {
    "duration": 5,
    "start_time": "2023-03-21T20:53:49.091Z"
   },
   {
    "duration": 10,
    "start_time": "2023-03-21T20:53:49.097Z"
   },
   {
    "duration": 18,
    "start_time": "2023-03-21T20:53:49.109Z"
   },
   {
    "duration": 29,
    "start_time": "2023-03-21T20:53:49.128Z"
   },
   {
    "duration": 4,
    "start_time": "2023-03-21T20:53:49.158Z"
   },
   {
    "duration": 5,
    "start_time": "2023-03-21T20:53:49.163Z"
   },
   {
    "duration": 15,
    "start_time": "2023-03-21T20:53:49.170Z"
   },
   {
    "duration": 4783,
    "start_time": "2023-03-21T20:53:49.186Z"
   },
   {
    "duration": 5,
    "start_time": "2023-03-21T20:53:53.970Z"
   },
   {
    "duration": 135,
    "start_time": "2023-03-21T20:53:53.976Z"
   },
   {
    "duration": 30,
    "start_time": "2023-03-21T20:53:54.113Z"
   },
   {
    "duration": 11,
    "start_time": "2023-03-21T20:53:54.144Z"
   },
   {
    "duration": 15,
    "start_time": "2023-03-21T20:53:54.156Z"
   },
   {
    "duration": 4,
    "start_time": "2023-03-21T20:53:54.172Z"
   },
   {
    "duration": 6,
    "start_time": "2023-03-21T20:53:54.177Z"
   },
   {
    "duration": 4,
    "start_time": "2023-03-21T20:53:54.184Z"
   },
   {
    "duration": 9,
    "start_time": "2023-03-21T20:53:54.190Z"
   },
   {
    "duration": 3,
    "start_time": "2023-03-21T20:53:54.223Z"
   },
   {
    "duration": 5,
    "start_time": "2023-03-21T20:53:54.227Z"
   },
   {
    "duration": 7,
    "start_time": "2023-03-21T20:53:54.233Z"
   },
   {
    "duration": 7,
    "start_time": "2023-03-21T20:53:54.242Z"
   },
   {
    "duration": 23,
    "start_time": "2023-03-21T20:53:54.250Z"
   },
   {
    "duration": 344,
    "start_time": "2023-03-21T20:54:00.028Z"
   },
   {
    "duration": 17,
    "start_time": "2023-03-21T20:55:29.972Z"
   },
   {
    "duration": 359,
    "start_time": "2023-03-21T20:55:34.924Z"
   },
   {
    "duration": 44,
    "start_time": "2023-03-21T20:55:41.180Z"
   },
   {
    "duration": 51,
    "start_time": "2023-03-21T20:55:48.947Z"
   },
   {
    "duration": 343,
    "start_time": "2023-03-21T20:57:03.276Z"
   },
   {
    "duration": 377,
    "start_time": "2023-03-21T20:59:55.613Z"
   },
   {
    "duration": 383,
    "start_time": "2023-03-21T21:00:06.707Z"
   },
   {
    "duration": 395,
    "start_time": "2023-03-21T21:00:13.179Z"
   },
   {
    "duration": 388,
    "start_time": "2023-03-21T21:03:29.138Z"
   },
   {
    "duration": 361,
    "start_time": "2023-03-21T21:08:55.739Z"
   },
   {
    "duration": 402,
    "start_time": "2023-03-21T21:10:35.122Z"
   },
   {
    "duration": 385,
    "start_time": "2023-03-21T21:10:51.027Z"
   },
   {
    "duration": 402,
    "start_time": "2023-03-21T21:12:12.924Z"
   },
   {
    "duration": 4,
    "start_time": "2023-03-21T21:24:25.932Z"
   },
   {
    "duration": 3,
    "start_time": "2023-03-21T21:25:56.235Z"
   },
   {
    "duration": 353,
    "start_time": "2023-03-21T21:28:22.813Z"
   },
   {
    "duration": 362,
    "start_time": "2023-03-21T21:29:53.415Z"
   },
   {
    "duration": 410,
    "start_time": "2023-03-21T21:30:06.266Z"
   },
   {
    "duration": 386,
    "start_time": "2023-03-21T21:31:16.170Z"
   },
   {
    "duration": 383,
    "start_time": "2023-03-21T21:31:29.130Z"
   },
   {
    "duration": 381,
    "start_time": "2023-03-21T21:32:20.187Z"
   },
   {
    "duration": 353,
    "start_time": "2023-03-21T21:33:56.572Z"
   },
   {
    "duration": 330,
    "start_time": "2023-03-21T21:34:08.794Z"
   },
   {
    "duration": 43,
    "start_time": "2023-03-21T21:42:29.928Z"
   },
   {
    "duration": 44,
    "start_time": "2023-03-21T21:43:05.699Z"
   },
   {
    "duration": 910,
    "start_time": "2023-03-21T21:44:38.987Z"
   },
   {
    "duration": 12,
    "start_time": "2023-03-21T21:45:25.883Z"
   },
   {
    "duration": 374,
    "start_time": "2023-03-21T21:45:51.387Z"
   },
   {
    "duration": 909,
    "start_time": "2023-03-21T21:47:08.145Z"
   },
   {
    "duration": 377,
    "start_time": "2023-03-21T21:48:55.489Z"
   },
   {
    "duration": 377,
    "start_time": "2023-03-21T21:49:07.834Z"
   },
   {
    "duration": 3,
    "start_time": "2023-03-21T21:56:42.096Z"
   },
   {
    "duration": 356,
    "start_time": "2023-03-21T21:56:55.563Z"
   },
   {
    "duration": 389,
    "start_time": "2023-03-21T21:58:19.215Z"
   },
   {
    "duration": 401,
    "start_time": "2023-03-21T21:58:32.290Z"
   },
   {
    "duration": 270,
    "start_time": "2023-03-21T21:58:39.363Z"
   },
   {
    "duration": 364,
    "start_time": "2023-03-21T21:58:43.360Z"
   },
   {
    "duration": 370,
    "start_time": "2023-03-21T21:59:02.774Z"
   },
   {
    "duration": 377,
    "start_time": "2023-03-21T21:59:35.724Z"
   },
   {
    "duration": 10,
    "start_time": "2023-03-21T21:59:38.154Z"
   },
   {
    "duration": 3,
    "start_time": "2023-03-21T22:00:19.691Z"
   },
   {
    "duration": 144,
    "start_time": "2023-03-21T22:00:24.730Z"
   },
   {
    "duration": 144,
    "start_time": "2023-03-21T22:00:45.427Z"
   },
   {
    "duration": 143,
    "start_time": "2023-03-21T22:00:50.338Z"
   },
   {
    "duration": 148,
    "start_time": "2023-03-21T22:00:56.715Z"
   },
   {
    "duration": 157,
    "start_time": "2023-03-21T22:01:16.921Z"
   },
   {
    "duration": 355,
    "start_time": "2023-03-21T22:02:31.233Z"
   },
   {
    "duration": 140,
    "start_time": "2023-03-21T22:02:38.417Z"
   },
   {
    "duration": 355,
    "start_time": "2023-03-21T22:02:51.915Z"
   },
   {
    "duration": 23,
    "start_time": "2023-03-21T22:07:11.863Z"
   },
   {
    "duration": 88,
    "start_time": "2023-03-21T22:07:32.379Z"
   },
   {
    "duration": 64,
    "start_time": "2023-03-21T22:07:41.555Z"
   },
   {
    "duration": 6,
    "start_time": "2023-03-21T22:07:46.393Z"
   },
   {
    "duration": 172,
    "start_time": "2023-03-21T22:09:12.291Z"
   },
   {
    "duration": 1683,
    "start_time": "2023-03-23T19:23:08.965Z"
   },
   {
    "duration": 165,
    "start_time": "2023-03-23T19:23:10.650Z"
   },
   {
    "duration": 15,
    "start_time": "2023-03-23T19:23:10.817Z"
   },
   {
    "duration": 18,
    "start_time": "2023-03-23T19:23:10.834Z"
   },
   {
    "duration": 6,
    "start_time": "2023-03-23T19:23:10.853Z"
   },
   {
    "duration": 17,
    "start_time": "2023-03-23T19:23:10.861Z"
   },
   {
    "duration": 7,
    "start_time": "2023-03-23T19:23:10.880Z"
   },
   {
    "duration": 5,
    "start_time": "2023-03-23T19:23:10.889Z"
   },
   {
    "duration": 14,
    "start_time": "2023-03-23T19:23:10.896Z"
   },
   {
    "duration": 59,
    "start_time": "2023-03-23T19:23:10.913Z"
   },
   {
    "duration": 7,
    "start_time": "2023-03-23T19:23:10.973Z"
   },
   {
    "duration": 6,
    "start_time": "2023-03-23T19:23:10.982Z"
   },
   {
    "duration": 17,
    "start_time": "2023-03-23T19:23:10.989Z"
   },
   {
    "duration": 5584,
    "start_time": "2023-03-23T19:23:11.008Z"
   },
   {
    "duration": 4,
    "start_time": "2023-03-23T19:23:16.594Z"
   },
   {
    "duration": 151,
    "start_time": "2023-03-23T19:23:16.600Z"
   },
   {
    "duration": 2,
    "start_time": "2023-03-23T19:23:16.752Z"
   },
   {
    "duration": 19,
    "start_time": "2023-03-23T19:23:16.761Z"
   },
   {
    "duration": 19,
    "start_time": "2023-03-23T19:23:16.782Z"
   },
   {
    "duration": 5,
    "start_time": "2023-03-23T19:23:16.803Z"
   },
   {
    "duration": 6,
    "start_time": "2023-03-23T19:23:16.810Z"
   },
   {
    "duration": 16,
    "start_time": "2023-03-23T19:23:16.818Z"
   },
   {
    "duration": 35,
    "start_time": "2023-03-23T19:23:16.836Z"
   },
   {
    "duration": 4,
    "start_time": "2023-03-23T19:23:16.872Z"
   },
   {
    "duration": 11,
    "start_time": "2023-03-23T19:23:16.878Z"
   },
   {
    "duration": 14,
    "start_time": "2023-03-23T19:23:16.891Z"
   },
   {
    "duration": 11,
    "start_time": "2023-03-23T19:23:16.906Z"
   },
   {
    "duration": 40,
    "start_time": "2023-03-23T19:23:16.921Z"
   },
   {
    "duration": 127,
    "start_time": "2023-03-23T19:23:16.963Z"
   },
   {
    "duration": 0,
    "start_time": "2023-03-23T19:23:17.091Z"
   },
   {
    "duration": 0,
    "start_time": "2023-03-23T19:23:17.093Z"
   },
   {
    "duration": 1,
    "start_time": "2023-03-23T19:23:17.094Z"
   },
   {
    "duration": 0,
    "start_time": "2023-03-23T19:23:17.096Z"
   },
   {
    "duration": 0,
    "start_time": "2023-03-23T19:23:17.097Z"
   },
   {
    "duration": 0,
    "start_time": "2023-03-23T19:23:17.098Z"
   },
   {
    "duration": 0,
    "start_time": "2023-03-23T19:23:17.099Z"
   },
   {
    "duration": 0,
    "start_time": "2023-03-23T19:23:17.101Z"
   },
   {
    "duration": 21,
    "start_time": "2023-03-23T19:23:18.926Z"
   },
   {
    "duration": 20,
    "start_time": "2023-03-23T19:23:21.222Z"
   },
   {
    "duration": 30,
    "start_time": "2023-03-23T19:23:39.647Z"
   },
   {
    "duration": 5,
    "start_time": "2023-03-23T19:23:47.676Z"
   },
   {
    "duration": 44,
    "start_time": "2023-03-23T19:23:47.683Z"
   },
   {
    "duration": 16,
    "start_time": "2023-03-23T19:23:47.729Z"
   },
   {
    "duration": 35,
    "start_time": "2023-03-23T19:23:47.747Z"
   },
   {
    "duration": 4,
    "start_time": "2023-03-23T19:23:47.784Z"
   },
   {
    "duration": 12,
    "start_time": "2023-03-23T19:23:47.790Z"
   },
   {
    "duration": 7,
    "start_time": "2023-03-23T19:23:47.804Z"
   },
   {
    "duration": 13,
    "start_time": "2023-03-23T19:23:47.813Z"
   },
   {
    "duration": 16,
    "start_time": "2023-03-23T19:23:47.827Z"
   },
   {
    "duration": 56,
    "start_time": "2023-03-23T19:23:47.844Z"
   },
   {
    "duration": 6,
    "start_time": "2023-03-23T19:23:47.902Z"
   },
   {
    "duration": 12,
    "start_time": "2023-03-23T19:23:47.909Z"
   },
   {
    "duration": 19,
    "start_time": "2023-03-23T19:23:47.922Z"
   },
   {
    "duration": 6005,
    "start_time": "2023-03-23T19:23:47.944Z"
   },
   {
    "duration": 12,
    "start_time": "2023-03-23T19:23:53.951Z"
   },
   {
    "duration": 180,
    "start_time": "2023-03-23T19:23:53.967Z"
   },
   {
    "duration": 57,
    "start_time": "2023-03-23T19:23:54.149Z"
   },
   {
    "duration": 15,
    "start_time": "2023-03-23T19:23:54.209Z"
   },
   {
    "duration": 36,
    "start_time": "2023-03-23T19:23:54.227Z"
   },
   {
    "duration": 14,
    "start_time": "2023-03-23T19:23:54.265Z"
   },
   {
    "duration": 8,
    "start_time": "2023-03-23T19:23:54.280Z"
   },
   {
    "duration": 15,
    "start_time": "2023-03-23T19:23:54.290Z"
   },
   {
    "duration": 6,
    "start_time": "2023-03-23T19:23:54.307Z"
   },
   {
    "duration": 7,
    "start_time": "2023-03-23T19:23:54.315Z"
   },
   {
    "duration": 10,
    "start_time": "2023-03-23T19:23:54.324Z"
   },
   {
    "duration": 11,
    "start_time": "2023-03-23T19:23:54.336Z"
   },
   {
    "duration": 26,
    "start_time": "2023-03-23T19:23:54.349Z"
   },
   {
    "duration": 29,
    "start_time": "2023-03-23T19:23:54.377Z"
   },
   {
    "duration": 466,
    "start_time": "2023-03-23T19:23:54.407Z"
   },
   {
    "duration": 522,
    "start_time": "2023-03-23T19:23:54.875Z"
   },
   {
    "duration": 1380,
    "start_time": "2023-03-23T19:23:55.398Z"
   },
   {
    "duration": 629,
    "start_time": "2023-03-23T19:23:56.783Z"
   },
   {
    "duration": 508,
    "start_time": "2023-03-23T19:23:57.414Z"
   },
   {
    "duration": 1539,
    "start_time": "2023-03-23T19:23:57.924Z"
   },
   {
    "duration": 1288,
    "start_time": "2023-03-23T19:23:59.466Z"
   },
   {
    "duration": 0,
    "start_time": "2023-03-23T19:24:00.755Z"
   },
   {
    "duration": 0,
    "start_time": "2023-03-23T19:24:00.757Z"
   },
   {
    "duration": 106,
    "start_time": "2023-03-23T19:24:02.317Z"
   },
   {
    "duration": 153,
    "start_time": "2023-03-23T19:24:07.342Z"
   },
   {
    "duration": 134,
    "start_time": "2023-03-23T19:24:09.213Z"
   },
   {
    "duration": 81,
    "start_time": "2023-03-23T19:24:18.333Z"
   },
   {
    "duration": 176,
    "start_time": "2023-03-23T19:24:57.457Z"
   },
   {
    "duration": 92,
    "start_time": "2023-03-23T19:25:09.382Z"
   },
   {
    "duration": 173,
    "start_time": "2023-03-23T19:25:22.261Z"
   },
   {
    "duration": 8,
    "start_time": "2023-03-23T19:25:23.275Z"
   },
   {
    "duration": 99,
    "start_time": "2023-03-23T19:25:31.021Z"
   },
   {
    "duration": 8,
    "start_time": "2023-03-23T19:25:32.406Z"
   },
   {
    "duration": 85,
    "start_time": "2023-03-23T19:25:37.613Z"
   },
   {
    "duration": 10,
    "start_time": "2023-03-23T19:25:38.557Z"
   },
   {
    "duration": 8,
    "start_time": "2023-03-23T19:25:41.390Z"
   },
   {
    "duration": 83,
    "start_time": "2023-03-23T19:25:43.142Z"
   },
   {
    "duration": 93,
    "start_time": "2023-03-23T19:25:57.487Z"
   },
   {
    "duration": 96,
    "start_time": "2023-03-23T19:26:12.662Z"
   },
   {
    "duration": 4,
    "start_time": "2023-03-23T19:26:21.102Z"
   },
   {
    "duration": 43,
    "start_time": "2023-03-23T19:26:21.109Z"
   },
   {
    "duration": 20,
    "start_time": "2023-03-23T19:26:21.153Z"
   },
   {
    "duration": 14,
    "start_time": "2023-03-23T19:26:21.175Z"
   },
   {
    "duration": 6,
    "start_time": "2023-03-23T19:26:21.191Z"
   },
   {
    "duration": 14,
    "start_time": "2023-03-23T19:26:21.199Z"
   },
   {
    "duration": 6,
    "start_time": "2023-03-23T19:26:21.215Z"
   },
   {
    "duration": 4,
    "start_time": "2023-03-23T19:26:21.223Z"
   },
   {
    "duration": 48,
    "start_time": "2023-03-23T19:26:21.230Z"
   },
   {
    "duration": 33,
    "start_time": "2023-03-23T19:26:21.280Z"
   },
   {
    "duration": 4,
    "start_time": "2023-03-23T19:26:21.315Z"
   },
   {
    "duration": 7,
    "start_time": "2023-03-23T19:26:21.321Z"
   },
   {
    "duration": 33,
    "start_time": "2023-03-23T19:26:21.330Z"
   },
   {
    "duration": 6055,
    "start_time": "2023-03-23T19:26:21.365Z"
   },
   {
    "duration": 6,
    "start_time": "2023-03-23T19:26:27.422Z"
   },
   {
    "duration": 177,
    "start_time": "2023-03-23T19:26:27.430Z"
   },
   {
    "duration": 32,
    "start_time": "2023-03-23T19:26:27.609Z"
   },
   {
    "duration": 29,
    "start_time": "2023-03-23T19:26:27.643Z"
   },
   {
    "duration": 23,
    "start_time": "2023-03-23T19:26:27.674Z"
   },
   {
    "duration": 5,
    "start_time": "2023-03-23T19:26:27.698Z"
   },
   {
    "duration": 6,
    "start_time": "2023-03-23T19:26:27.705Z"
   },
   {
    "duration": 6,
    "start_time": "2023-03-23T19:26:27.713Z"
   },
   {
    "duration": 4,
    "start_time": "2023-03-23T19:26:27.720Z"
   },
   {
    "duration": 2,
    "start_time": "2023-03-23T19:26:27.728Z"
   },
   {
    "duration": 32,
    "start_time": "2023-03-23T19:26:27.731Z"
   },
   {
    "duration": 16,
    "start_time": "2023-03-23T19:26:27.764Z"
   },
   {
    "duration": 10,
    "start_time": "2023-03-23T19:26:27.782Z"
   },
   {
    "duration": 28,
    "start_time": "2023-03-23T19:26:27.793Z"
   },
   {
    "duration": 469,
    "start_time": "2023-03-23T19:26:27.822Z"
   },
   {
    "duration": 482,
    "start_time": "2023-03-23T19:26:28.293Z"
   },
   {
    "duration": 1498,
    "start_time": "2023-03-23T19:26:28.776Z"
   },
   {
    "duration": 649,
    "start_time": "2023-03-23T19:26:30.276Z"
   },
   {
    "duration": 522,
    "start_time": "2023-03-23T19:26:30.927Z"
   },
   {
    "duration": 1325,
    "start_time": "2023-03-23T19:26:31.451Z"
   },
   {
    "duration": 1276,
    "start_time": "2023-03-23T19:26:32.782Z"
   },
   {
    "duration": 0,
    "start_time": "2023-03-23T19:26:34.061Z"
   },
   {
    "duration": 0,
    "start_time": "2023-03-23T19:26:34.062Z"
   },
   {
    "duration": 88,
    "start_time": "2023-03-23T19:26:36.783Z"
   },
   {
    "duration": 1196,
    "start_time": "2023-03-23T19:27:03.887Z"
   },
   {
    "duration": 1184,
    "start_time": "2023-03-23T19:27:16.742Z"
   },
   {
    "duration": 1221,
    "start_time": "2023-03-23T19:27:32.982Z"
   },
   {
    "duration": 1183,
    "start_time": "2023-03-23T19:27:37.056Z"
   },
   {
    "duration": 1159,
    "start_time": "2023-03-23T19:27:51.052Z"
   },
   {
    "duration": 1177,
    "start_time": "2023-03-23T19:28:58.479Z"
   },
   {
    "duration": 1145,
    "start_time": "2023-03-23T19:29:08.557Z"
   },
   {
    "duration": 1156,
    "start_time": "2023-03-23T19:29:41.854Z"
   },
   {
    "duration": 3458,
    "start_time": "2023-03-23T19:29:50.301Z"
   },
   {
    "duration": 492,
    "start_time": "2023-03-23T19:30:19.808Z"
   },
   {
    "duration": 199,
    "start_time": "2023-03-23T19:30:27.101Z"
   },
   {
    "duration": 1528,
    "start_time": "2023-03-23T19:30:57.045Z"
   },
   {
    "duration": 6325,
    "start_time": "2023-03-23T19:31:08.846Z"
   },
   {
    "duration": 178,
    "start_time": "2023-03-23T19:31:15.173Z"
   },
   {
    "duration": 1586,
    "start_time": "2023-03-23T19:31:32.446Z"
   },
   {
    "duration": 124,
    "start_time": "2023-03-23T19:31:55.119Z"
   },
   {
    "duration": 170,
    "start_time": "2023-03-23T19:32:00.238Z"
   },
   {
    "duration": 161,
    "start_time": "2023-03-23T19:32:05.206Z"
   },
   {
    "duration": 5,
    "start_time": "2023-03-23T19:32:10.915Z"
   },
   {
    "duration": 51,
    "start_time": "2023-03-23T19:32:10.922Z"
   },
   {
    "duration": 14,
    "start_time": "2023-03-23T19:32:10.976Z"
   },
   {
    "duration": 13,
    "start_time": "2023-03-23T19:32:10.992Z"
   },
   {
    "duration": 6,
    "start_time": "2023-03-23T19:32:11.007Z"
   },
   {
    "duration": 49,
    "start_time": "2023-03-23T19:32:11.015Z"
   },
   {
    "duration": 17,
    "start_time": "2023-03-23T19:32:11.067Z"
   },
   {
    "duration": 5,
    "start_time": "2023-03-23T19:32:11.086Z"
   },
   {
    "duration": 14,
    "start_time": "2023-03-23T19:32:11.093Z"
   },
   {
    "duration": 61,
    "start_time": "2023-03-23T19:32:11.109Z"
   },
   {
    "duration": 7,
    "start_time": "2023-03-23T19:32:11.171Z"
   },
   {
    "duration": 8,
    "start_time": "2023-03-23T19:32:11.180Z"
   },
   {
    "duration": 22,
    "start_time": "2023-03-23T19:32:11.190Z"
   },
   {
    "duration": 5933,
    "start_time": "2023-03-23T19:32:11.214Z"
   },
   {
    "duration": 16,
    "start_time": "2023-03-23T19:32:17.149Z"
   },
   {
    "duration": 171,
    "start_time": "2023-03-23T19:32:17.167Z"
   },
   {
    "duration": 46,
    "start_time": "2023-03-23T19:32:17.340Z"
   },
   {
    "duration": 12,
    "start_time": "2023-03-23T19:32:17.388Z"
   },
   {
    "duration": 22,
    "start_time": "2023-03-23T19:32:17.402Z"
   },
   {
    "duration": 5,
    "start_time": "2023-03-23T19:32:17.426Z"
   },
   {
    "duration": 31,
    "start_time": "2023-03-23T19:32:17.432Z"
   },
   {
    "duration": 7,
    "start_time": "2023-03-23T19:32:17.470Z"
   },
   {
    "duration": 6,
    "start_time": "2023-03-23T19:32:17.479Z"
   },
   {
    "duration": 4,
    "start_time": "2023-03-23T19:32:17.488Z"
   },
   {
    "duration": 5,
    "start_time": "2023-03-23T19:32:17.493Z"
   },
   {
    "duration": 9,
    "start_time": "2023-03-23T19:32:17.500Z"
   },
   {
    "duration": 9,
    "start_time": "2023-03-23T19:32:17.510Z"
   },
   {
    "duration": 57,
    "start_time": "2023-03-23T19:32:17.521Z"
   },
   {
    "duration": 427,
    "start_time": "2023-03-23T19:32:17.580Z"
   },
   {
    "duration": 684,
    "start_time": "2023-03-23T19:32:18.009Z"
   },
   {
    "duration": 1586,
    "start_time": "2023-03-23T19:32:18.694Z"
   },
   {
    "duration": 598,
    "start_time": "2023-03-23T19:32:20.282Z"
   },
   {
    "duration": 1513,
    "start_time": "2023-03-23T19:32:20.881Z"
   },
   {
    "duration": 1469,
    "start_time": "2023-03-23T19:32:22.395Z"
   },
   {
    "duration": 6713,
    "start_time": "2023-03-23T19:32:23.866Z"
   },
   {
    "duration": 1556,
    "start_time": "2023-03-23T19:32:30.581Z"
   },
   {
    "duration": 117,
    "start_time": "2023-03-23T19:32:32.330Z"
   },
   {
    "duration": 191,
    "start_time": "2023-03-23T19:32:32.451Z"
   },
   {
    "duration": 99,
    "start_time": "2023-03-23T19:35:17.486Z"
   },
   {
    "duration": 5,
    "start_time": "2023-03-23T19:41:21.733Z"
   },
   {
    "duration": 47,
    "start_time": "2023-03-23T19:41:21.739Z"
   },
   {
    "duration": 14,
    "start_time": "2023-03-23T19:41:21.788Z"
   },
   {
    "duration": 14,
    "start_time": "2023-03-23T19:41:21.805Z"
   },
   {
    "duration": 5,
    "start_time": "2023-03-23T19:41:21.821Z"
   },
   {
    "duration": 48,
    "start_time": "2023-03-23T19:41:21.828Z"
   },
   {
    "duration": 10,
    "start_time": "2023-03-23T19:41:21.877Z"
   },
   {
    "duration": 6,
    "start_time": "2023-03-23T19:41:21.889Z"
   },
   {
    "duration": 9,
    "start_time": "2023-03-23T19:41:21.898Z"
   },
   {
    "duration": 68,
    "start_time": "2023-03-23T19:41:21.909Z"
   },
   {
    "duration": 5,
    "start_time": "2023-03-23T19:41:21.979Z"
   },
   {
    "duration": 6,
    "start_time": "2023-03-23T19:41:21.985Z"
   },
   {
    "duration": 16,
    "start_time": "2023-03-23T19:41:21.993Z"
   },
   {
    "duration": 5785,
    "start_time": "2023-03-23T19:41:22.010Z"
   },
   {
    "duration": 5,
    "start_time": "2023-03-23T19:41:27.797Z"
   },
   {
    "duration": 171,
    "start_time": "2023-03-23T19:41:27.804Z"
   },
   {
    "duration": 3,
    "start_time": "2023-03-23T19:41:27.976Z"
   },
   {
    "duration": 5,
    "start_time": "2023-03-23T19:41:27.981Z"
   },
   {
    "duration": 11,
    "start_time": "2023-03-23T19:41:27.988Z"
   },
   {
    "duration": 18,
    "start_time": "2023-03-23T19:41:28.001Z"
   },
   {
    "duration": 6,
    "start_time": "2023-03-23T19:41:28.021Z"
   },
   {
    "duration": 44,
    "start_time": "2023-03-23T19:41:28.028Z"
   },
   {
    "duration": 7,
    "start_time": "2023-03-23T19:41:28.074Z"
   },
   {
    "duration": 4,
    "start_time": "2023-03-23T19:41:28.084Z"
   },
   {
    "duration": 3,
    "start_time": "2023-03-23T19:41:28.089Z"
   },
   {
    "duration": 4,
    "start_time": "2023-03-23T19:41:28.094Z"
   },
   {
    "duration": 8,
    "start_time": "2023-03-23T19:41:28.100Z"
   },
   {
    "duration": 9,
    "start_time": "2023-03-23T19:41:28.110Z"
   },
   {
    "duration": 60,
    "start_time": "2023-03-23T19:41:28.120Z"
   },
   {
    "duration": 18,
    "start_time": "2023-03-23T19:41:28.182Z"
   },
   {
    "duration": 0,
    "start_time": "2023-03-23T19:41:28.201Z"
   },
   {
    "duration": 0,
    "start_time": "2023-03-23T19:41:28.203Z"
   },
   {
    "duration": 0,
    "start_time": "2023-03-23T19:41:28.203Z"
   },
   {
    "duration": 0,
    "start_time": "2023-03-23T19:41:28.205Z"
   },
   {
    "duration": 0,
    "start_time": "2023-03-23T19:41:28.206Z"
   },
   {
    "duration": 0,
    "start_time": "2023-03-23T19:41:28.207Z"
   },
   {
    "duration": 0,
    "start_time": "2023-03-23T19:41:28.208Z"
   },
   {
    "duration": 0,
    "start_time": "2023-03-23T19:41:28.209Z"
   },
   {
    "duration": 20,
    "start_time": "2023-03-23T19:41:31.897Z"
   },
   {
    "duration": 21,
    "start_time": "2023-03-23T19:41:41.661Z"
   },
   {
    "duration": 48,
    "start_time": "2023-03-23T19:43:29.701Z"
   },
   {
    "duration": 47,
    "start_time": "2023-03-23T19:43:31.509Z"
   },
   {
    "duration": 5,
    "start_time": "2023-03-23T19:43:46.022Z"
   },
   {
    "duration": 6,
    "start_time": "2023-03-23T19:43:47.534Z"
   },
   {
    "duration": 11,
    "start_time": "2023-03-23T19:43:48.934Z"
   },
   {
    "duration": 21,
    "start_time": "2023-03-23T19:43:55.589Z"
   },
   {
    "duration": 5,
    "start_time": "2023-03-23T19:44:03.576Z"
   },
   {
    "duration": 43,
    "start_time": "2023-03-23T19:44:03.583Z"
   },
   {
    "duration": 12,
    "start_time": "2023-03-23T19:44:03.628Z"
   },
   {
    "duration": 14,
    "start_time": "2023-03-23T19:44:03.642Z"
   },
   {
    "duration": 15,
    "start_time": "2023-03-23T19:44:03.658Z"
   },
   {
    "duration": 14,
    "start_time": "2023-03-23T19:44:03.674Z"
   },
   {
    "duration": 7,
    "start_time": "2023-03-23T19:44:03.689Z"
   },
   {
    "duration": 5,
    "start_time": "2023-03-23T19:44:03.698Z"
   },
   {
    "duration": 10,
    "start_time": "2023-03-23T19:44:03.705Z"
   },
   {
    "duration": 63,
    "start_time": "2023-03-23T19:44:03.717Z"
   },
   {
    "duration": 6,
    "start_time": "2023-03-23T19:44:03.781Z"
   },
   {
    "duration": 5,
    "start_time": "2023-03-23T19:44:03.790Z"
   },
   {
    "duration": 18,
    "start_time": "2023-03-23T19:44:03.796Z"
   },
   {
    "duration": 6110,
    "start_time": "2023-03-23T19:44:03.815Z"
   },
   {
    "duration": 5,
    "start_time": "2023-03-23T19:44:09.927Z"
   },
   {
    "duration": 205,
    "start_time": "2023-03-23T19:44:09.934Z"
   },
   {
    "duration": 5,
    "start_time": "2023-03-23T19:44:10.141Z"
   },
   {
    "duration": 6,
    "start_time": "2023-03-23T19:44:10.148Z"
   },
   {
    "duration": 21,
    "start_time": "2023-03-23T19:44:10.165Z"
   },
   {
    "duration": 38,
    "start_time": "2023-03-23T19:44:10.189Z"
   },
   {
    "duration": 7,
    "start_time": "2023-03-23T19:44:10.228Z"
   },
   {
    "duration": 31,
    "start_time": "2023-03-23T19:44:10.236Z"
   },
   {
    "duration": 13,
    "start_time": "2023-03-23T19:44:10.273Z"
   },
   {
    "duration": 6,
    "start_time": "2023-03-23T19:44:10.291Z"
   },
   {
    "duration": 6,
    "start_time": "2023-03-23T19:44:10.299Z"
   },
   {
    "duration": 14,
    "start_time": "2023-03-23T19:44:10.307Z"
   },
   {
    "duration": 10,
    "start_time": "2023-03-23T19:44:10.323Z"
   },
   {
    "duration": 12,
    "start_time": "2023-03-23T19:44:10.335Z"
   },
   {
    "duration": 67,
    "start_time": "2023-03-23T19:44:10.363Z"
   },
   {
    "duration": 489,
    "start_time": "2023-03-23T19:44:10.432Z"
   },
   {
    "duration": 449,
    "start_time": "2023-03-23T19:44:10.923Z"
   },
   {
    "duration": 1001,
    "start_time": "2023-03-23T19:44:11.374Z"
   },
   {
    "duration": 571,
    "start_time": "2023-03-23T19:44:12.377Z"
   },
   {
    "duration": 1451,
    "start_time": "2023-03-23T19:44:12.950Z"
   },
   {
    "duration": 1381,
    "start_time": "2023-03-23T19:44:14.402Z"
   },
   {
    "duration": 5993,
    "start_time": "2023-03-23T19:44:15.863Z"
   },
   {
    "duration": 1400,
    "start_time": "2023-03-23T19:44:21.858Z"
   },
   {
    "duration": 182,
    "start_time": "2023-03-23T19:44:23.260Z"
   },
   {
    "duration": 105,
    "start_time": "2023-03-23T19:44:26.477Z"
   },
   {
    "duration": 4,
    "start_time": "2023-03-23T19:44:46.656Z"
   },
   {
    "duration": 44,
    "start_time": "2023-03-23T19:44:46.662Z"
   },
   {
    "duration": 13,
    "start_time": "2023-03-23T19:44:46.708Z"
   },
   {
    "duration": 15,
    "start_time": "2023-03-23T19:44:46.723Z"
   },
   {
    "duration": 5,
    "start_time": "2023-03-23T19:44:46.740Z"
   },
   {
    "duration": 15,
    "start_time": "2023-03-23T19:44:46.772Z"
   },
   {
    "duration": 8,
    "start_time": "2023-03-23T19:44:46.788Z"
   },
   {
    "duration": 7,
    "start_time": "2023-03-23T19:44:46.797Z"
   },
   {
    "duration": 17,
    "start_time": "2023-03-23T19:44:46.805Z"
   },
   {
    "duration": 52,
    "start_time": "2023-03-23T19:44:46.823Z"
   },
   {
    "duration": 5,
    "start_time": "2023-03-23T19:44:46.878Z"
   },
   {
    "duration": 6,
    "start_time": "2023-03-23T19:44:46.884Z"
   },
   {
    "duration": 15,
    "start_time": "2023-03-23T19:44:46.892Z"
   },
   {
    "duration": 5910,
    "start_time": "2023-03-23T19:44:46.909Z"
   },
   {
    "duration": 4,
    "start_time": "2023-03-23T19:44:52.821Z"
   },
   {
    "duration": 167,
    "start_time": "2023-03-23T19:44:52.827Z"
   },
   {
    "duration": 5,
    "start_time": "2023-03-23T19:44:52.996Z"
   },
   {
    "duration": 9,
    "start_time": "2023-03-23T19:44:53.002Z"
   },
   {
    "duration": 18,
    "start_time": "2023-03-23T19:44:53.012Z"
   },
   {
    "duration": 46,
    "start_time": "2023-03-23T19:44:53.032Z"
   },
   {
    "duration": 5,
    "start_time": "2023-03-23T19:44:53.080Z"
   },
   {
    "duration": 21,
    "start_time": "2023-03-23T19:44:53.087Z"
   },
   {
    "duration": 19,
    "start_time": "2023-03-23T19:44:53.110Z"
   },
   {
    "duration": 20,
    "start_time": "2023-03-23T19:44:53.131Z"
   },
   {
    "duration": 27,
    "start_time": "2023-03-23T19:44:53.154Z"
   },
   {
    "duration": 26,
    "start_time": "2023-03-23T19:44:53.183Z"
   },
   {
    "duration": 17,
    "start_time": "2023-03-23T19:44:53.211Z"
   },
   {
    "duration": 23,
    "start_time": "2023-03-23T19:44:53.230Z"
   },
   {
    "duration": 60,
    "start_time": "2023-03-23T19:44:53.256Z"
   },
   {
    "duration": 486,
    "start_time": "2023-03-23T19:44:53.318Z"
   },
   {
    "duration": 492,
    "start_time": "2023-03-23T19:44:53.806Z"
   },
   {
    "duration": 1268,
    "start_time": "2023-03-23T19:44:54.300Z"
   },
   {
    "duration": 584,
    "start_time": "2023-03-23T19:44:55.572Z"
   },
   {
    "duration": 1426,
    "start_time": "2023-03-23T19:44:56.158Z"
   },
   {
    "duration": 1381,
    "start_time": "2023-03-23T19:44:57.585Z"
   },
   {
    "duration": 6014,
    "start_time": "2023-03-23T19:44:58.968Z"
   },
   {
    "duration": 1449,
    "start_time": "2023-03-23T19:45:04.984Z"
   },
   {
    "duration": 191,
    "start_time": "2023-03-23T19:45:06.435Z"
   },
   {
    "duration": 112,
    "start_time": "2023-03-23T19:45:06.628Z"
   },
   {
    "duration": 171,
    "start_time": "2023-03-23T19:45:06.742Z"
   },
   {
    "duration": 5,
    "start_time": "2023-03-23T19:47:24.317Z"
   },
   {
    "duration": 18,
    "start_time": "2023-03-23T19:47:25.590Z"
   },
   {
    "duration": 19,
    "start_time": "2023-03-23T19:48:02.253Z"
   },
   {
    "duration": 4,
    "start_time": "2023-03-23T19:48:23.445Z"
   },
   {
    "duration": 4,
    "start_time": "2023-03-23T19:49:38.397Z"
   },
   {
    "duration": 29,
    "start_time": "2023-03-23T19:49:41.396Z"
   },
   {
    "duration": 5,
    "start_time": "2023-03-23T19:51:59.393Z"
   },
   {
    "duration": 28,
    "start_time": "2023-03-23T19:52:05.429Z"
   },
   {
    "duration": 4,
    "start_time": "2023-03-23T19:53:17.500Z"
   },
   {
    "duration": 11,
    "start_time": "2023-03-23T19:53:22.828Z"
   },
   {
    "duration": 69915,
    "start_time": "2023-03-23T19:54:36.085Z"
   },
   {
    "duration": 76939,
    "start_time": "2023-03-23T19:55:59.793Z"
   },
   {
    "duration": 32,
    "start_time": "2023-03-23T20:01:15.889Z"
   },
   {
    "duration": 290,
    "start_time": "2023-03-23T20:02:03.190Z"
   },
   {
    "duration": 329,
    "start_time": "2023-03-23T20:02:09.517Z"
   },
   {
    "duration": 174,
    "start_time": "2023-03-23T20:02:32.029Z"
   },
   {
    "duration": 75187,
    "start_time": "2023-03-23T20:04:25.494Z"
   },
   {
    "duration": 526,
    "start_time": "2023-03-23T20:05:40.683Z"
   },
   {
    "duration": 1609,
    "start_time": "2023-03-23T20:05:41.210Z"
   },
   {
    "duration": 993,
    "start_time": "2023-03-23T20:05:42.823Z"
   },
   {
    "duration": 202,
    "start_time": "2023-03-23T20:06:42.750Z"
   },
   {
    "duration": 82,
    "start_time": "2023-03-23T20:08:19.141Z"
   },
   {
    "duration": 85940,
    "start_time": "2023-03-23T20:10:50.817Z"
   },
   {
    "duration": 3,
    "start_time": "2023-03-23T20:20:23.619Z"
   },
   {
    "duration": 315656,
    "start_time": "2023-03-23T20:32:02.136Z"
   },
   {
    "duration": 10183,
    "start_time": "2023-03-23T20:43:26.774Z"
   },
   {
    "duration": 4,
    "start_time": "2023-03-23T20:52:08.549Z"
   },
   {
    "duration": 10,
    "start_time": "2023-03-23T20:52:10.904Z"
   },
   {
    "duration": 164559,
    "start_time": "2023-03-23T20:52:20.923Z"
   },
   {
    "duration": 43,
    "start_time": "2023-03-23T20:56:06.347Z"
   },
   {
    "duration": 43,
    "start_time": "2023-03-23T20:57:09.311Z"
   },
   {
    "duration": 14,
    "start_time": "2023-03-23T20:59:13.715Z"
   },
   {
    "duration": 15,
    "start_time": "2023-03-23T20:59:44.813Z"
   },
   {
    "duration": 262,
    "start_time": "2023-03-23T20:59:54.251Z"
   },
   {
    "duration": 255,
    "start_time": "2023-03-23T21:00:18.401Z"
   },
   {
    "duration": 335,
    "start_time": "2023-03-23T21:00:27.212Z"
   },
   {
    "duration": 296,
    "start_time": "2023-03-23T21:01:18.187Z"
   },
   {
    "duration": 3,
    "start_time": "2023-03-23T21:02:51.498Z"
   },
   {
    "duration": 192,
    "start_time": "2023-03-23T21:03:10.788Z"
   },
   {
    "duration": 224071,
    "start_time": "2023-03-23T21:08:23.240Z"
   },
   {
    "duration": 222803,
    "start_time": "2023-03-23T21:12:57.707Z"
   },
   {
    "duration": 361,
    "start_time": "2023-03-23T21:19:46.923Z"
   },
   {
    "duration": 308,
    "start_time": "2023-03-23T21:20:00.258Z"
   },
   {
    "duration": 321,
    "start_time": "2023-03-23T21:22:15.204Z"
   },
   {
    "duration": 227050,
    "start_time": "2023-03-23T21:24:30.099Z"
   },
   {
    "duration": 10879,
    "start_time": "2023-03-23T21:28:17.151Z"
   },
   {
    "duration": 223182,
    "start_time": "2023-03-23T21:29:49.025Z"
   },
   {
    "duration": 224804,
    "start_time": "2023-03-23T21:35:31.278Z"
   },
   {
    "duration": 159889,
    "start_time": "2023-03-23T21:39:16.084Z"
   },
   {
    "duration": 65,
    "start_time": "2023-03-23T21:42:44.130Z"
   },
   {
    "duration": 4,
    "start_time": "2023-03-23T21:43:45.081Z"
   },
   {
    "duration": 11,
    "start_time": "2023-03-23T21:43:48.153Z"
   },
   {
    "duration": 83302,
    "start_time": "2023-03-23T21:45:04.364Z"
   },
   {
    "duration": 50,
    "start_time": "2023-03-23T21:49:34.282Z"
   },
   {
    "duration": 50,
    "start_time": "2023-03-23T21:49:49.256Z"
   },
   {
    "duration": 54,
    "start_time": "2023-03-23T21:49:56.743Z"
   },
   {
    "duration": 58,
    "start_time": "2023-03-23T21:50:00.937Z"
   },
   {
    "duration": 84772,
    "start_time": "2023-03-23T21:50:13.834Z"
   },
   {
    "duration": 34,
    "start_time": "2023-03-23T21:57:17.633Z"
   },
   {
    "duration": 31,
    "start_time": "2023-03-23T21:57:33.498Z"
   },
   {
    "duration": 33,
    "start_time": "2023-03-23T21:57:37.345Z"
   },
   {
    "duration": 26,
    "start_time": "2023-03-23T22:00:16.778Z"
   },
   {
    "duration": 27,
    "start_time": "2023-03-23T22:00:19.680Z"
   },
   {
    "duration": 26,
    "start_time": "2023-03-23T22:01:11.513Z"
   },
   {
    "duration": 9,
    "start_time": "2023-03-23T22:02:10.888Z"
   },
   {
    "duration": 35,
    "start_time": "2023-03-23T22:02:43.130Z"
   },
   {
    "duration": 416,
    "start_time": "2023-03-23T22:03:20.585Z"
   },
   {
    "duration": 156,
    "start_time": "2023-03-23T22:06:23.609Z"
   },
   {
    "duration": 276,
    "start_time": "2023-03-23T22:06:29.528Z"
   },
   {
    "duration": 32,
    "start_time": "2023-03-23T22:07:56.688Z"
   },
   {
    "duration": 24,
    "start_time": "2023-03-23T22:07:57.778Z"
   },
   {
    "duration": 33,
    "start_time": "2023-03-23T22:10:09.720Z"
   },
   {
    "duration": 21,
    "start_time": "2023-03-23T22:10:10.632Z"
   },
   {
    "duration": 158,
    "start_time": "2023-03-23T22:10:26.553Z"
   },
   {
    "duration": 21,
    "start_time": "2023-03-23T22:14:48.760Z"
   },
   {
    "duration": 53,
    "start_time": "2023-03-23T22:16:46.784Z"
   },
   {
    "duration": 44,
    "start_time": "2023-03-23T22:17:03.448Z"
   },
   {
    "duration": 270,
    "start_time": "2023-03-23T22:17:48.399Z"
   },
   {
    "duration": 54,
    "start_time": "2023-03-23T22:17:49.751Z"
   },
   {
    "duration": 44,
    "start_time": "2023-03-23T22:17:51.017Z"
   },
   {
    "duration": 264,
    "start_time": "2023-03-23T22:18:20.689Z"
   },
   {
    "duration": 257,
    "start_time": "2023-03-23T22:18:57.280Z"
   },
   {
    "duration": 247,
    "start_time": "2023-03-23T22:19:19.407Z"
   },
   {
    "duration": 265,
    "start_time": "2023-03-23T22:19:24.095Z"
   },
   {
    "duration": 56,
    "start_time": "2023-03-25T13:57:10.901Z"
   },
   {
    "duration": 7,
    "start_time": "2023-03-25T14:00:22.542Z"
   },
   {
    "duration": 2212,
    "start_time": "2023-03-25T14:02:49.164Z"
   },
   {
    "duration": 135,
    "start_time": "2023-03-25T14:02:51.379Z"
   },
   {
    "duration": 23,
    "start_time": "2023-03-25T14:02:51.517Z"
   },
   {
    "duration": 26,
    "start_time": "2023-03-25T14:02:51.544Z"
   },
   {
    "duration": 9,
    "start_time": "2023-03-25T14:02:51.572Z"
   },
   {
    "duration": 66,
    "start_time": "2023-03-25T14:02:51.583Z"
   },
   {
    "duration": 5,
    "start_time": "2023-03-25T14:02:51.652Z"
   },
   {
    "duration": 36,
    "start_time": "2023-03-25T14:02:51.659Z"
   },
   {
    "duration": 67,
    "start_time": "2023-03-25T14:02:51.697Z"
   },
   {
    "duration": 9,
    "start_time": "2023-03-25T14:02:51.767Z"
   },
   {
    "duration": 6,
    "start_time": "2023-03-25T14:02:51.778Z"
   },
   {
    "duration": 50,
    "start_time": "2023-03-25T14:02:51.790Z"
   },
   {
    "duration": 39,
    "start_time": "2023-03-25T14:02:51.843Z"
   },
   {
    "duration": 7234,
    "start_time": "2023-03-25T14:02:51.884Z"
   },
   {
    "duration": 6,
    "start_time": "2023-03-25T14:02:59.123Z"
   },
   {
    "duration": 225,
    "start_time": "2023-03-25T14:02:59.132Z"
   },
   {
    "duration": 8,
    "start_time": "2023-03-25T14:02:59.360Z"
   },
   {
    "duration": 18,
    "start_time": "2023-03-25T14:04:50.777Z"
   },
   {
    "duration": 105,
    "start_time": "2023-03-25T14:15:12.148Z"
   },
   {
    "duration": 6,
    "start_time": "2023-03-25T14:22:22.834Z"
   },
   {
    "duration": 69,
    "start_time": "2023-03-25T14:22:22.843Z"
   },
   {
    "duration": 14,
    "start_time": "2023-03-25T14:22:22.915Z"
   },
   {
    "duration": 22,
    "start_time": "2023-03-25T14:22:22.933Z"
   },
   {
    "duration": 12,
    "start_time": "2023-03-25T14:22:22.957Z"
   },
   {
    "duration": 34,
    "start_time": "2023-03-25T14:22:22.971Z"
   },
   {
    "duration": 13,
    "start_time": "2023-03-25T14:22:23.008Z"
   },
   {
    "duration": 23,
    "start_time": "2023-03-25T14:22:23.023Z"
   },
   {
    "duration": 82,
    "start_time": "2023-03-25T14:22:23.048Z"
   },
   {
    "duration": 8,
    "start_time": "2023-03-25T14:22:23.135Z"
   },
   {
    "duration": 12,
    "start_time": "2023-03-25T14:22:23.145Z"
   },
   {
    "duration": 35,
    "start_time": "2023-03-25T14:22:23.159Z"
   },
   {
    "duration": 31,
    "start_time": "2023-03-25T14:22:23.197Z"
   },
   {
    "duration": 7146,
    "start_time": "2023-03-25T14:22:23.230Z"
   },
   {
    "duration": 12,
    "start_time": "2023-03-25T14:22:30.379Z"
   },
   {
    "duration": 327,
    "start_time": "2023-03-25T14:22:30.393Z"
   },
   {
    "duration": 6,
    "start_time": "2023-03-25T14:22:30.722Z"
   },
   {
    "duration": 91,
    "start_time": "2023-03-25T14:22:30.731Z"
   },
   {
    "duration": 83,
    "start_time": "2023-03-25T14:22:30.824Z"
   },
   {
    "duration": 44,
    "start_time": "2023-03-25T14:22:30.909Z"
   },
   {
    "duration": 44,
    "start_time": "2023-03-25T14:22:30.955Z"
   },
   {
    "duration": 53,
    "start_time": "2023-03-25T14:22:31.002Z"
   },
   {
    "duration": 62,
    "start_time": "2023-03-25T14:22:31.057Z"
   },
   {
    "duration": 69,
    "start_time": "2023-03-25T14:22:31.123Z"
   },
   {
    "duration": 94,
    "start_time": "2023-03-25T14:22:31.195Z"
   },
   {
    "duration": 44,
    "start_time": "2023-03-25T14:22:31.291Z"
   },
   {
    "duration": 111,
    "start_time": "2023-03-25T14:22:31.337Z"
   },
   {
    "duration": 5,
    "start_time": "2023-03-25T14:22:31.452Z"
   },
   {
    "duration": 11722,
    "start_time": "2023-03-25T14:22:31.459Z"
   },
   {
    "duration": 13,
    "start_time": "2023-03-25T14:22:43.187Z"
   },
   {
    "duration": 248146,
    "start_time": "2023-03-25T14:22:43.203Z"
   },
   {
    "duration": 38,
    "start_time": "2023-03-25T14:26:51.351Z"
   },
   {
    "duration": 1910,
    "start_time": "2023-03-25T14:26:51.391Z"
   },
   {
    "duration": 180,
    "start_time": "2023-03-25T14:26:53.309Z"
   },
   {
    "duration": 240,
    "start_time": "2023-03-25T14:26:53.492Z"
   },
   {
    "duration": 0,
    "start_time": "2023-03-25T14:26:53.734Z"
   },
   {
    "duration": 0,
    "start_time": "2023-03-25T14:26:53.735Z"
   },
   {
    "duration": 0,
    "start_time": "2023-03-25T14:26:53.736Z"
   },
   {
    "duration": 0,
    "start_time": "2023-03-25T14:26:53.738Z"
   },
   {
    "duration": 0,
    "start_time": "2023-03-25T14:26:53.739Z"
   },
   {
    "duration": 0,
    "start_time": "2023-03-25T14:26:53.741Z"
   },
   {
    "duration": 0,
    "start_time": "2023-03-25T14:26:53.742Z"
   },
   {
    "duration": 0,
    "start_time": "2023-03-25T14:26:53.743Z"
   },
   {
    "duration": 0,
    "start_time": "2023-03-25T14:26:53.745Z"
   },
   {
    "duration": 0,
    "start_time": "2023-03-25T14:26:53.746Z"
   },
   {
    "duration": 0,
    "start_time": "2023-03-25T14:26:53.747Z"
   },
   {
    "duration": 0,
    "start_time": "2023-03-25T14:26:53.749Z"
   },
   {
    "duration": 11,
    "start_time": "2023-03-25T14:33:37.683Z"
   },
   {
    "duration": 33,
    "start_time": "2023-03-25T14:33:41.331Z"
   },
   {
    "duration": 15,
    "start_time": "2023-03-25T14:33:44.550Z"
   },
   {
    "duration": 248,
    "start_time": "2023-03-25T14:33:47.878Z"
   },
   {
    "duration": 15,
    "start_time": "2023-03-25T14:35:05.485Z"
   },
   {
    "duration": 5,
    "start_time": "2023-03-25T14:35:12.181Z"
   },
   {
    "duration": 13,
    "start_time": "2023-03-25T14:35:13.599Z"
   },
   {
    "duration": 185094,
    "start_time": "2023-03-25T14:38:22.000Z"
   },
   {
    "duration": 14,
    "start_time": "2023-03-25T14:41:27.097Z"
   },
   {
    "duration": 9,
    "start_time": "2023-03-25T16:13:03.840Z"
   },
   {
    "duration": 11,
    "start_time": "2023-03-25T16:13:05.486Z"
   },
   {
    "duration": 20,
    "start_time": "2023-03-25T16:13:19.904Z"
   },
   {
    "duration": 24,
    "start_time": "2023-03-25T16:13:50.558Z"
   },
   {
    "duration": 78,
    "start_time": "2023-03-25T16:21:07.923Z"
   },
   {
    "duration": 6,
    "start_time": "2023-03-25T16:21:17.039Z"
   },
   {
    "duration": 8,
    "start_time": "2023-03-25T16:21:39.719Z"
   },
   {
    "duration": 7,
    "start_time": "2023-03-25T16:25:58.516Z"
   },
   {
    "duration": 45,
    "start_time": "2023-03-25T16:25:58.526Z"
   },
   {
    "duration": 29,
    "start_time": "2023-03-25T16:25:58.573Z"
   },
   {
    "duration": 34,
    "start_time": "2023-03-25T16:25:58.604Z"
   },
   {
    "duration": 6,
    "start_time": "2023-03-25T16:25:58.640Z"
   },
   {
    "duration": 19,
    "start_time": "2023-03-25T16:25:58.648Z"
   },
   {
    "duration": 4,
    "start_time": "2023-03-25T16:25:58.669Z"
   },
   {
    "duration": 26,
    "start_time": "2023-03-25T16:25:58.675Z"
   },
   {
    "duration": 42,
    "start_time": "2023-03-25T16:25:58.709Z"
   },
   {
    "duration": 5,
    "start_time": "2023-03-25T16:25:58.754Z"
   },
   {
    "duration": 13,
    "start_time": "2023-03-25T16:25:58.760Z"
   },
   {
    "duration": 29,
    "start_time": "2023-03-25T16:25:58.775Z"
   },
   {
    "duration": 36,
    "start_time": "2023-03-25T16:25:58.806Z"
   },
   {
    "duration": 7427,
    "start_time": "2023-03-25T16:25:58.846Z"
   },
   {
    "duration": 19,
    "start_time": "2023-03-25T16:26:06.275Z"
   },
   {
    "duration": 216,
    "start_time": "2023-03-25T16:26:06.296Z"
   },
   {
    "duration": 7,
    "start_time": "2023-03-25T16:26:06.514Z"
   },
   {
    "duration": 19,
    "start_time": "2023-03-25T16:26:06.525Z"
   },
   {
    "duration": 50,
    "start_time": "2023-03-25T16:26:06.546Z"
   },
   {
    "duration": 7,
    "start_time": "2023-03-25T16:26:06.598Z"
   },
   {
    "duration": 37,
    "start_time": "2023-03-25T16:26:06.608Z"
   },
   {
    "duration": 11,
    "start_time": "2023-03-25T16:26:06.647Z"
   },
   {
    "duration": 9,
    "start_time": "2023-03-25T16:26:06.660Z"
   },
   {
    "duration": 6,
    "start_time": "2023-03-25T16:26:06.672Z"
   },
   {
    "duration": 30,
    "start_time": "2023-03-25T16:26:06.680Z"
   },
   {
    "duration": 20,
    "start_time": "2023-03-25T16:26:06.712Z"
   },
   {
    "duration": 50,
    "start_time": "2023-03-25T16:26:06.734Z"
   },
   {
    "duration": 7,
    "start_time": "2023-03-25T16:26:06.786Z"
   },
   {
    "duration": 12470,
    "start_time": "2023-03-25T16:26:06.795Z"
   },
   {
    "duration": 10,
    "start_time": "2023-03-25T16:26:19.267Z"
   },
   {
    "duration": 275059,
    "start_time": "2023-03-25T16:26:19.278Z"
   },
   {
    "duration": 31,
    "start_time": "2023-03-25T16:30:54.339Z"
   },
   {
    "duration": 3121,
    "start_time": "2023-03-25T16:30:54.372Z"
   },
   {
    "duration": 177,
    "start_time": "2023-03-25T16:30:57.514Z"
   },
   {
    "duration": 607,
    "start_time": "2023-03-25T16:30:57.695Z"
   },
   {
    "duration": 15,
    "start_time": "2023-03-25T16:30:58.306Z"
   },
   {
    "duration": 65,
    "start_time": "2023-03-25T16:30:58.327Z"
   },
   {
    "duration": 199224,
    "start_time": "2023-03-25T16:30:58.394Z"
   },
   {
    "duration": 7,
    "start_time": "2023-03-25T16:34:17.623Z"
   },
   {
    "duration": 10,
    "start_time": "2023-03-25T16:34:17.632Z"
   },
   {
    "duration": 12,
    "start_time": "2023-03-25T16:34:17.647Z"
   },
   {
    "duration": 106638,
    "start_time": "2023-03-25T16:34:17.661Z"
   },
   {
    "duration": 15,
    "start_time": "2023-03-25T16:36:04.302Z"
   },
   {
    "duration": 322,
    "start_time": "2023-03-25T16:36:04.320Z"
   },
   {
    "duration": 0,
    "start_time": "2023-03-25T16:36:04.644Z"
   },
   {
    "duration": 0,
    "start_time": "2023-03-25T16:36:04.645Z"
   },
   {
    "duration": 390,
    "start_time": "2023-03-25T16:37:01.085Z"
   },
   {
    "duration": 72,
    "start_time": "2023-03-25T16:37:58.908Z"
   },
   {
    "duration": 60,
    "start_time": "2023-03-25T16:38:01.779Z"
   },
   {
    "duration": 177,
    "start_time": "2023-03-25T16:38:27.101Z"
   },
   {
    "duration": 346,
    "start_time": "2023-03-25T16:53:02.236Z"
   },
   {
    "duration": 332,
    "start_time": "2023-03-25T16:56:27.243Z"
   },
   {
    "duration": 68,
    "start_time": "2023-03-25T16:56:29.486Z"
   },
   {
    "duration": 55,
    "start_time": "2023-03-25T16:56:31.836Z"
   },
   {
    "duration": 184,
    "start_time": "2023-03-25T16:56:37.275Z"
   },
   {
    "duration": 50,
    "start_time": "2023-03-26T19:25:58.667Z"
   },
   {
    "duration": 4,
    "start_time": "2023-03-26T19:26:16.991Z"
   },
   {
    "duration": 44,
    "start_time": "2023-03-26T19:26:28.284Z"
   },
   {
    "duration": 5,
    "start_time": "2023-03-26T19:26:33.231Z"
   },
   {
    "duration": 4,
    "start_time": "2023-03-26T19:26:35.910Z"
   },
   {
    "duration": 5,
    "start_time": "2023-03-26T19:26:38.039Z"
   },
   {
    "duration": 7,
    "start_time": "2023-03-26T19:27:05.367Z"
   },
   {
    "duration": 6,
    "start_time": "2023-03-26T19:27:24.839Z"
   },
   {
    "duration": 7,
    "start_time": "2023-03-26T19:30:08.207Z"
   },
   {
    "duration": 9,
    "start_time": "2023-03-26T19:35:22.576Z"
   },
   {
    "duration": 1439,
    "start_time": "2023-03-26T19:35:29.111Z"
   },
   {
    "duration": 374,
    "start_time": "2023-03-26T19:35:30.551Z"
   },
   {
    "duration": 12,
    "start_time": "2023-03-26T19:35:30.926Z"
   },
   {
    "duration": 57,
    "start_time": "2023-03-26T19:35:30.940Z"
   },
   {
    "duration": 9,
    "start_time": "2023-03-26T19:35:30.998Z"
   },
   {
    "duration": 37,
    "start_time": "2023-03-26T19:35:31.008Z"
   },
   {
    "duration": 27,
    "start_time": "2023-03-26T19:35:31.047Z"
   },
   {
    "duration": 58,
    "start_time": "2023-03-26T19:35:31.076Z"
   },
   {
    "duration": 68,
    "start_time": "2023-03-26T19:35:31.135Z"
   },
   {
    "duration": 5,
    "start_time": "2023-03-26T19:35:31.206Z"
   },
   {
    "duration": 13,
    "start_time": "2023-03-26T19:35:31.212Z"
   },
   {
    "duration": 21,
    "start_time": "2023-03-26T19:35:31.226Z"
   },
   {
    "duration": 43,
    "start_time": "2023-03-26T19:35:31.249Z"
   },
   {
    "duration": 5110,
    "start_time": "2023-03-26T19:35:31.293Z"
   },
   {
    "duration": 4,
    "start_time": "2023-03-26T19:35:36.405Z"
   },
   {
    "duration": 130,
    "start_time": "2023-03-26T19:35:36.410Z"
   },
   {
    "duration": 5,
    "start_time": "2023-03-26T19:35:36.542Z"
   },
   {
    "duration": 22,
    "start_time": "2023-03-26T19:35:36.549Z"
   },
   {
    "duration": 33,
    "start_time": "2023-03-26T19:35:36.573Z"
   },
   {
    "duration": 4,
    "start_time": "2023-03-26T19:35:36.608Z"
   },
   {
    "duration": 5,
    "start_time": "2023-03-26T19:35:36.613Z"
   },
   {
    "duration": 7,
    "start_time": "2023-03-26T19:35:36.619Z"
   },
   {
    "duration": 4,
    "start_time": "2023-03-26T19:35:36.627Z"
   },
   {
    "duration": 3,
    "start_time": "2023-03-26T19:35:36.632Z"
   },
   {
    "duration": 37,
    "start_time": "2023-03-26T19:35:36.637Z"
   },
   {
    "duration": 11,
    "start_time": "2023-03-26T19:35:36.675Z"
   },
   {
    "duration": 38,
    "start_time": "2023-03-26T19:35:36.687Z"
   },
   {
    "duration": 3,
    "start_time": "2023-03-26T19:35:36.729Z"
   },
   {
    "duration": 8703,
    "start_time": "2023-03-26T19:35:36.733Z"
   },
   {
    "duration": 7,
    "start_time": "2023-03-26T19:35:45.437Z"
   },
   {
    "duration": 186345,
    "start_time": "2023-03-26T19:35:45.446Z"
   },
   {
    "duration": 27,
    "start_time": "2023-03-26T19:38:51.793Z"
   },
   {
    "duration": 456,
    "start_time": "2023-03-26T19:38:51.821Z"
   },
   {
    "duration": 89,
    "start_time": "2023-03-26T19:38:52.286Z"
   },
   {
    "duration": 479,
    "start_time": "2023-03-26T19:38:52.381Z"
   },
   {
    "duration": 84,
    "start_time": "2023-03-26T19:40:06.887Z"
   },
   {
    "duration": 80,
    "start_time": "2023-03-26T19:40:14.463Z"
   },
   {
    "duration": 13,
    "start_time": "2023-03-26T19:40:30.982Z"
   },
   {
    "duration": 12,
    "start_time": "2023-03-26T19:40:43.873Z"
   },
   {
    "duration": 13,
    "start_time": "2023-03-26T19:40:59.169Z"
   },
   {
    "duration": 210,
    "start_time": "2023-03-26T19:41:12.127Z"
   },
   {
    "duration": 131,
    "start_time": "2023-03-26T19:42:56.182Z"
   },
   {
    "duration": 142,
    "start_time": "2023-03-26T19:43:04.528Z"
   },
   {
    "duration": 97,
    "start_time": "2023-03-26T19:43:45.692Z"
   },
   {
    "duration": 4,
    "start_time": "2023-03-26T19:44:29.558Z"
   },
   {
    "duration": 8,
    "start_time": "2023-03-26T19:44:32.138Z"
   },
   {
    "duration": 9,
    "start_time": "2023-03-26T19:44:34.246Z"
   },
   {
    "duration": 8,
    "start_time": "2023-03-26T19:44:36.756Z"
   },
   {
    "duration": 5,
    "start_time": "2023-03-26T19:45:02.818Z"
   },
   {
    "duration": 122,
    "start_time": "2023-03-26T19:45:49.058Z"
   },
   {
    "duration": 139,
    "start_time": "2023-03-26T19:46:02.621Z"
   },
   {
    "duration": 12,
    "start_time": "2023-03-26T19:46:22.788Z"
   },
   {
    "duration": 6,
    "start_time": "2023-03-26T19:46:24.987Z"
   },
   {
    "duration": 122,
    "start_time": "2023-03-26T19:46:27.686Z"
   },
   {
    "duration": 11,
    "start_time": "2023-03-26T19:46:32.765Z"
   },
   {
    "duration": 5,
    "start_time": "2023-03-26T19:46:34.139Z"
   },
   {
    "duration": 103,
    "start_time": "2023-03-26T19:46:35.795Z"
   },
   {
    "duration": 9,
    "start_time": "2023-03-26T19:46:41.546Z"
   },
   {
    "duration": 7,
    "start_time": "2023-03-26T19:46:42.698Z"
   },
   {
    "duration": 91,
    "start_time": "2023-03-26T19:46:43.940Z"
   },
   {
    "duration": 8,
    "start_time": "2023-03-26T19:46:50.886Z"
   },
   {
    "duration": 6,
    "start_time": "2023-03-26T19:46:53.291Z"
   },
   {
    "duration": 98,
    "start_time": "2023-03-26T19:46:54.436Z"
   },
   {
    "duration": 9,
    "start_time": "2023-03-26T19:46:59.955Z"
   },
   {
    "duration": 5,
    "start_time": "2023-03-26T19:47:01.314Z"
   },
   {
    "duration": 92,
    "start_time": "2023-03-26T19:47:02.443Z"
   },
   {
    "duration": 106,
    "start_time": "2023-03-26T19:48:05.300Z"
   },
   {
    "duration": 8,
    "start_time": "2023-03-26T19:48:51.026Z"
   },
   {
    "duration": 8,
    "start_time": "2023-03-26T19:49:49.596Z"
   },
   {
    "duration": 10,
    "start_time": "2023-03-26T19:49:52.170Z"
   },
   {
    "duration": 10,
    "start_time": "2023-03-26T19:49:59.251Z"
   },
   {
    "duration": 4,
    "start_time": "2023-03-26T19:50:01.522Z"
   },
   {
    "duration": 8,
    "start_time": "2023-03-26T19:50:04.785Z"
   },
   {
    "duration": 6,
    "start_time": "2023-03-26T19:50:06.762Z"
   },
   {
    "duration": 180,
    "start_time": "2023-03-26T19:50:09.042Z"
   },
   {
    "duration": 53,
    "start_time": "2023-03-26T19:53:09.848Z"
   },
   {
    "duration": 13,
    "start_time": "2023-03-26T19:58:37.128Z"
   },
   {
    "duration": 13557,
    "start_time": "2023-03-26T20:01:08.314Z"
   },
   {
    "duration": 2259,
    "start_time": "2023-03-26T20:01:21.873Z"
   },
   {
    "duration": 15968,
    "start_time": "2023-03-26T20:02:00.912Z"
   },
   {
    "duration": 762,
    "start_time": "2023-03-26T20:15:59.089Z"
   },
   {
    "duration": 1284,
    "start_time": "2023-03-26T20:16:46.224Z"
   },
   {
    "duration": 1437,
    "start_time": "2023-03-26T20:16:57.544Z"
   },
   {
    "duration": 1570,
    "start_time": "2023-03-26T20:17:09.417Z"
   },
   {
    "duration": 1735,
    "start_time": "2023-03-26T20:17:19.857Z"
   },
   {
    "duration": 902,
    "start_time": "2023-03-26T20:19:05.672Z"
   },
   {
    "duration": 1243,
    "start_time": "2023-03-26T20:19:14.286Z"
   },
   {
    "duration": 893,
    "start_time": "2023-03-26T20:20:09.819Z"
   },
   {
    "duration": 106,
    "start_time": "2023-03-26T20:20:25.289Z"
   },
   {
    "duration": 1270,
    "start_time": "2023-03-26T20:20:31.528Z"
   }
  ],
  "kernelspec": {
   "display_name": "Python 3 (ipykernel)",
   "language": "python",
   "name": "python3"
  },
  "language_info": {
   "codemirror_mode": {
    "name": "ipython",
    "version": 3
   },
   "file_extension": ".py",
   "mimetype": "text/x-python",
   "name": "python",
   "nbconvert_exporter": "python",
   "pygments_lexer": "ipython3",
   "version": "3.9.13"
  },
  "toc": {
   "base_numbering": 1,
   "nav_menu": {},
   "number_sections": true,
   "sideBar": true,
   "skip_h1_title": true,
   "title_cell": "Содержание",
   "title_sidebar": "Contents",
   "toc_cell": true,
   "toc_position": {
    "height": "calc(100% - 180px)",
    "left": "10px",
    "top": "150px",
    "width": "283.082px"
   },
   "toc_section_display": true,
   "toc_window_display": true
  }
 },
 "nbformat": 4,
 "nbformat_minor": 2
}
